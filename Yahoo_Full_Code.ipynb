{
  "nbformat": 4,
  "nbformat_minor": 0,
  "metadata": {
    "colab": {
      "provenance": []
    },
    "kernelspec": {
      "name": "python3",
      "display_name": "Python 3"
    },
    "language_info": {
      "name": "python"
    }
  },
  "cells": [
    {
      "cell_type": "markdown",
      "source": [
        "# **Initial Setup of Portfolio**"
      ],
      "metadata": {
        "id": "9DubTC-H-PYx"
      }
    },
    {
      "cell_type": "code",
      "execution_count": null,
      "metadata": {
        "colab": {
          "base_uri": "https://localhost:8080/"
        },
        "id": "Cn377ftXsZ4v",
        "outputId": "0ddcdbc3-3759-455a-c203-f1faed7d7b68"
      },
      "outputs": [
        {
          "output_type": "stream",
          "name": "stdout",
          "text": [
            "Mounted at /content/gdrive\n"
          ]
        }
      ],
      "source": [
        "from google.colab import drive\n",
        "\n",
        "drive.mount('/content/gdrive')\n",
        "\n",
        "save_path = \"/content/gdrive/MyDrive/XML Qns/\""
      ]
    },
    {
      "cell_type": "code",
      "source": [
        "!pip install selenium\n",
        "from selenium import webdriver\n",
        "!apt-get install chromium-driver\n",
        "!pip install pyodbc"
      ],
      "metadata": {
        "colab": {
          "base_uri": "https://localhost:8080/"
        },
        "id": "rA4WVJoksnx6",
        "outputId": "7af03aaa-6171-4434-8af8-ec18c2e0f3b8"
      },
      "execution_count": null,
      "outputs": [
        {
          "output_type": "stream",
          "name": "stdout",
          "text": [
            "Collecting selenium\n",
            "  Downloading selenium-4.25.0-py3-none-any.whl.metadata (7.1 kB)\n",
            "Requirement already satisfied: urllib3<3,>=1.26 in /usr/local/lib/python3.10/dist-packages (from urllib3[socks]<3,>=1.26->selenium) (2.2.3)\n",
            "Collecting trio~=0.17 (from selenium)\n",
            "  Downloading trio-0.27.0-py3-none-any.whl.metadata (8.6 kB)\n",
            "Collecting trio-websocket~=0.9 (from selenium)\n",
            "  Downloading trio_websocket-0.11.1-py3-none-any.whl.metadata (4.7 kB)\n",
            "Requirement already satisfied: certifi>=2021.10.8 in /usr/local/lib/python3.10/dist-packages (from selenium) (2024.8.30)\n",
            "Requirement already satisfied: typing_extensions~=4.9 in /usr/local/lib/python3.10/dist-packages (from selenium) (4.12.2)\n",
            "Requirement already satisfied: websocket-client~=1.8 in /usr/local/lib/python3.10/dist-packages (from selenium) (1.8.0)\n",
            "Requirement already satisfied: attrs>=23.2.0 in /usr/local/lib/python3.10/dist-packages (from trio~=0.17->selenium) (24.2.0)\n",
            "Collecting sortedcontainers (from trio~=0.17->selenium)\n",
            "  Downloading sortedcontainers-2.4.0-py2.py3-none-any.whl.metadata (10 kB)\n",
            "Requirement already satisfied: idna in /usr/local/lib/python3.10/dist-packages (from trio~=0.17->selenium) (3.10)\n",
            "Collecting outcome (from trio~=0.17->selenium)\n",
            "  Downloading outcome-1.3.0.post0-py2.py3-none-any.whl.metadata (2.6 kB)\n",
            "Requirement already satisfied: sniffio>=1.3.0 in /usr/local/lib/python3.10/dist-packages (from trio~=0.17->selenium) (1.3.1)\n",
            "Requirement already satisfied: exceptiongroup in /usr/local/lib/python3.10/dist-packages (from trio~=0.17->selenium) (1.2.2)\n",
            "Collecting wsproto>=0.14 (from trio-websocket~=0.9->selenium)\n",
            "  Downloading wsproto-1.2.0-py3-none-any.whl.metadata (5.6 kB)\n",
            "Requirement already satisfied: pysocks!=1.5.7,<2.0,>=1.5.6 in /usr/local/lib/python3.10/dist-packages (from urllib3[socks]<3,>=1.26->selenium) (1.7.1)\n",
            "Collecting h11<1,>=0.9.0 (from wsproto>=0.14->trio-websocket~=0.9->selenium)\n",
            "  Downloading h11-0.14.0-py3-none-any.whl.metadata (8.2 kB)\n",
            "Downloading selenium-4.25.0-py3-none-any.whl (9.7 MB)\n",
            "\u001b[2K   \u001b[90m━━━━━━━━━━━━━━━━━━━━━━━━━━━━━━━━━━━━━━━━\u001b[0m \u001b[32m9.7/9.7 MB\u001b[0m \u001b[31m49.6 MB/s\u001b[0m eta \u001b[36m0:00:00\u001b[0m\n",
            "\u001b[?25hDownloading trio-0.27.0-py3-none-any.whl (481 kB)\n",
            "\u001b[2K   \u001b[90m━━━━━━━━━━━━━━━━━━━━━━━━━━━━━━━━━━━━━━━━\u001b[0m \u001b[32m481.7/481.7 kB\u001b[0m \u001b[31m27.0 MB/s\u001b[0m eta \u001b[36m0:00:00\u001b[0m\n",
            "\u001b[?25hDownloading trio_websocket-0.11.1-py3-none-any.whl (17 kB)\n",
            "Downloading wsproto-1.2.0-py3-none-any.whl (24 kB)\n",
            "Downloading outcome-1.3.0.post0-py2.py3-none-any.whl (10 kB)\n",
            "Downloading sortedcontainers-2.4.0-py2.py3-none-any.whl (29 kB)\n",
            "Downloading h11-0.14.0-py3-none-any.whl (58 kB)\n",
            "\u001b[2K   \u001b[90m━━━━━━━━━━━━━━━━━━━━━━━━━━━━━━━━━━━━━━━━\u001b[0m \u001b[32m58.3/58.3 kB\u001b[0m \u001b[31m3.4 MB/s\u001b[0m eta \u001b[36m0:00:00\u001b[0m\n",
            "\u001b[?25hInstalling collected packages: sortedcontainers, outcome, h11, wsproto, trio, trio-websocket, selenium\n",
            "Successfully installed h11-0.14.0 outcome-1.3.0.post0 selenium-4.25.0 sortedcontainers-2.4.0 trio-0.27.0 trio-websocket-0.11.1 wsproto-1.2.0\n",
            "Reading package lists... Done\n",
            "Building dependency tree... Done\n",
            "Reading state information... Done\n",
            "Note, selecting 'chromium-chromedriver' instead of 'chromium-driver'\n",
            "The following additional packages will be installed:\n",
            "  apparmor chromium-browser libfuse3-3 liblzo2-2 libudev1 snapd squashfs-tools systemd-hwe-hwdb\n",
            "  udev\n",
            "Suggested packages:\n",
            "  apparmor-profiles-extra apparmor-utils fuse3 zenity | kdialog\n",
            "The following NEW packages will be installed:\n",
            "  apparmor chromium-browser chromium-chromedriver libfuse3-3 liblzo2-2 snapd squashfs-tools\n",
            "  systemd-hwe-hwdb udev\n",
            "The following packages will be upgraded:\n",
            "  libudev1\n",
            "1 upgraded, 9 newly installed, 0 to remove and 48 not upgraded.\n",
            "Need to get 29.0 MB of archives.\n",
            "After this operation, 120 MB of additional disk space will be used.\n",
            "Get:1 http://archive.ubuntu.com/ubuntu jammy-updates/main amd64 apparmor amd64 3.0.4-2ubuntu2.4 [598 kB]\n",
            "Get:2 http://archive.ubuntu.com/ubuntu jammy/main amd64 liblzo2-2 amd64 2.10-2build3 [53.7 kB]\n",
            "Get:3 http://archive.ubuntu.com/ubuntu jammy/main amd64 squashfs-tools amd64 1:4.5-3build1 [159 kB]\n",
            "Get:4 http://archive.ubuntu.com/ubuntu jammy-updates/main amd64 libudev1 amd64 249.11-0ubuntu3.12 [78.2 kB]\n",
            "Get:5 http://archive.ubuntu.com/ubuntu jammy-updates/main amd64 udev amd64 249.11-0ubuntu3.12 [1,557 kB]\n",
            "Get:6 http://archive.ubuntu.com/ubuntu jammy/main amd64 libfuse3-3 amd64 3.10.5-1build1 [81.2 kB]\n",
            "Get:7 http://archive.ubuntu.com/ubuntu jammy-updates/main amd64 snapd amd64 2.65.3+22.04 [26.4 MB]\n",
            "Get:8 http://archive.ubuntu.com/ubuntu jammy-updates/universe amd64 chromium-browser amd64 1:85.0.4183.83-0ubuntu2.22.04.1 [49.2 kB]\n",
            "Get:9 http://archive.ubuntu.com/ubuntu jammy-updates/universe amd64 chromium-chromedriver amd64 1:85.0.4183.83-0ubuntu2.22.04.1 [2,308 B]\n",
            "Get:10 http://archive.ubuntu.com/ubuntu jammy-updates/main amd64 systemd-hwe-hwdb all 249.11.5 [3,228 B]\n",
            "Fetched 29.0 MB in 2s (11.7 MB/s)\n",
            "Preconfiguring packages ...\n",
            "Selecting previously unselected package apparmor.\n",
            "(Reading database ... 123629 files and directories currently installed.)\n",
            "Preparing to unpack .../apparmor_3.0.4-2ubuntu2.4_amd64.deb ...\n",
            "Unpacking apparmor (3.0.4-2ubuntu2.4) ...\n",
            "Selecting previously unselected package liblzo2-2:amd64.\n",
            "Preparing to unpack .../liblzo2-2_2.10-2build3_amd64.deb ...\n",
            "Unpacking liblzo2-2:amd64 (2.10-2build3) ...\n",
            "Selecting previously unselected package squashfs-tools.\n",
            "Preparing to unpack .../squashfs-tools_1%3a4.5-3build1_amd64.deb ...\n",
            "Unpacking squashfs-tools (1:4.5-3build1) ...\n",
            "Preparing to unpack .../libudev1_249.11-0ubuntu3.12_amd64.deb ...\n",
            "Unpacking libudev1:amd64 (249.11-0ubuntu3.12) over (249.11-0ubuntu3.10) ...\n",
            "Setting up libudev1:amd64 (249.11-0ubuntu3.12) ...\n",
            "Selecting previously unselected package udev.\n",
            "(Reading database ... 123837 files and directories currently installed.)\n",
            "Preparing to unpack .../udev_249.11-0ubuntu3.12_amd64.deb ...\n",
            "Unpacking udev (249.11-0ubuntu3.12) ...\n",
            "Selecting previously unselected package libfuse3-3:amd64.\n",
            "Preparing to unpack .../libfuse3-3_3.10.5-1build1_amd64.deb ...\n",
            "Unpacking libfuse3-3:amd64 (3.10.5-1build1) ...\n",
            "Selecting previously unselected package snapd.\n",
            "Preparing to unpack .../snapd_2.65.3+22.04_amd64.deb ...\n",
            "Unpacking snapd (2.65.3+22.04) ...\n",
            "Setting up apparmor (3.0.4-2ubuntu2.4) ...\n",
            "Created symlink /etc/systemd/system/sysinit.target.wants/apparmor.service → /lib/systemd/system/apparmor.service.\n",
            "Setting up liblzo2-2:amd64 (2.10-2build3) ...\n",
            "Setting up squashfs-tools (1:4.5-3build1) ...\n",
            "Setting up udev (249.11-0ubuntu3.12) ...\n",
            "invoke-rc.d: could not determine current runlevel\n",
            "invoke-rc.d: policy-rc.d denied execution of start.\n",
            "Setting up libfuse3-3:amd64 (3.10.5-1build1) ...\n",
            "Setting up snapd (2.65.3+22.04) ...\n",
            "Created symlink /etc/systemd/system/multi-user.target.wants/snapd.apparmor.service → /lib/systemd/system/snapd.apparmor.service.\n",
            "Created symlink /etc/systemd/system/multi-user.target.wants/snapd.autoimport.service → /lib/systemd/system/snapd.autoimport.service.\n",
            "Created symlink /etc/systemd/system/multi-user.target.wants/snapd.core-fixup.service → /lib/systemd/system/snapd.core-fixup.service.\n",
            "Created symlink /etc/systemd/system/multi-user.target.wants/snapd.recovery-chooser-trigger.service → /lib/systemd/system/snapd.recovery-chooser-trigger.service.\n",
            "Created symlink /etc/systemd/system/multi-user.target.wants/snapd.seeded.service → /lib/systemd/system/snapd.seeded.service.\n",
            "Created symlink /etc/systemd/system/cloud-final.service.wants/snapd.seeded.service → /lib/systemd/system/snapd.seeded.service.\n",
            "Unit /lib/systemd/system/snapd.seeded.service is added as a dependency to a non-existent unit cloud-final.service.\n",
            "Created symlink /etc/systemd/system/multi-user.target.wants/snapd.service → /lib/systemd/system/snapd.service.\n",
            "Created symlink /etc/systemd/system/timers.target.wants/snapd.snap-repair.timer → /lib/systemd/system/snapd.snap-repair.timer.\n",
            "Created symlink /etc/systemd/system/sockets.target.wants/snapd.socket → /lib/systemd/system/snapd.socket.\n",
            "Created symlink /etc/systemd/system/final.target.wants/snapd.system-shutdown.service → /lib/systemd/system/snapd.system-shutdown.service.\n",
            "Selecting previously unselected package chromium-browser.\n",
            "(Reading database ... 124066 files and directories currently installed.)\n",
            "Preparing to unpack .../chromium-browser_1%3a85.0.4183.83-0ubuntu2.22.04.1_amd64.deb ...\n",
            "=> Installing the chromium snap\n",
            "==> Checking connectivity with the snap store\n",
            "===> System doesn't have a working snapd, skipping\n",
            "Unpacking chromium-browser (1:85.0.4183.83-0ubuntu2.22.04.1) ...\n",
            "Selecting previously unselected package chromium-chromedriver.\n",
            "Preparing to unpack .../chromium-chromedriver_1%3a85.0.4183.83-0ubuntu2.22.04.1_amd64.deb ...\n",
            "Unpacking chromium-chromedriver (1:85.0.4183.83-0ubuntu2.22.04.1) ...\n",
            "Selecting previously unselected package systemd-hwe-hwdb.\n",
            "Preparing to unpack .../systemd-hwe-hwdb_249.11.5_all.deb ...\n",
            "Unpacking systemd-hwe-hwdb (249.11.5) ...\n",
            "Setting up systemd-hwe-hwdb (249.11.5) ...\n",
            "Setting up chromium-browser (1:85.0.4183.83-0ubuntu2.22.04.1) ...\n",
            "update-alternatives: using /usr/bin/chromium-browser to provide /usr/bin/x-www-browser (x-www-browser) in auto mode\n",
            "update-alternatives: using /usr/bin/chromium-browser to provide /usr/bin/gnome-www-browser (gnome-www-browser) in auto mode\n",
            "Setting up chromium-chromedriver (1:85.0.4183.83-0ubuntu2.22.04.1) ...\n",
            "Processing triggers for udev (249.11-0ubuntu3.12) ...\n",
            "Processing triggers for hicolor-icon-theme (0.17-2) ...\n",
            "Processing triggers for libc-bin (2.35-0ubuntu3.4) ...\n",
            "/sbin/ldconfig.real: /usr/local/lib/libtbbbind.so.3 is not a symbolic link\n",
            "\n",
            "/sbin/ldconfig.real: /usr/local/lib/libur_adapter_opencl.so.0 is not a symbolic link\n",
            "\n",
            "/sbin/ldconfig.real: /usr/local/lib/libtbb.so.12 is not a symbolic link\n",
            "\n",
            "/sbin/ldconfig.real: /usr/local/lib/libtbbbind_2_5.so.3 is not a symbolic link\n",
            "\n",
            "/sbin/ldconfig.real: /usr/local/lib/libur_adapter_level_zero.so.0 is not a symbolic link\n",
            "\n",
            "/sbin/ldconfig.real: /usr/local/lib/libur_loader.so.0 is not a symbolic link\n",
            "\n",
            "/sbin/ldconfig.real: /usr/local/lib/libtbbmalloc.so.2 is not a symbolic link\n",
            "\n",
            "/sbin/ldconfig.real: /usr/local/lib/libtbbmalloc_proxy.so.2 is not a symbolic link\n",
            "\n",
            "/sbin/ldconfig.real: /usr/local/lib/libtbbbind_2_0.so.3 is not a symbolic link\n",
            "\n",
            "Processing triggers for man-db (2.10.2-1) ...\n",
            "Processing triggers for dbus (1.12.20-2ubuntu4.1) ...\n"
          ]
        }
      ]
    },
    {
      "cell_type": "code",
      "source": [
        "import pandas as pd\n",
        "import time\n",
        "import re\n",
        "import os\n",
        "import pyodbc\n",
        "import pytz\n",
        "import numpy as np\n",
        "import statistics\n",
        "from math import *\n",
        "from datetime import datetime, timedelta\n",
        "from selenium import webdriver\n",
        "from selenium.webdriver.common.by import By\n",
        "from selenium.webdriver.common.action_chains import ActionChains\n",
        "from selenium.webdriver.common.keys import Keys"
      ],
      "metadata": {
        "id": "Hy002SrcspVS"
      },
      "execution_count": null,
      "outputs": []
    },
    {
      "cell_type": "code",
      "source": [
        "def web_driver():\n",
        "  options = webdriver.ChromeOptions()\n",
        "  options.add_argument(\"--verbose\")\n",
        "  options.add_argument(\"--no-sandbox\")\n",
        "  options.add_argument(\"--headless\")\n",
        "  options.add_argument(\"--disable-gpu\")\n",
        "  options.add_argument(\"--window-soze = 1920, 1200\")\n",
        "  options.add_argument(\"--disable-dev-shm-usage\")\n",
        "  driver = webdriver.Chrome(options = options)\n",
        "  return driver\n",
        "\n",
        "driver = web_driver()\n",
        "\n",
        "def N(x):\n",
        "  #'Cumulative distribution function for the standard normal distribution'\n",
        "  return (1.0 + erf(x / sqrt(2.0))) / 2.0\n",
        "\n",
        "def deltac(S, K, r, y, τ, σ):\n",
        "  d1 = 1/(σ * np.sqrt(τ)) * (np.log(S * np.exp(-y * (τ)) / K) + (r - y + σ**2/2)*(τ) )\n",
        "  return np.exp(-y * τ) * N(d1)\n",
        "\n",
        "def c(S, K, r, y, τ, σ):\n",
        "  d1 = 1/(σ * np.sqrt(τ)) * (np.log(S * np.exp(-y * (τ)) / K) + (r - y + σ**2/2)*(τ) )\n",
        "  d2 = d1 - σ * np.sqrt(τ)\n",
        "  return S * np.exp(-y * (τ)) * N(d1) - K * np.exp(-r * (τ)) * N(d2)\n",
        "\n",
        "time_sleep = 0.7"
      ],
      "metadata": {
        "id": "7B3NecAAsr9p"
      },
      "execution_count": null,
      "outputs": []
    },
    {
      "cell_type": "code",
      "source": [
        "#stock to search\n",
        "option = 'NVDA250117C00140000'\n",
        "ticker = 'NVDA'\n",
        "r = 0.0034 #risk free sg rate as of oct 2024"
      ],
      "metadata": {
        "id": "5NjdKgVIvBpt"
      },
      "execution_count": null,
      "outputs": []
    },
    {
      "cell_type": "code",
      "source": [
        "url = \"https://sg.finance.yahoo.com/\"\n",
        "\n",
        "# Open the webpage\n",
        "driver.get(url)\n",
        "\n",
        "# Wait for the page to load\n",
        "time.sleep(0.1)\n",
        "\n",
        "# get search button element\n",
        "search = driver.find_element(By.XPATH, '//*[@id=\"header-quote-lookup\"]/div/form/input')\n",
        "# create action chain object\n",
        "action = ActionChains(driver)\n",
        "# click the item\n",
        "action.click(on_element = search)\n",
        "# perform the operation\n",
        "action.perform()\n",
        "\n",
        "\n",
        "#search ticker\n",
        "search.send_keys(ticker)\n",
        "search.send_keys(Keys.ENTER)\n",
        "time.sleep(time_sleep)\n",
        "\n",
        "S = float(driver.find_elements(By.XPATH, '/html/body/div[2]/main/section/section/section/article/section[1]/div[2]/div[1]/section/div/section[1]/div[1]/fin-streamer[1]')[0].text.splitlines()[0])\n",
        "\n",
        "y = float(re.findall(r'\\(.*?\\)', driver.find_elements(By.XPATH, '//*[@id=\"nimbus-app\"]/section/section/section/article/div[2]')[0].text.splitlines()[27])[0][1:-2]) / 100\n",
        "\n",
        "print(\"Stock Price:\", S)\n",
        "print(\"Dividend Yield:\", y)"
      ],
      "metadata": {
        "colab": {
          "base_uri": "https://localhost:8080/"
        },
        "id": "g2_mANousu-C",
        "outputId": "8ecfda6d-9f42-47f2-c324-6c19be06e6fa"
      },
      "execution_count": null,
      "outputs": [
        {
          "output_type": "stream",
          "name": "stdout",
          "text": [
            "Stock Price: 138.0\n",
            "Dividend Yield: 0.0003\n"
          ]
        }
      ]
    },
    {
      "cell_type": "markdown",
      "source": [
        "Calculate 20 day annualized volatility"
      ],
      "metadata": {
        "id": "eEeVraypVKyC"
      }
    },
    {
      "cell_type": "code",
      "source": [
        "# get historical data for volatility\n",
        "historical = driver.find_element(By.XPATH, '//*[@id=\"nimbus-app\"]/section/section/aside/section/nav/ul/li[5]/a')\n",
        "# create action chain object\n",
        "action = ActionChains(driver)\n",
        "# click the item\n",
        "action.click(on_element = historical)\n",
        "# perform the operation\n",
        "action.perform()\n",
        "\n",
        "time.sleep(time_sleep)\n",
        "\n",
        "#20 day average volatility\n",
        "days = 20\n",
        "\n",
        "historical_table = driver.find_elements(By.XPATH, '//*[@id=\"nimbus-app\"]/section/section/section/article/div[1]/div[3]/table')[0].text.splitlines()\n",
        "\n",
        "#print(\"historical_table:\", historical_table)\n",
        "\n",
        "vol_row_log = []\n",
        "Y = []\n",
        "\n",
        "for i in range(days):\n",
        "  adj_close = float((historical_table[i + 3].split())[-2])\n",
        "\n",
        "  #print(adj_close)\n",
        "  vol_row_log.append(log(adj_close))\n",
        "\n",
        "#print(\"vol_row_log:\", vol_row_log)\n",
        "\n",
        "for i in range(days - 1):\n",
        "  Y.append(vol_row_log[i] - vol_row_log[i+1])\n",
        "\n",
        "#print(\"Y:\", Y)\n",
        "\n",
        "Y_avg = statistics.fmean(Y)\n",
        "#print('Y_avg:',Y_avg)\n",
        "\n",
        "vol = sqrt(sum((np.array(Y) - Y_avg)**2) / (days - 1)) * sqrt(252)\n",
        "print(\"20 day volatility\", vol)"
      ],
      "metadata": {
        "id": "n_9iFzK5hmz1",
        "colab": {
          "base_uri": "https://localhost:8080/"
        },
        "outputId": "b12e3202-28c2-4765-c9fa-b3fa4f87351a"
      },
      "execution_count": null,
      "outputs": [
        {
          "output_type": "stream",
          "name": "stdout",
          "text": [
            "20 day volatility 0.36816474112075825\n"
          ]
        }
      ]
    },
    {
      "cell_type": "code",
      "source": [
        "#go to options page\n",
        "url = \"https://sg.finance.yahoo.com/quote/\"+ option + \"/\"\n",
        "\n",
        "# Open the webpage\n",
        "driver.get(url)\n",
        "\n",
        "# Wait for the page to load\n",
        "time.sleep(0.3)\n",
        "\n",
        "option_table = driver.find_elements(By.XPATH, '//*[@id=\"nimbus-app\"]/section/section/section/article/div[2]')[0].text.splitlines()\n",
        "\n",
        "K = float(option_table[9])\n",
        "maturity = datetime.combine(datetime.strptime(option_table[11], '%Y-%m-%d').date(), datetime.strptime(\"11:59:00\", '%H:%M:%S').time()) #add 11:59:00 to maturity date\n",
        "print(option_table)\n",
        "\n",
        "call_price = float(driver.find_elements(By.XPATH, '//*[@id=\"nimbus-app\"]/section/section/section/article/section[1]/div[2]/div[1]/section/div/section/div[1]/fin-streamer[1]')[0].text.splitlines()[0])\n",
        "\n",
        "print(\"Strike_Price:\", K)\n",
        "print(\"call_price:\", call_price)\n",
        "print(\"Maturity:\", maturity)"
      ],
      "metadata": {
        "colab": {
          "base_uri": "https://localhost:8080/"
        },
        "id": "3b3FSW_W2vnU",
        "outputId": "9553f54f-ca24-4285-e5f2-1b728549d5ad"
      },
      "execution_count": null,
      "outputs": [
        {
          "output_type": "stream",
          "name": "stdout",
          "text": [
            "['Previous close', '13.74', 'Open', '14.50', 'Bid', '13.90', 'Ask', '14.00', 'Strike', '140.00', 'Expiry date', '2025-01-17', \"Day's range\", '13.65 - 14.60', 'Contract range', '--', 'Volume', '6,534', 'Open interest', '63.42k']\n",
            "Strike_Price: 140.0\n",
            "call_price: 13.97\n",
            "Maturity: 2025-01-17 11:59:00\n"
          ]
        }
      ]
    },
    {
      "cell_type": "code",
      "source": [
        "# get_url = driver.current_url\n",
        "# print(\"The current url is:\"+str(get_url))"
      ],
      "metadata": {
        "colab": {
          "base_uri": "https://localhost:8080/"
        },
        "id": "8kfM5wqUxtZd",
        "outputId": "a2fe0de4-f9e2-4833-a7e4-a05216608f39"
      },
      "execution_count": null,
      "outputs": [
        {
          "output_type": "stream",
          "name": "stdout",
          "text": [
            "The current url is:https://sg.finance.yahoo.com/quote/NVDA241018C00020000/\n"
          ]
        }
      ]
    },
    {
      "cell_type": "code",
      "source": [
        "#current time\n",
        "date = datetime.now(tz=pytz.timezone('America/New_York')).replace(microsecond = 0).replace(tzinfo=None)\n",
        "print(\"NYC current date and time:\", date)\n",
        "\n",
        "time_to_maturity = maturity - date\n",
        "print(\"Time to maturity:\", time_to_maturity)\n",
        "print(time_to_maturity.days, \"days\", time_to_maturity.seconds, \"seconds\")\n",
        "\n",
        "#time to maturity (seconds)\n",
        "tau_seconds = float(time_to_maturity.days) * 24 * 3600 + float(time_to_maturity.seconds)\n",
        "print(tau_seconds, \"seconds\")\n",
        "\n",
        "#time to maturity (years)\n",
        "tau_years = tau_seconds / (365 * 24 * 3600)\n",
        "print(tau_years, \"years\")"
      ],
      "metadata": {
        "colab": {
          "base_uri": "https://localhost:8080/"
        },
        "id": "IsDu0E0ECupF",
        "outputId": "506d2fd9-815a-4510-9558-eab361e5a5d2"
      },
      "execution_count": null,
      "outputs": [
        {
          "output_type": "stream",
          "name": "stdout",
          "text": [
            "NYC current date and time: 2024-10-20 03:13:37\n",
            "Time to maturity: 89 days, 8:45:23\n",
            "89 days 31523 seconds\n",
            "7721123.0 seconds\n",
            "0.24483520421106036 years\n"
          ]
        }
      ]
    },
    {
      "cell_type": "code",
      "source": [
        "bsm_price = c(S, K, r, y, tau_years, vol)\n",
        "print(\"Call_price:\", call_price)\n",
        "print(\"BSM_price:\", bsm_price)"
      ],
      "metadata": {
        "colab": {
          "base_uri": "https://localhost:8080/"
        },
        "id": "Moc-7Xs4u4jw",
        "outputId": "ed92a58e-f26c-42ef-e901-bd19f1682696"
      },
      "execution_count": null,
      "outputs": [
        {
          "output_type": "stream",
          "name": "stdout",
          "text": [
            "Call_price: 13.97\n",
            "BSM_price: 9.164683873272118\n"
          ]
        }
      ]
    },
    {
      "cell_type": "code",
      "source": [
        "#number of shares to hold\n",
        "delta = deltac(S, K, r, y, tau_years, vol)\n",
        "print(\"Delta:\", delta)\n",
        "\n",
        "#value of shares\n",
        "value_of_shares = delta * S\n",
        "print(\"Value of shares:\", value_of_shares)\n",
        "\n",
        "#number of shares to buy\n",
        "print(\"Buy\", delta, \"shares of stock\")\n",
        "\n",
        "#amount to borrow from bank\n",
        "difference = delta * S - call_price\n",
        "print(\"Long difference of\", delta, \"*\", S, \"-\", call_price, \"from bank =\", -difference)"
      ],
      "metadata": {
        "colab": {
          "base_uri": "https://localhost:8080/"
        },
        "id": "TvahEJ9OvJH5",
        "outputId": "946c8e49-a113-4469-ab07-5464e9e94b7b"
      },
      "execution_count": null,
      "outputs": [
        {
          "output_type": "stream",
          "name": "stdout",
          "text": [
            "Delta: 0.5062912980168157\n",
            "Value of shares: 69.86819912632058\n",
            "Buy 0.5062912980168157 shares of stock\n",
            "Long difference of 0.5062912980168157 * 138.0 - 13.97 from bank = -55.89819912632058\n"
          ]
        }
      ]
    },
    {
      "cell_type": "code",
      "source": [
        "#wealth\n",
        "portfolio = delta * S - difference\n",
        "print(\"Value of replicating portfolio:\", portfolio)\n",
        "\n",
        "#profit\n",
        "profit = format(portfolio - call_price, '.10f')\n",
        "print(\"Profit\", profit)"
      ],
      "metadata": {
        "colab": {
          "base_uri": "https://localhost:8080/"
        },
        "id": "eXFrwBctwA9a",
        "outputId": "5ebff7dd-af66-4f7c-8095-021038c4ddd9"
      },
      "execution_count": null,
      "outputs": [
        {
          "output_type": "stream",
          "name": "stdout",
          "text": [
            "Value of replicating portfolio: 13.969999999999999\n",
            "Profit -0.0000000000\n"
          ]
        }
      ]
    },
    {
      "cell_type": "code",
      "source": [
        "#create dataframe\n",
        "df = pd.DataFrame()\n",
        "\n",
        "#create new portfolio entry\n",
        "row = [date, maturity, S, K, difference, r, y, vol, bsm_price, call_price, delta, portfolio, profit]\n",
        "\n",
        "df = pd.concat([df, pd.DataFrame([row])],axis=0, ignore_index=True)\n",
        "\n",
        "df.columns = ['Date_Time', 'Maturity', 'Stock_Price', 'Strike_Price', 'Amount_Borrowed_from_Bank', 'r', 'Dividend_Yield', 'Vol', 'BSM_Price', 'Call_Price', 'Delta', 'Wealth', 'Profit']\n",
        "\n",
        "df.head()"
      ],
      "metadata": {
        "colab": {
          "base_uri": "https://localhost:8080/",
          "height": 81
        },
        "id": "o8arbPZbETP-",
        "outputId": "9498ab73-7b51-434f-8ccd-5a824a7225ce"
      },
      "execution_count": null,
      "outputs": [
        {
          "output_type": "execute_result",
          "data": {
            "text/plain": [
              "            Date_Time            Maturity  Stock_Price  Strike_Price  \\\n",
              "0 2024-10-20 03:13:37 2025-01-17 11:59:00        138.0         140.0   \n",
              "\n",
              "   Amount_Borrowed_from_Bank       r  Dividend_Yield       Vol  BSM_Price  \\\n",
              "0                  55.898199  0.0034          0.0003  0.368165   9.164684   \n",
              "\n",
              "   Call_Price     Delta  Wealth         Profit  \n",
              "0       13.97  0.506291   13.97  -0.0000000000  "
            ],
            "text/html": [
              "\n",
              "  <div id=\"df-df637c66-49b0-495f-8fd3-ab8e166878e4\" class=\"colab-df-container\">\n",
              "    <div>\n",
              "<style scoped>\n",
              "    .dataframe tbody tr th:only-of-type {\n",
              "        vertical-align: middle;\n",
              "    }\n",
              "\n",
              "    .dataframe tbody tr th {\n",
              "        vertical-align: top;\n",
              "    }\n",
              "\n",
              "    .dataframe thead th {\n",
              "        text-align: right;\n",
              "    }\n",
              "</style>\n",
              "<table border=\"1\" class=\"dataframe\">\n",
              "  <thead>\n",
              "    <tr style=\"text-align: right;\">\n",
              "      <th></th>\n",
              "      <th>Date_Time</th>\n",
              "      <th>Maturity</th>\n",
              "      <th>Stock_Price</th>\n",
              "      <th>Strike_Price</th>\n",
              "      <th>Amount_Borrowed_from_Bank</th>\n",
              "      <th>r</th>\n",
              "      <th>Dividend_Yield</th>\n",
              "      <th>Vol</th>\n",
              "      <th>BSM_Price</th>\n",
              "      <th>Call_Price</th>\n",
              "      <th>Delta</th>\n",
              "      <th>Wealth</th>\n",
              "      <th>Profit</th>\n",
              "    </tr>\n",
              "  </thead>\n",
              "  <tbody>\n",
              "    <tr>\n",
              "      <th>0</th>\n",
              "      <td>2024-10-20 03:13:37</td>\n",
              "      <td>2025-01-17 11:59:00</td>\n",
              "      <td>138.0</td>\n",
              "      <td>140.0</td>\n",
              "      <td>55.898199</td>\n",
              "      <td>0.0034</td>\n",
              "      <td>0.0003</td>\n",
              "      <td>0.368165</td>\n",
              "      <td>9.164684</td>\n",
              "      <td>13.97</td>\n",
              "      <td>0.506291</td>\n",
              "      <td>13.97</td>\n",
              "      <td>-0.0000000000</td>\n",
              "    </tr>\n",
              "  </tbody>\n",
              "</table>\n",
              "</div>\n",
              "    <div class=\"colab-df-buttons\">\n",
              "\n",
              "  <div class=\"colab-df-container\">\n",
              "    <button class=\"colab-df-convert\" onclick=\"convertToInteractive('df-df637c66-49b0-495f-8fd3-ab8e166878e4')\"\n",
              "            title=\"Convert this dataframe to an interactive table.\"\n",
              "            style=\"display:none;\">\n",
              "\n",
              "  <svg xmlns=\"http://www.w3.org/2000/svg\" height=\"24px\" viewBox=\"0 -960 960 960\">\n",
              "    <path d=\"M120-120v-720h720v720H120Zm60-500h600v-160H180v160Zm220 220h160v-160H400v160Zm0 220h160v-160H400v160ZM180-400h160v-160H180v160Zm440 0h160v-160H620v160ZM180-180h160v-160H180v160Zm440 0h160v-160H620v160Z\"/>\n",
              "  </svg>\n",
              "    </button>\n",
              "\n",
              "  <style>\n",
              "    .colab-df-container {\n",
              "      display:flex;\n",
              "      gap: 12px;\n",
              "    }\n",
              "\n",
              "    .colab-df-convert {\n",
              "      background-color: #E8F0FE;\n",
              "      border: none;\n",
              "      border-radius: 50%;\n",
              "      cursor: pointer;\n",
              "      display: none;\n",
              "      fill: #1967D2;\n",
              "      height: 32px;\n",
              "      padding: 0 0 0 0;\n",
              "      width: 32px;\n",
              "    }\n",
              "\n",
              "    .colab-df-convert:hover {\n",
              "      background-color: #E2EBFA;\n",
              "      box-shadow: 0px 1px 2px rgba(60, 64, 67, 0.3), 0px 1px 3px 1px rgba(60, 64, 67, 0.15);\n",
              "      fill: #174EA6;\n",
              "    }\n",
              "\n",
              "    .colab-df-buttons div {\n",
              "      margin-bottom: 4px;\n",
              "    }\n",
              "\n",
              "    [theme=dark] .colab-df-convert {\n",
              "      background-color: #3B4455;\n",
              "      fill: #D2E3FC;\n",
              "    }\n",
              "\n",
              "    [theme=dark] .colab-df-convert:hover {\n",
              "      background-color: #434B5C;\n",
              "      box-shadow: 0px 1px 3px 1px rgba(0, 0, 0, 0.15);\n",
              "      filter: drop-shadow(0px 1px 2px rgba(0, 0, 0, 0.3));\n",
              "      fill: #FFFFFF;\n",
              "    }\n",
              "  </style>\n",
              "\n",
              "    <script>\n",
              "      const buttonEl =\n",
              "        document.querySelector('#df-df637c66-49b0-495f-8fd3-ab8e166878e4 button.colab-df-convert');\n",
              "      buttonEl.style.display =\n",
              "        google.colab.kernel.accessAllowed ? 'block' : 'none';\n",
              "\n",
              "      async function convertToInteractive(key) {\n",
              "        const element = document.querySelector('#df-df637c66-49b0-495f-8fd3-ab8e166878e4');\n",
              "        const dataTable =\n",
              "          await google.colab.kernel.invokeFunction('convertToInteractive',\n",
              "                                                    [key], {});\n",
              "        if (!dataTable) return;\n",
              "\n",
              "        const docLinkHtml = 'Like what you see? Visit the ' +\n",
              "          '<a target=\"_blank\" href=https://colab.research.google.com/notebooks/data_table.ipynb>data table notebook</a>'\n",
              "          + ' to learn more about interactive tables.';\n",
              "        element.innerHTML = '';\n",
              "        dataTable['output_type'] = 'display_data';\n",
              "        await google.colab.output.renderOutput(dataTable, element);\n",
              "        const docLink = document.createElement('div');\n",
              "        docLink.innerHTML = docLinkHtml;\n",
              "        element.appendChild(docLink);\n",
              "      }\n",
              "    </script>\n",
              "  </div>\n",
              "\n",
              "\n",
              "    </div>\n",
              "  </div>\n"
            ],
            "application/vnd.google.colaboratory.intrinsic+json": {
              "type": "dataframe",
              "variable_name": "df",
              "summary": "{\n  \"name\": \"df\",\n  \"rows\": 1,\n  \"fields\": [\n    {\n      \"column\": \"Date_Time\",\n      \"properties\": {\n        \"dtype\": \"date\",\n        \"min\": \"2024-10-20 03:13:37\",\n        \"max\": \"2024-10-20 03:13:37\",\n        \"num_unique_values\": 1,\n        \"samples\": [\n          \"2024-10-20 03:13:37\"\n        ],\n        \"semantic_type\": \"\",\n        \"description\": \"\"\n      }\n    },\n    {\n      \"column\": \"Maturity\",\n      \"properties\": {\n        \"dtype\": \"date\",\n        \"min\": \"2025-01-17 11:59:00\",\n        \"max\": \"2025-01-17 11:59:00\",\n        \"num_unique_values\": 1,\n        \"samples\": [\n          \"2025-01-17 11:59:00\"\n        ],\n        \"semantic_type\": \"\",\n        \"description\": \"\"\n      }\n    },\n    {\n      \"column\": \"Stock_Price\",\n      \"properties\": {\n        \"dtype\": \"number\",\n        \"std\": null,\n        \"min\": 138.0,\n        \"max\": 138.0,\n        \"num_unique_values\": 1,\n        \"samples\": [\n          138.0\n        ],\n        \"semantic_type\": \"\",\n        \"description\": \"\"\n      }\n    },\n    {\n      \"column\": \"Strike_Price\",\n      \"properties\": {\n        \"dtype\": \"number\",\n        \"std\": null,\n        \"min\": 140.0,\n        \"max\": 140.0,\n        \"num_unique_values\": 1,\n        \"samples\": [\n          140.0\n        ],\n        \"semantic_type\": \"\",\n        \"description\": \"\"\n      }\n    },\n    {\n      \"column\": \"Amount_Borrowed_from_Bank\",\n      \"properties\": {\n        \"dtype\": \"number\",\n        \"std\": null,\n        \"min\": 55.89819912632058,\n        \"max\": 55.89819912632058,\n        \"num_unique_values\": 1,\n        \"samples\": [\n          55.89819912632058\n        ],\n        \"semantic_type\": \"\",\n        \"description\": \"\"\n      }\n    },\n    {\n      \"column\": \"r\",\n      \"properties\": {\n        \"dtype\": \"number\",\n        \"std\": null,\n        \"min\": 0.0034,\n        \"max\": 0.0034,\n        \"num_unique_values\": 1,\n        \"samples\": [\n          0.0034\n        ],\n        \"semantic_type\": \"\",\n        \"description\": \"\"\n      }\n    },\n    {\n      \"column\": \"Dividend_Yield\",\n      \"properties\": {\n        \"dtype\": \"number\",\n        \"std\": null,\n        \"min\": 0.0003,\n        \"max\": 0.0003,\n        \"num_unique_values\": 1,\n        \"samples\": [\n          0.0003\n        ],\n        \"semantic_type\": \"\",\n        \"description\": \"\"\n      }\n    },\n    {\n      \"column\": \"Vol\",\n      \"properties\": {\n        \"dtype\": \"number\",\n        \"std\": null,\n        \"min\": 0.36816474112075825,\n        \"max\": 0.36816474112075825,\n        \"num_unique_values\": 1,\n        \"samples\": [\n          0.36816474112075825\n        ],\n        \"semantic_type\": \"\",\n        \"description\": \"\"\n      }\n    },\n    {\n      \"column\": \"BSM_Price\",\n      \"properties\": {\n        \"dtype\": \"number\",\n        \"std\": null,\n        \"min\": 9.164683873272118,\n        \"max\": 9.164683873272118,\n        \"num_unique_values\": 1,\n        \"samples\": [\n          9.164683873272118\n        ],\n        \"semantic_type\": \"\",\n        \"description\": \"\"\n      }\n    },\n    {\n      \"column\": \"Call_Price\",\n      \"properties\": {\n        \"dtype\": \"number\",\n        \"std\": null,\n        \"min\": 13.97,\n        \"max\": 13.97,\n        \"num_unique_values\": 1,\n        \"samples\": [\n          13.97\n        ],\n        \"semantic_type\": \"\",\n        \"description\": \"\"\n      }\n    },\n    {\n      \"column\": \"Delta\",\n      \"properties\": {\n        \"dtype\": \"number\",\n        \"std\": null,\n        \"min\": 0.5062912980168157,\n        \"max\": 0.5062912980168157,\n        \"num_unique_values\": 1,\n        \"samples\": [\n          0.5062912980168157\n        ],\n        \"semantic_type\": \"\",\n        \"description\": \"\"\n      }\n    },\n    {\n      \"column\": \"Wealth\",\n      \"properties\": {\n        \"dtype\": \"number\",\n        \"std\": null,\n        \"min\": 13.969999999999999,\n        \"max\": 13.969999999999999,\n        \"num_unique_values\": 1,\n        \"samples\": [\n          13.969999999999999\n        ],\n        \"semantic_type\": \"\",\n        \"description\": \"\"\n      }\n    },\n    {\n      \"column\": \"Profit\",\n      \"properties\": {\n        \"dtype\": \"string\",\n        \"num_unique_values\": 1,\n        \"samples\": [\n          \"-0.0000000000\"\n        ],\n        \"semantic_type\": \"\",\n        \"description\": \"\"\n      }\n    }\n  ]\n}"
            }
          },
          "metadata": {},
          "execution_count": 91
        }
      ]
    },
    {
      "cell_type": "code",
      "source": [
        "#export csv file\n",
        "from google.colab import files\n",
        "df.to_csv('NVDA.csv', date_format='%Y-%m-%d %H:%M:%S', index = False)\n",
        "files.download(\"NVDA.csv\")"
      ],
      "metadata": {
        "colab": {
          "base_uri": "https://localhost:8080/",
          "height": 17
        },
        "id": "U6byaW7K-JyN",
        "outputId": "53b16a7a-837d-4c65-f009-2d499ad80f7c"
      },
      "execution_count": null,
      "outputs": [
        {
          "output_type": "display_data",
          "data": {
            "text/plain": [
              "<IPython.core.display.Javascript object>"
            ],
            "application/javascript": [
              "\n",
              "    async function download(id, filename, size) {\n",
              "      if (!google.colab.kernel.accessAllowed) {\n",
              "        return;\n",
              "      }\n",
              "      const div = document.createElement('div');\n",
              "      const label = document.createElement('label');\n",
              "      label.textContent = `Downloading \"${filename}\": `;\n",
              "      div.appendChild(label);\n",
              "      const progress = document.createElement('progress');\n",
              "      progress.max = size;\n",
              "      div.appendChild(progress);\n",
              "      document.body.appendChild(div);\n",
              "\n",
              "      const buffers = [];\n",
              "      let downloaded = 0;\n",
              "\n",
              "      const channel = await google.colab.kernel.comms.open(id);\n",
              "      // Send a message to notify the kernel that we're ready.\n",
              "      channel.send({})\n",
              "\n",
              "      for await (const message of channel.messages) {\n",
              "        // Send a message to notify the kernel that we're ready.\n",
              "        channel.send({})\n",
              "        if (message.buffers) {\n",
              "          for (const buffer of message.buffers) {\n",
              "            buffers.push(buffer);\n",
              "            downloaded += buffer.byteLength;\n",
              "            progress.value = downloaded;\n",
              "          }\n",
              "        }\n",
              "      }\n",
              "      const blob = new Blob(buffers, {type: 'application/binary'});\n",
              "      const a = document.createElement('a');\n",
              "      a.href = window.URL.createObjectURL(blob);\n",
              "      a.download = filename;\n",
              "      div.appendChild(a);\n",
              "      a.click();\n",
              "      div.remove();\n",
              "    }\n",
              "  "
            ]
          },
          "metadata": {}
        },
        {
          "output_type": "display_data",
          "data": {
            "text/plain": [
              "<IPython.core.display.Javascript object>"
            ],
            "application/javascript": [
              "download(\"download_aff5ec2e-1a19-4478-be54-c195a812246a\", \"NVDA.csv\", 312)"
            ]
          },
          "metadata": {}
        }
      ]
    },
    {
      "cell_type": "markdown",
      "source": [
        "# **To be ran every 5 minutes:**"
      ],
      "metadata": {
        "id": "CreF_jrJIhfJ"
      }
    },
    {
      "cell_type": "code",
      "source": [
        "time_sleep = 0.8\n",
        "\n",
        "#stock to search\n",
        "option = 'NVDA250117C00140000'\n",
        "ticker = 'NVDA'\n",
        "r = 0.0034 #risk free sg rate as of oct 2024"
      ],
      "metadata": {
        "id": "YMPYU5OAuUzT"
      },
      "execution_count": null,
      "outputs": []
    },
    {
      "cell_type": "code",
      "source": [
        "import pandas as pd\n",
        "import time\n",
        "import re\n",
        "import os\n",
        "import pyodbc\n",
        "import pytz\n",
        "import numpy as np\n",
        "import statistics\n",
        "from math import *\n",
        "from datetime import datetime, timedelta\n",
        "from selenium import webdriver\n",
        "from selenium.webdriver.common.by import By\n",
        "from selenium.webdriver.common.action_chains import ActionChains\n",
        "from selenium.webdriver.common.keys import Keys\n",
        "\n",
        "def web_driver():\n",
        "  options = webdriver.ChromeOptions()\n",
        "  options.add_argument(\"--verbose\")\n",
        "  options.add_argument(\"--no-sandbox\")\n",
        "  options.add_argument(\"--headless\")\n",
        "  options.add_argument(\"--disable-gpu\")\n",
        "  options.add_argument(\"--window-soze = 1920, 1200\")\n",
        "  options.add_argument(\"--disable-dev-shm-usage\")\n",
        "  driver = webdriver.Chrome(options = options)\n",
        "  return driver\n",
        "\n",
        "driver = web_driver()\n",
        "\n",
        "def N(x):\n",
        "  return (1.0 + erf(x / sqrt(2.0))) / 2.0\n",
        "\n",
        "def deltac(S, K, r, y, τ, σ):\n",
        "  d1 = 1/(σ * np.sqrt(τ)) * (np.log(S * np.exp(-y * (τ)) / K) + (r - y + σ**2/2)*(τ) )\n",
        "  return np.exp(-y * τ) * N(d1)\n",
        "\n",
        "def c(S, K, r, y, τ, σ):\n",
        "  d1 = 1/(σ * np.sqrt(τ)) * (np.log(S * np.exp(-y * (τ)) / K) + (r - y + σ**2/2)*(τ) )\n",
        "  d2 = d1 - σ * np.sqrt(τ)\n",
        "  return S * np.exp(-y * (τ)) * N(d1) - K * np.exp(-r * (τ)) * N(d2)"
      ],
      "metadata": {
        "id": "sghxTNk9t6t-"
      },
      "execution_count": null,
      "outputs": []
    },
    {
      "cell_type": "code",
      "source": [
        "df = pd.read_csv(save_path + \"NVDA.csv\", date_format='%Y-%m-%d %H:%M:%S')\n",
        "df.head()"
      ],
      "metadata": {
        "colab": {
          "base_uri": "https://localhost:8080/",
          "height": 81
        },
        "id": "WEVhyIN-uoIO",
        "outputId": "4960689f-e24d-452d-bacb-a328840b6076"
      },
      "execution_count": null,
      "outputs": [
        {
          "output_type": "execute_result",
          "data": {
            "text/plain": [
              "         Date_Time         Maturity  Stock_Price  Strike_Price  \\\n",
              "0  20/10/2024 2:48  17/1/2025 11:59          138           140   \n",
              "\n",
              "   Amount_Borrowed_from_Bank       r  Dividend_Yield       Vol  BSM_Price  \\\n",
              "0                  55.899116  0.0034          0.0003  0.368165   9.165654   \n",
              "\n",
              "   Call_Price     Delta  Wealth  Profit  \n",
              "0       13.97  0.506298   13.97       0  "
            ],
            "text/html": [
              "\n",
              "  <div id=\"df-663f5461-52a5-47ef-905b-777617ab4ed2\" class=\"colab-df-container\">\n",
              "    <div>\n",
              "<style scoped>\n",
              "    .dataframe tbody tr th:only-of-type {\n",
              "        vertical-align: middle;\n",
              "    }\n",
              "\n",
              "    .dataframe tbody tr th {\n",
              "        vertical-align: top;\n",
              "    }\n",
              "\n",
              "    .dataframe thead th {\n",
              "        text-align: right;\n",
              "    }\n",
              "</style>\n",
              "<table border=\"1\" class=\"dataframe\">\n",
              "  <thead>\n",
              "    <tr style=\"text-align: right;\">\n",
              "      <th></th>\n",
              "      <th>Date_Time</th>\n",
              "      <th>Maturity</th>\n",
              "      <th>Stock_Price</th>\n",
              "      <th>Strike_Price</th>\n",
              "      <th>Amount_Borrowed_from_Bank</th>\n",
              "      <th>r</th>\n",
              "      <th>Dividend_Yield</th>\n",
              "      <th>Vol</th>\n",
              "      <th>BSM_Price</th>\n",
              "      <th>Call_Price</th>\n",
              "      <th>Delta</th>\n",
              "      <th>Wealth</th>\n",
              "      <th>Profit</th>\n",
              "    </tr>\n",
              "  </thead>\n",
              "  <tbody>\n",
              "    <tr>\n",
              "      <th>0</th>\n",
              "      <td>20/10/2024 2:48</td>\n",
              "      <td>17/1/2025 11:59</td>\n",
              "      <td>138</td>\n",
              "      <td>140</td>\n",
              "      <td>55.899116</td>\n",
              "      <td>0.0034</td>\n",
              "      <td>0.0003</td>\n",
              "      <td>0.368165</td>\n",
              "      <td>9.165654</td>\n",
              "      <td>13.97</td>\n",
              "      <td>0.506298</td>\n",
              "      <td>13.97</td>\n",
              "      <td>0</td>\n",
              "    </tr>\n",
              "  </tbody>\n",
              "</table>\n",
              "</div>\n",
              "    <div class=\"colab-df-buttons\">\n",
              "\n",
              "  <div class=\"colab-df-container\">\n",
              "    <button class=\"colab-df-convert\" onclick=\"convertToInteractive('df-663f5461-52a5-47ef-905b-777617ab4ed2')\"\n",
              "            title=\"Convert this dataframe to an interactive table.\"\n",
              "            style=\"display:none;\">\n",
              "\n",
              "  <svg xmlns=\"http://www.w3.org/2000/svg\" height=\"24px\" viewBox=\"0 -960 960 960\">\n",
              "    <path d=\"M120-120v-720h720v720H120Zm60-500h600v-160H180v160Zm220 220h160v-160H400v160Zm0 220h160v-160H400v160ZM180-400h160v-160H180v160Zm440 0h160v-160H620v160ZM180-180h160v-160H180v160Zm440 0h160v-160H620v160Z\"/>\n",
              "  </svg>\n",
              "    </button>\n",
              "\n",
              "  <style>\n",
              "    .colab-df-container {\n",
              "      display:flex;\n",
              "      gap: 12px;\n",
              "    }\n",
              "\n",
              "    .colab-df-convert {\n",
              "      background-color: #E8F0FE;\n",
              "      border: none;\n",
              "      border-radius: 50%;\n",
              "      cursor: pointer;\n",
              "      display: none;\n",
              "      fill: #1967D2;\n",
              "      height: 32px;\n",
              "      padding: 0 0 0 0;\n",
              "      width: 32px;\n",
              "    }\n",
              "\n",
              "    .colab-df-convert:hover {\n",
              "      background-color: #E2EBFA;\n",
              "      box-shadow: 0px 1px 2px rgba(60, 64, 67, 0.3), 0px 1px 3px 1px rgba(60, 64, 67, 0.15);\n",
              "      fill: #174EA6;\n",
              "    }\n",
              "\n",
              "    .colab-df-buttons div {\n",
              "      margin-bottom: 4px;\n",
              "    }\n",
              "\n",
              "    [theme=dark] .colab-df-convert {\n",
              "      background-color: #3B4455;\n",
              "      fill: #D2E3FC;\n",
              "    }\n",
              "\n",
              "    [theme=dark] .colab-df-convert:hover {\n",
              "      background-color: #434B5C;\n",
              "      box-shadow: 0px 1px 3px 1px rgba(0, 0, 0, 0.15);\n",
              "      filter: drop-shadow(0px 1px 2px rgba(0, 0, 0, 0.3));\n",
              "      fill: #FFFFFF;\n",
              "    }\n",
              "  </style>\n",
              "\n",
              "    <script>\n",
              "      const buttonEl =\n",
              "        document.querySelector('#df-663f5461-52a5-47ef-905b-777617ab4ed2 button.colab-df-convert');\n",
              "      buttonEl.style.display =\n",
              "        google.colab.kernel.accessAllowed ? 'block' : 'none';\n",
              "\n",
              "      async function convertToInteractive(key) {\n",
              "        const element = document.querySelector('#df-663f5461-52a5-47ef-905b-777617ab4ed2');\n",
              "        const dataTable =\n",
              "          await google.colab.kernel.invokeFunction('convertToInteractive',\n",
              "                                                    [key], {});\n",
              "        if (!dataTable) return;\n",
              "\n",
              "        const docLinkHtml = 'Like what you see? Visit the ' +\n",
              "          '<a target=\"_blank\" href=https://colab.research.google.com/notebooks/data_table.ipynb>data table notebook</a>'\n",
              "          + ' to learn more about interactive tables.';\n",
              "        element.innerHTML = '';\n",
              "        dataTable['output_type'] = 'display_data';\n",
              "        await google.colab.output.renderOutput(dataTable, element);\n",
              "        const docLink = document.createElement('div');\n",
              "        docLink.innerHTML = docLinkHtml;\n",
              "        element.appendChild(docLink);\n",
              "      }\n",
              "    </script>\n",
              "  </div>\n",
              "\n",
              "\n",
              "    </div>\n",
              "  </div>\n"
            ],
            "application/vnd.google.colaboratory.intrinsic+json": {
              "type": "dataframe",
              "variable_name": "df",
              "summary": "{\n  \"name\": \"df\",\n  \"rows\": 1,\n  \"fields\": [\n    {\n      \"column\": \"Date_Time\",\n      \"properties\": {\n        \"dtype\": \"object\",\n        \"num_unique_values\": 1,\n        \"samples\": [\n          \"20/10/2024 2:48\"\n        ],\n        \"semantic_type\": \"\",\n        \"description\": \"\"\n      }\n    },\n    {\n      \"column\": \"Maturity\",\n      \"properties\": {\n        \"dtype\": \"object\",\n        \"num_unique_values\": 1,\n        \"samples\": [\n          \"17/1/2025 11:59\"\n        ],\n        \"semantic_type\": \"\",\n        \"description\": \"\"\n      }\n    },\n    {\n      \"column\": \"Stock_Price\",\n      \"properties\": {\n        \"dtype\": \"number\",\n        \"std\": null,\n        \"min\": 138,\n        \"max\": 138,\n        \"num_unique_values\": 1,\n        \"samples\": [\n          138\n        ],\n        \"semantic_type\": \"\",\n        \"description\": \"\"\n      }\n    },\n    {\n      \"column\": \"Strike_Price\",\n      \"properties\": {\n        \"dtype\": \"number\",\n        \"std\": null,\n        \"min\": 140,\n        \"max\": 140,\n        \"num_unique_values\": 1,\n        \"samples\": [\n          140\n        ],\n        \"semantic_type\": \"\",\n        \"description\": \"\"\n      }\n    },\n    {\n      \"column\": \"Amount_Borrowed_from_Bank\",\n      \"properties\": {\n        \"dtype\": \"number\",\n        \"std\": null,\n        \"min\": 55.89911572,\n        \"max\": 55.89911572,\n        \"num_unique_values\": 1,\n        \"samples\": [\n          55.89911572\n        ],\n        \"semantic_type\": \"\",\n        \"description\": \"\"\n      }\n    },\n    {\n      \"column\": \"r\",\n      \"properties\": {\n        \"dtype\": \"number\",\n        \"std\": null,\n        \"min\": 0.0034,\n        \"max\": 0.0034,\n        \"num_unique_values\": 1,\n        \"samples\": [\n          0.0034\n        ],\n        \"semantic_type\": \"\",\n        \"description\": \"\"\n      }\n    },\n    {\n      \"column\": \"Dividend_Yield\",\n      \"properties\": {\n        \"dtype\": \"number\",\n        \"std\": null,\n        \"min\": 0.0003,\n        \"max\": 0.0003,\n        \"num_unique_values\": 1,\n        \"samples\": [\n          0.0003\n        ],\n        \"semantic_type\": \"\",\n        \"description\": \"\"\n      }\n    },\n    {\n      \"column\": \"Vol\",\n      \"properties\": {\n        \"dtype\": \"number\",\n        \"std\": null,\n        \"min\": 0.368164741,\n        \"max\": 0.368164741,\n        \"num_unique_values\": 1,\n        \"samples\": [\n          0.368164741\n        ],\n        \"semantic_type\": \"\",\n        \"description\": \"\"\n      }\n    },\n    {\n      \"column\": \"BSM_Price\",\n      \"properties\": {\n        \"dtype\": \"number\",\n        \"std\": null,\n        \"min\": 9.165654203,\n        \"max\": 9.165654203,\n        \"num_unique_values\": 1,\n        \"samples\": [\n          9.165654203\n        ],\n        \"semantic_type\": \"\",\n        \"description\": \"\"\n      }\n    },\n    {\n      \"column\": \"Call_Price\",\n      \"properties\": {\n        \"dtype\": \"number\",\n        \"std\": null,\n        \"min\": 13.97,\n        \"max\": 13.97,\n        \"num_unique_values\": 1,\n        \"samples\": [\n          13.97\n        ],\n        \"semantic_type\": \"\",\n        \"description\": \"\"\n      }\n    },\n    {\n      \"column\": \"Delta\",\n      \"properties\": {\n        \"dtype\": \"number\",\n        \"std\": null,\n        \"min\": 0.50629794,\n        \"max\": 0.50629794,\n        \"num_unique_values\": 1,\n        \"samples\": [\n          0.50629794\n        ],\n        \"semantic_type\": \"\",\n        \"description\": \"\"\n      }\n    },\n    {\n      \"column\": \"Wealth\",\n      \"properties\": {\n        \"dtype\": \"number\",\n        \"std\": null,\n        \"min\": 13.97,\n        \"max\": 13.97,\n        \"num_unique_values\": 1,\n        \"samples\": [\n          13.97\n        ],\n        \"semantic_type\": \"\",\n        \"description\": \"\"\n      }\n    },\n    {\n      \"column\": \"Profit\",\n      \"properties\": {\n        \"dtype\": \"number\",\n        \"std\": null,\n        \"min\": 0,\n        \"max\": 0,\n        \"num_unique_values\": 1,\n        \"samples\": [\n          0\n        ],\n        \"semantic_type\": \"\",\n        \"description\": \"\"\n      }\n    }\n  ]\n}"
            }
          },
          "metadata": {},
          "execution_count": 74
        }
      ]
    },
    {
      "cell_type": "code",
      "source": [
        "#go to NVDA stock page\n",
        "url = \"https://sg.finance.yahoo.com/quote/\"+ ticker + \"/\"\n",
        "\n",
        "# Open the webpage\n",
        "driver.get(url)\n",
        "\n",
        "# Wait for the page to load\n",
        "time.sleep(time_sleep)\n",
        "\n",
        "S = float(driver.find_elements(By.XPATH, '/html/body/div[2]/main/section/section/section/article/section[1]/div[2]/div[1]/section/div/section[1]/div[1]/fin-streamer[1]')[0].text.splitlines()[0])\n",
        "\n",
        "y = float(re.findall(r'\\(.*?\\)', driver.find_elements(By.XPATH, '//*[@id=\"nimbus-app\"]/section/section/section/article/div[2]')[0].text.splitlines()[27])[0][1:-2]) / 100\n",
        "\n",
        "print(\"Stock Price:\", S)\n",
        "print(\"Dividend Yield:\", y)"
      ],
      "metadata": {
        "colab": {
          "base_uri": "https://localhost:8080/"
        },
        "id": "-O-tBwYatxgv",
        "outputId": "cca7ac28-b0f7-465e-85bb-ef625436b268"
      },
      "execution_count": null,
      "outputs": [
        {
          "output_type": "stream",
          "name": "stdout",
          "text": [
            "Stock Price: 138.0\n",
            "Dividend Yield: 0.0003\n"
          ]
        }
      ]
    },
    {
      "cell_type": "code",
      "source": [
        "# get historical data for volatility\n",
        "historical = driver.find_element(By.XPATH, '//*[@id=\"nimbus-app\"]/section/section/aside/section/nav/ul/li[5]/a')\n",
        "# create action chain object\n",
        "action = ActionChains(driver)\n",
        "# click the item\n",
        "action.click(on_element = historical)\n",
        "# perform the operation\n",
        "action.perform()\n",
        "\n",
        "time.sleep(time_sleep)\n",
        "\n",
        "#20 day average volatility\n",
        "days = 20\n",
        "\n",
        "historical_table = driver.find_elements(By.XPATH, '//*[@id=\"nimbus-app\"]/section/section/section/article/div[1]/div[3]/table')[0].text.splitlines()\n",
        "\n",
        "vol_row_log = []\n",
        "Y = []\n",
        "\n",
        "for i in range(days):\n",
        "  adj_close = float((historical_table[i + 3].split())[-2])\n",
        "  vol_row_log.append(log(adj_close))\n",
        "\n",
        "for i in range(days - 1):\n",
        "  Y.append(vol_row_log[i] - vol_row_log[i+1])\n",
        "\n",
        "Y_avg = statistics.fmean(Y)\n",
        "\n",
        "#get annual volatility\n",
        "vol = sqrt(sum((np.array(Y) - Y_avg)**2) / (days - 1)) * sqrt(252)\n",
        "print(\"20 day volatility:\", vol)"
      ],
      "metadata": {
        "colab": {
          "base_uri": "https://localhost:8080/"
        },
        "id": "jBXwV091vJHY",
        "outputId": "e07bb228-a777-4a1a-d746-e9ff008ba924"
      },
      "execution_count": null,
      "outputs": [
        {
          "output_type": "stream",
          "name": "stdout",
          "text": [
            "20 day volatility: 0.36816474112075825\n"
          ]
        }
      ]
    },
    {
      "cell_type": "code",
      "source": [
        "#go to options page to get strike price and call price\n",
        "url = \"https://sg.finance.yahoo.com/quote/\"+ option + \"/\"\n",
        "\n",
        "# Open the webpage\n",
        "driver.get(url)\n",
        "\n",
        "# Wait for the page to load\n",
        "time.sleep(time_sleep)\n",
        "\n",
        "option_table = driver.find_elements(By.XPATH, '//*[@id=\"nimbus-app\"]/section/section/section/article/div[2]')[0].text.splitlines()\n",
        "\n",
        "K = float(option_table[9])\n",
        "print(option_table)\n",
        "\n",
        "call_price = float(driver.find_elements(By.XPATH, '//*[@id=\"nimbus-app\"]/section/section/section/article/section[1]/div[2]/div[1]/section/div/section/div[1]/fin-streamer[1]')[0].text.splitlines()[0])\n",
        "\n",
        "print(\"Strike_Price:\", K)\n",
        "print(\"Call_Price:\", call_price)"
      ],
      "metadata": {
        "colab": {
          "base_uri": "https://localhost:8080/"
        },
        "id": "t4qR6m9BxWwz",
        "outputId": "524830e4-9622-4599-a536-80129927558c"
      },
      "execution_count": null,
      "outputs": [
        {
          "output_type": "stream",
          "name": "stdout",
          "text": [
            "['Previous close', '13.74', 'Open', '14.50', 'Bid', '13.90', 'Ask', '14.00', 'Strike', '140.00', 'Expiry date', '2025-01-17', \"Day's range\", '13.65 - 14.60', 'Contract range', '--', 'Volume', '6,534', 'Open interest', '63.42k']\n",
            "Strike_Price: 140.0\n",
            "call_price: 13.97\n"
          ]
        }
      ]
    },
    {
      "cell_type": "code",
      "source": [
        "#current time\n",
        "date = datetime.now(tz=pytz.timezone('America/New_York')).replace(microsecond = 0).replace(tzinfo=None)\n",
        "print(\"NYC current date and time:\", date)\n",
        "\n",
        "#get time to maturity using 1st row\n",
        "maturity = datetime.strptime(df['Maturity'].iloc[0], '%Y-%m-%d %H:%M:%S')\n",
        "time_to_maturity = maturity - date\n",
        "print(\"Time to maturity:\", time_to_maturity)\n",
        "print(time_to_maturity.days, \"days\", time_to_maturity.seconds, \"seconds\")\n",
        "\n",
        "#time to maturity (seconds)\n",
        "tau_seconds = float(time_to_maturity.days) * 24 * 3600 + float(time_to_maturity.seconds)\n",
        "print(tau_seconds, \"seconds\")\n",
        "\n",
        "#time to maturity (years)\n",
        "tau_years = tau_seconds / (365 * 24 * 3600)\n",
        "print(tau_years, \"years\")"
      ],
      "metadata": {
        "colab": {
          "base_uri": "https://localhost:8080/"
        },
        "id": "uPuUeiT6IZDV",
        "outputId": "82b76b66-8742-4d8e-9b1b-34b5c67ca267"
      },
      "execution_count": null,
      "outputs": [
        {
          "output_type": "stream",
          "name": "stdout",
          "text": [
            "NYC current date and time: 2024-10-20 02:57:51\n",
            "Time to maturity: 89 days, 9:01:09\n",
            "89 days 32469 seconds\n",
            "7722069.0 seconds\n",
            "0.24486520167427703 years\n"
          ]
        }
      ]
    },
    {
      "cell_type": "code",
      "source": [
        "bsm_price = c(S, K, r, y, tau_years, vol)\n",
        "print(\"Call_Price:\", call_price)\n",
        "print(\"BSM_Price:\", bsm_price)"
      ],
      "metadata": {
        "colab": {
          "base_uri": "https://localhost:8080/"
        },
        "id": "jDnHTmQ5IzyZ",
        "outputId": "c063b52d-13d1-4be6-c8d3-7fe95c34004e"
      },
      "execution_count": null,
      "outputs": [
        {
          "output_type": "stream",
          "name": "stdout",
          "text": [
            "Call_Price: 13.97\n",
            "BSM_Price: 9.165303689185855\n"
          ]
        }
      ]
    },
    {
      "cell_type": "code",
      "source": [
        "delta = df['Delta'].iloc[-1]\n",
        "\n",
        "K = df['Strike_Price'].iloc[0]\n",
        "\n",
        "new_delta = deltac(S, K, r, y, tau_years, vol) #vols to be calculated daily\n",
        "\n",
        "print(\"Current delta:\", delta)\n",
        "print(\"New delta:\", new_delta)\n",
        "\n",
        "print(\"Sell off\", delta, \"-\", new_delta, \"shares of stock\")\n",
        "\n",
        "change_in_delta = delta - new_delta\n",
        "print(\"Change in delta:\", change_in_delta)"
      ],
      "metadata": {
        "colab": {
          "base_uri": "https://localhost:8080/"
        },
        "id": "G2fYT--Px4IR",
        "outputId": "42cfc79e-5302-440e-e8bc-273ca91275a8"
      },
      "execution_count": null,
      "outputs": [
        {
          "output_type": "stream",
          "name": "stdout",
          "text": [
            "Current delta: 0.5062979399650054\n",
            "New delta: 0.5062955407523099\n",
            "Sell off 0.5062979399650054 - 0.5062955407523099 shares of stock\n",
            "Change in delta: 2.39921269551413e-06\n"
          ]
        }
      ]
    },
    {
      "cell_type": "code",
      "source": [
        "previous_date = datetime.strptime(df['Date_Time'].iloc[-1], '%Y-%m-%d %H:%M:%S')\n",
        "print(\"Previous date:\", previous_date)\n",
        "\n",
        "elapsed_days = (date - previous_date).days\n",
        "elapsed_seconds = (date - previous_date).seconds\n",
        "\n",
        "elapsed_time_seconds = elapsed_days * 24 * 3600 + elapsed_seconds\n",
        "print(\"Elapsed time (seconds):\", elapsed_time_seconds)\n",
        "\n",
        "elapsed_time_years = elapsed_time_seconds / (365 * 24 * 3600)\n",
        "print(\"Elapsed time (years):\", elapsed_time_years)"
      ],
      "metadata": {
        "colab": {
          "base_uri": "https://localhost:8080/"
        },
        "id": "yeBOH8RW0K6S",
        "outputId": "13260abc-33c6-41e7-917a-e34ad85b4efb"
      },
      "execution_count": null,
      "outputs": [
        {
          "output_type": "stream",
          "name": "stdout",
          "text": [
            "Previous date: 2024-10-20 02:48:56\n",
            "Elapsed time (seconds): 535\n",
            "Elapsed time (years): 1.6964738711314055e-05\n"
          ]
        }
      ]
    },
    {
      "cell_type": "code",
      "source": [
        "#profit from selling shares\n",
        "share_profit = change_in_delta * S\n",
        "print(\"Profit from shares:\", share_profit)\n",
        "\n",
        "#amount owed to bank before calculating interest\n",
        "print(\"Current amount owed to bank before interest:\", df['Amount_Borrowed_from_Bank'].iloc[-1])\n",
        "\n",
        "#amount owed to bank after calculating interest\n",
        "amount = df['Amount_Borrowed_from_Bank'].iloc[-1] * np.exp(r * elapsed_time_years)\n",
        "print(\"Current amount owed to bank after interest:\", amount)\n",
        "\n",
        "#new amount owed to bank after repaying profit\n",
        "new_amount = amount - share_profit\n",
        "print(\"New amount owed to bank after repaying profit from change in shares:\", new_amount)"
      ],
      "metadata": {
        "colab": {
          "base_uri": "https://localhost:8080/"
        },
        "id": "H6Cm8FX9x9mr",
        "outputId": "bd0d5a44-7bcb-4603-c2d2-16d392bae8a6"
      },
      "execution_count": null,
      "outputs": [
        {
          "output_type": "stream",
          "name": "stdout",
          "text": [
            "Profit from shares: 0.00033109135198094997\n",
            "Current amount owed to bank before interest: 55.89911571517075\n",
            "Current amount owed to bank after interest: 55.89911893943808\n",
            "New amount owed to bank after repaying profit from change in shares: 55.8987878480861\n"
          ]
        }
      ]
    },
    {
      "cell_type": "code",
      "source": [
        "#wealth\n",
        "portfolio = delta * S - new_amount\n",
        "print(\"Value of Replicating Portfolio:\", portfolio)\n",
        "\n",
        "#current profit\n",
        "profit = format(portfolio - call_price, '.10f')\n",
        "print(\"Profit from Closing Position:\", profit)"
      ],
      "metadata": {
        "colab": {
          "base_uri": "https://localhost:8080/"
        },
        "id": "kqTsu-_O6RaF",
        "outputId": "f146197f-44e3-42d5-fd69-c349c09d7e1d"
      },
      "execution_count": null,
      "outputs": [
        {
          "output_type": "stream",
          "name": "stdout",
          "text": [
            "Value of Replicating Portfolio: 13.970327867084649\n",
            "Profit from Closing Position: 0.0003278671\n"
          ]
        }
      ]
    },
    {
      "cell_type": "code",
      "source": [
        "#add new row\n",
        "row = [date, maturity, S, K, new_amount, r, y, vol, bsm_price, call_price, delta, portfolio, profit]\n",
        "\n",
        "df.loc[len(df.index)] = row\n",
        "df.head()"
      ],
      "metadata": {
        "id": "TUgMfWqL7qsi",
        "colab": {
          "base_uri": "https://localhost:8080/",
          "height": 112
        },
        "outputId": "aeb1cde4-cc21-49e7-bea9-321ada265736"
      },
      "execution_count": null,
      "outputs": [
        {
          "output_type": "execute_result",
          "data": {
            "text/plain": [
              "             Date_Time             Maturity  Stock_Price  Strike_Price  \\\n",
              "0      20/10/2024 2:48      17/1/2025 11:59        138.0         140.0   \n",
              "1  2024-10-20 02:57:51  2025-01-17 11:59:00        138.0         140.0   \n",
              "\n",
              "   Amount_Borrowed_from_Bank       r  Dividend_Yield       Vol  BSM_Price  \\\n",
              "0                  55.899116  0.0034          0.0003  0.368165   9.165654   \n",
              "1                  55.898788  0.0034          0.0003  0.368165   9.165304   \n",
              "\n",
              "   Call_Price     Delta     Wealth        Profit  \n",
              "0       13.97  0.506298  13.970000             0  \n",
              "1       13.97  0.506298  13.970328  0.0003278671  "
            ],
            "text/html": [
              "\n",
              "  <div id=\"df-7c4c1533-4947-4f98-96a3-11ca2510f78d\" class=\"colab-df-container\">\n",
              "    <div>\n",
              "<style scoped>\n",
              "    .dataframe tbody tr th:only-of-type {\n",
              "        vertical-align: middle;\n",
              "    }\n",
              "\n",
              "    .dataframe tbody tr th {\n",
              "        vertical-align: top;\n",
              "    }\n",
              "\n",
              "    .dataframe thead th {\n",
              "        text-align: right;\n",
              "    }\n",
              "</style>\n",
              "<table border=\"1\" class=\"dataframe\">\n",
              "  <thead>\n",
              "    <tr style=\"text-align: right;\">\n",
              "      <th></th>\n",
              "      <th>Date_Time</th>\n",
              "      <th>Maturity</th>\n",
              "      <th>Stock_Price</th>\n",
              "      <th>Strike_Price</th>\n",
              "      <th>Amount_Borrowed_from_Bank</th>\n",
              "      <th>r</th>\n",
              "      <th>Dividend_Yield</th>\n",
              "      <th>Vol</th>\n",
              "      <th>BSM_Price</th>\n",
              "      <th>Call_Price</th>\n",
              "      <th>Delta</th>\n",
              "      <th>Wealth</th>\n",
              "      <th>Profit</th>\n",
              "    </tr>\n",
              "  </thead>\n",
              "  <tbody>\n",
              "    <tr>\n",
              "      <th>0</th>\n",
              "      <td>20/10/2024 2:48</td>\n",
              "      <td>17/1/2025 11:59</td>\n",
              "      <td>138.0</td>\n",
              "      <td>140.0</td>\n",
              "      <td>55.899116</td>\n",
              "      <td>0.0034</td>\n",
              "      <td>0.0003</td>\n",
              "      <td>0.368165</td>\n",
              "      <td>9.165654</td>\n",
              "      <td>13.97</td>\n",
              "      <td>0.506298</td>\n",
              "      <td>13.970000</td>\n",
              "      <td>0</td>\n",
              "    </tr>\n",
              "    <tr>\n",
              "      <th>1</th>\n",
              "      <td>2024-10-20 02:57:51</td>\n",
              "      <td>2025-01-17 11:59:00</td>\n",
              "      <td>138.0</td>\n",
              "      <td>140.0</td>\n",
              "      <td>55.898788</td>\n",
              "      <td>0.0034</td>\n",
              "      <td>0.0003</td>\n",
              "      <td>0.368165</td>\n",
              "      <td>9.165304</td>\n",
              "      <td>13.97</td>\n",
              "      <td>0.506298</td>\n",
              "      <td>13.970328</td>\n",
              "      <td>0.0003278671</td>\n",
              "    </tr>\n",
              "  </tbody>\n",
              "</table>\n",
              "</div>\n",
              "    <div class=\"colab-df-buttons\">\n",
              "\n",
              "  <div class=\"colab-df-container\">\n",
              "    <button class=\"colab-df-convert\" onclick=\"convertToInteractive('df-7c4c1533-4947-4f98-96a3-11ca2510f78d')\"\n",
              "            title=\"Convert this dataframe to an interactive table.\"\n",
              "            style=\"display:none;\">\n",
              "\n",
              "  <svg xmlns=\"http://www.w3.org/2000/svg\" height=\"24px\" viewBox=\"0 -960 960 960\">\n",
              "    <path d=\"M120-120v-720h720v720H120Zm60-500h600v-160H180v160Zm220 220h160v-160H400v160Zm0 220h160v-160H400v160ZM180-400h160v-160H180v160Zm440 0h160v-160H620v160ZM180-180h160v-160H180v160Zm440 0h160v-160H620v160Z\"/>\n",
              "  </svg>\n",
              "    </button>\n",
              "\n",
              "  <style>\n",
              "    .colab-df-container {\n",
              "      display:flex;\n",
              "      gap: 12px;\n",
              "    }\n",
              "\n",
              "    .colab-df-convert {\n",
              "      background-color: #E8F0FE;\n",
              "      border: none;\n",
              "      border-radius: 50%;\n",
              "      cursor: pointer;\n",
              "      display: none;\n",
              "      fill: #1967D2;\n",
              "      height: 32px;\n",
              "      padding: 0 0 0 0;\n",
              "      width: 32px;\n",
              "    }\n",
              "\n",
              "    .colab-df-convert:hover {\n",
              "      background-color: #E2EBFA;\n",
              "      box-shadow: 0px 1px 2px rgba(60, 64, 67, 0.3), 0px 1px 3px 1px rgba(60, 64, 67, 0.15);\n",
              "      fill: #174EA6;\n",
              "    }\n",
              "\n",
              "    .colab-df-buttons div {\n",
              "      margin-bottom: 4px;\n",
              "    }\n",
              "\n",
              "    [theme=dark] .colab-df-convert {\n",
              "      background-color: #3B4455;\n",
              "      fill: #D2E3FC;\n",
              "    }\n",
              "\n",
              "    [theme=dark] .colab-df-convert:hover {\n",
              "      background-color: #434B5C;\n",
              "      box-shadow: 0px 1px 3px 1px rgba(0, 0, 0, 0.15);\n",
              "      filter: drop-shadow(0px 1px 2px rgba(0, 0, 0, 0.3));\n",
              "      fill: #FFFFFF;\n",
              "    }\n",
              "  </style>\n",
              "\n",
              "    <script>\n",
              "      const buttonEl =\n",
              "        document.querySelector('#df-7c4c1533-4947-4f98-96a3-11ca2510f78d button.colab-df-convert');\n",
              "      buttonEl.style.display =\n",
              "        google.colab.kernel.accessAllowed ? 'block' : 'none';\n",
              "\n",
              "      async function convertToInteractive(key) {\n",
              "        const element = document.querySelector('#df-7c4c1533-4947-4f98-96a3-11ca2510f78d');\n",
              "        const dataTable =\n",
              "          await google.colab.kernel.invokeFunction('convertToInteractive',\n",
              "                                                    [key], {});\n",
              "        if (!dataTable) return;\n",
              "\n",
              "        const docLinkHtml = 'Like what you see? Visit the ' +\n",
              "          '<a target=\"_blank\" href=https://colab.research.google.com/notebooks/data_table.ipynb>data table notebook</a>'\n",
              "          + ' to learn more about interactive tables.';\n",
              "        element.innerHTML = '';\n",
              "        dataTable['output_type'] = 'display_data';\n",
              "        await google.colab.output.renderOutput(dataTable, element);\n",
              "        const docLink = document.createElement('div');\n",
              "        docLink.innerHTML = docLinkHtml;\n",
              "        element.appendChild(docLink);\n",
              "      }\n",
              "    </script>\n",
              "  </div>\n",
              "\n",
              "\n",
              "<div id=\"df-cbaff28e-d93d-46df-a6c8-89a4310fe562\">\n",
              "  <button class=\"colab-df-quickchart\" onclick=\"quickchart('df-cbaff28e-d93d-46df-a6c8-89a4310fe562')\"\n",
              "            title=\"Suggest charts\"\n",
              "            style=\"display:none;\">\n",
              "\n",
              "<svg xmlns=\"http://www.w3.org/2000/svg\" height=\"24px\"viewBox=\"0 0 24 24\"\n",
              "     width=\"24px\">\n",
              "    <g>\n",
              "        <path d=\"M19 3H5c-1.1 0-2 .9-2 2v14c0 1.1.9 2 2 2h14c1.1 0 2-.9 2-2V5c0-1.1-.9-2-2-2zM9 17H7v-7h2v7zm4 0h-2V7h2v10zm4 0h-2v-4h2v4z\"/>\n",
              "    </g>\n",
              "</svg>\n",
              "  </button>\n",
              "\n",
              "<style>\n",
              "  .colab-df-quickchart {\n",
              "      --bg-color: #E8F0FE;\n",
              "      --fill-color: #1967D2;\n",
              "      --hover-bg-color: #E2EBFA;\n",
              "      --hover-fill-color: #174EA6;\n",
              "      --disabled-fill-color: #AAA;\n",
              "      --disabled-bg-color: #DDD;\n",
              "  }\n",
              "\n",
              "  [theme=dark] .colab-df-quickchart {\n",
              "      --bg-color: #3B4455;\n",
              "      --fill-color: #D2E3FC;\n",
              "      --hover-bg-color: #434B5C;\n",
              "      --hover-fill-color: #FFFFFF;\n",
              "      --disabled-bg-color: #3B4455;\n",
              "      --disabled-fill-color: #666;\n",
              "  }\n",
              "\n",
              "  .colab-df-quickchart {\n",
              "    background-color: var(--bg-color);\n",
              "    border: none;\n",
              "    border-radius: 50%;\n",
              "    cursor: pointer;\n",
              "    display: none;\n",
              "    fill: var(--fill-color);\n",
              "    height: 32px;\n",
              "    padding: 0;\n",
              "    width: 32px;\n",
              "  }\n",
              "\n",
              "  .colab-df-quickchart:hover {\n",
              "    background-color: var(--hover-bg-color);\n",
              "    box-shadow: 0 1px 2px rgba(60, 64, 67, 0.3), 0 1px 3px 1px rgba(60, 64, 67, 0.15);\n",
              "    fill: var(--button-hover-fill-color);\n",
              "  }\n",
              "\n",
              "  .colab-df-quickchart-complete:disabled,\n",
              "  .colab-df-quickchart-complete:disabled:hover {\n",
              "    background-color: var(--disabled-bg-color);\n",
              "    fill: var(--disabled-fill-color);\n",
              "    box-shadow: none;\n",
              "  }\n",
              "\n",
              "  .colab-df-spinner {\n",
              "    border: 2px solid var(--fill-color);\n",
              "    border-color: transparent;\n",
              "    border-bottom-color: var(--fill-color);\n",
              "    animation:\n",
              "      spin 1s steps(1) infinite;\n",
              "  }\n",
              "\n",
              "  @keyframes spin {\n",
              "    0% {\n",
              "      border-color: transparent;\n",
              "      border-bottom-color: var(--fill-color);\n",
              "      border-left-color: var(--fill-color);\n",
              "    }\n",
              "    20% {\n",
              "      border-color: transparent;\n",
              "      border-left-color: var(--fill-color);\n",
              "      border-top-color: var(--fill-color);\n",
              "    }\n",
              "    30% {\n",
              "      border-color: transparent;\n",
              "      border-left-color: var(--fill-color);\n",
              "      border-top-color: var(--fill-color);\n",
              "      border-right-color: var(--fill-color);\n",
              "    }\n",
              "    40% {\n",
              "      border-color: transparent;\n",
              "      border-right-color: var(--fill-color);\n",
              "      border-top-color: var(--fill-color);\n",
              "    }\n",
              "    60% {\n",
              "      border-color: transparent;\n",
              "      border-right-color: var(--fill-color);\n",
              "    }\n",
              "    80% {\n",
              "      border-color: transparent;\n",
              "      border-right-color: var(--fill-color);\n",
              "      border-bottom-color: var(--fill-color);\n",
              "    }\n",
              "    90% {\n",
              "      border-color: transparent;\n",
              "      border-bottom-color: var(--fill-color);\n",
              "    }\n",
              "  }\n",
              "</style>\n",
              "\n",
              "  <script>\n",
              "    async function quickchart(key) {\n",
              "      const quickchartButtonEl =\n",
              "        document.querySelector('#' + key + ' button');\n",
              "      quickchartButtonEl.disabled = true;  // To prevent multiple clicks.\n",
              "      quickchartButtonEl.classList.add('colab-df-spinner');\n",
              "      try {\n",
              "        const charts = await google.colab.kernel.invokeFunction(\n",
              "            'suggestCharts', [key], {});\n",
              "      } catch (error) {\n",
              "        console.error('Error during call to suggestCharts:', error);\n",
              "      }\n",
              "      quickchartButtonEl.classList.remove('colab-df-spinner');\n",
              "      quickchartButtonEl.classList.add('colab-df-quickchart-complete');\n",
              "    }\n",
              "    (() => {\n",
              "      let quickchartButtonEl =\n",
              "        document.querySelector('#df-cbaff28e-d93d-46df-a6c8-89a4310fe562 button');\n",
              "      quickchartButtonEl.style.display =\n",
              "        google.colab.kernel.accessAllowed ? 'block' : 'none';\n",
              "    })();\n",
              "  </script>\n",
              "</div>\n",
              "\n",
              "    </div>\n",
              "  </div>\n"
            ],
            "application/vnd.google.colaboratory.intrinsic+json": {
              "type": "dataframe",
              "variable_name": "df",
              "summary": "{\n  \"name\": \"df\",\n  \"rows\": 2,\n  \"fields\": [\n    {\n      \"column\": \"Date_Time\",\n      \"properties\": {\n        \"dtype\": \"object\",\n        \"num_unique_values\": 2,\n        \"samples\": [\n          \"2024-10-20 02:57:51\",\n          \"20/10/2024 2:48\"\n        ],\n        \"semantic_type\": \"\",\n        \"description\": \"\"\n      }\n    },\n    {\n      \"column\": \"Maturity\",\n      \"properties\": {\n        \"dtype\": \"object\",\n        \"num_unique_values\": 2,\n        \"samples\": [\n          \"2025-01-17 11:59:00\",\n          \"17/1/2025 11:59\"\n        ],\n        \"semantic_type\": \"\",\n        \"description\": \"\"\n      }\n    },\n    {\n      \"column\": \"Stock_Price\",\n      \"properties\": {\n        \"dtype\": \"number\",\n        \"std\": 0.0,\n        \"min\": 138.0,\n        \"max\": 138.0,\n        \"num_unique_values\": 1,\n        \"samples\": [\n          138.0\n        ],\n        \"semantic_type\": \"\",\n        \"description\": \"\"\n      }\n    },\n    {\n      \"column\": \"Strike_Price\",\n      \"properties\": {\n        \"dtype\": \"number\",\n        \"std\": 0.0,\n        \"min\": 140.0,\n        \"max\": 140.0,\n        \"num_unique_values\": 1,\n        \"samples\": [\n          140.0\n        ],\n        \"semantic_type\": \"\",\n        \"description\": \"\"\n      }\n    },\n    {\n      \"column\": \"Amount_Borrowed_from_Bank\",\n      \"properties\": {\n        \"dtype\": \"number\",\n        \"std\": 0.00023184045367658694,\n        \"min\": 55.8987878480861,\n        \"max\": 55.89911572,\n        \"num_unique_values\": 2,\n        \"samples\": [\n          55.8987878480861\n        ],\n        \"semantic_type\": \"\",\n        \"description\": \"\"\n      }\n    },\n    {\n      \"column\": \"r\",\n      \"properties\": {\n        \"dtype\": \"number\",\n        \"std\": 0.0,\n        \"min\": 0.0034,\n        \"max\": 0.0034,\n        \"num_unique_values\": 1,\n        \"samples\": [\n          0.0034\n        ],\n        \"semantic_type\": \"\",\n        \"description\": \"\"\n      }\n    },\n    {\n      \"column\": \"Dividend_Yield\",\n      \"properties\": {\n        \"dtype\": \"number\",\n        \"std\": 0.0,\n        \"min\": 0.0003,\n        \"max\": 0.0003,\n        \"num_unique_values\": 1,\n        \"samples\": [\n          0.0003\n        ],\n        \"semantic_type\": \"\",\n        \"description\": \"\"\n      }\n    },\n    {\n      \"column\": \"Vol\",\n      \"properties\": {\n        \"dtype\": \"number\",\n        \"std\": 8.538896808547706e-11,\n        \"min\": 0.368164741,\n        \"max\": 0.36816474112075825,\n        \"num_unique_values\": 2,\n        \"samples\": [\n          0.36816474112075825\n        ],\n        \"semantic_type\": \"\",\n        \"description\": \"\"\n      }\n    },\n    {\n      \"column\": \"BSM_Price\",\n      \"properties\": {\n        \"dtype\": \"number\",\n        \"std\": 0.0002478506948821763,\n        \"min\": 9.165303689185855,\n        \"max\": 9.165654203,\n        \"num_unique_values\": 2,\n        \"samples\": [\n          9.165303689185855\n        ],\n        \"semantic_type\": \"\",\n        \"description\": \"\"\n      }\n    },\n    {\n      \"column\": \"Call_Price\",\n      \"properties\": {\n        \"dtype\": \"number\",\n        \"std\": 0.0,\n        \"min\": 13.97,\n        \"max\": 13.97,\n        \"num_unique_values\": 1,\n        \"samples\": [\n          13.97\n        ],\n        \"semantic_type\": \"\",\n        \"description\": \"\"\n      }\n    },\n    {\n      \"column\": \"Delta\",\n      \"properties\": {\n        \"dtype\": \"number\",\n        \"std\": 2.474489266284963e-11,\n        \"min\": 0.5062979399650054,\n        \"max\": 0.50629794,\n        \"num_unique_values\": 2,\n        \"samples\": [\n          0.5062979399650054\n        ],\n        \"semantic_type\": \"\",\n        \"description\": \"\"\n      }\n    },\n    {\n      \"column\": \"Wealth\",\n      \"properties\": {\n        \"dtype\": \"number\",\n        \"std\": 0.00023183703888249855,\n        \"min\": 13.97,\n        \"max\": 13.970327867084649,\n        \"num_unique_values\": 2,\n        \"samples\": [\n          13.970327867084649\n        ],\n        \"semantic_type\": \"\",\n        \"description\": \"\"\n      }\n    },\n    {\n      \"column\": \"Profit\",\n      \"properties\": {\n        \"dtype\": \"string\",\n        \"num_unique_values\": 2,\n        \"samples\": [\n          \"0.0003278671\"\n        ],\n        \"semantic_type\": \"\",\n        \"description\": \"\"\n      }\n    }\n  ]\n}"
            }
          },
          "metadata": {},
          "execution_count": 77
        }
      ]
    },
    {
      "cell_type": "code",
      "source": [
        "df.head()"
      ],
      "metadata": {
        "colab": {
          "base_uri": "https://localhost:8080/",
          "height": 112
        },
        "id": "VvlqJX2ydY45",
        "outputId": "1f8528b6-a143-4572-88cb-e0310e8420b1"
      },
      "execution_count": null,
      "outputs": [
        {
          "output_type": "execute_result",
          "data": {
            "text/plain": [
              "             Date_Time             Maturity  Stock_Price  Strike_Price  \\\n",
              "0      20/10/2024 2:48      17/1/2025 11:59        138.0         140.0   \n",
              "1  2024-10-20 02:57:51  2025-01-17 11:59:00        138.0         140.0   \n",
              "\n",
              "   Amount_Borrowed_from_Bank       r  Dividend_Yield       Vol  BSM_Price  \\\n",
              "0                  55.899116  0.0034          0.0003  0.368165   9.165654   \n",
              "1                  55.898788  0.0034          0.0003  0.368165   9.165304   \n",
              "\n",
              "   Call_Price     Delta     Wealth        Profit  \n",
              "0       13.97  0.506298  13.970000             0  \n",
              "1       13.97  0.506298  13.970328  0.0003278671  "
            ],
            "text/html": [
              "\n",
              "  <div id=\"df-1b33ebb1-afa2-4dce-a3e7-c174cb8cf0df\" class=\"colab-df-container\">\n",
              "    <div>\n",
              "<style scoped>\n",
              "    .dataframe tbody tr th:only-of-type {\n",
              "        vertical-align: middle;\n",
              "    }\n",
              "\n",
              "    .dataframe tbody tr th {\n",
              "        vertical-align: top;\n",
              "    }\n",
              "\n",
              "    .dataframe thead th {\n",
              "        text-align: right;\n",
              "    }\n",
              "</style>\n",
              "<table border=\"1\" class=\"dataframe\">\n",
              "  <thead>\n",
              "    <tr style=\"text-align: right;\">\n",
              "      <th></th>\n",
              "      <th>Date_Time</th>\n",
              "      <th>Maturity</th>\n",
              "      <th>Stock_Price</th>\n",
              "      <th>Strike_Price</th>\n",
              "      <th>Amount_Borrowed_from_Bank</th>\n",
              "      <th>r</th>\n",
              "      <th>Dividend_Yield</th>\n",
              "      <th>Vol</th>\n",
              "      <th>BSM_Price</th>\n",
              "      <th>Call_Price</th>\n",
              "      <th>Delta</th>\n",
              "      <th>Wealth</th>\n",
              "      <th>Profit</th>\n",
              "    </tr>\n",
              "  </thead>\n",
              "  <tbody>\n",
              "    <tr>\n",
              "      <th>0</th>\n",
              "      <td>20/10/2024 2:48</td>\n",
              "      <td>17/1/2025 11:59</td>\n",
              "      <td>138.0</td>\n",
              "      <td>140.0</td>\n",
              "      <td>55.899116</td>\n",
              "      <td>0.0034</td>\n",
              "      <td>0.0003</td>\n",
              "      <td>0.368165</td>\n",
              "      <td>9.165654</td>\n",
              "      <td>13.97</td>\n",
              "      <td>0.506298</td>\n",
              "      <td>13.970000</td>\n",
              "      <td>0</td>\n",
              "    </tr>\n",
              "    <tr>\n",
              "      <th>1</th>\n",
              "      <td>2024-10-20 02:57:51</td>\n",
              "      <td>2025-01-17 11:59:00</td>\n",
              "      <td>138.0</td>\n",
              "      <td>140.0</td>\n",
              "      <td>55.898788</td>\n",
              "      <td>0.0034</td>\n",
              "      <td>0.0003</td>\n",
              "      <td>0.368165</td>\n",
              "      <td>9.165304</td>\n",
              "      <td>13.97</td>\n",
              "      <td>0.506298</td>\n",
              "      <td>13.970328</td>\n",
              "      <td>0.0003278671</td>\n",
              "    </tr>\n",
              "  </tbody>\n",
              "</table>\n",
              "</div>\n",
              "    <div class=\"colab-df-buttons\">\n",
              "\n",
              "  <div class=\"colab-df-container\">\n",
              "    <button class=\"colab-df-convert\" onclick=\"convertToInteractive('df-1b33ebb1-afa2-4dce-a3e7-c174cb8cf0df')\"\n",
              "            title=\"Convert this dataframe to an interactive table.\"\n",
              "            style=\"display:none;\">\n",
              "\n",
              "  <svg xmlns=\"http://www.w3.org/2000/svg\" height=\"24px\" viewBox=\"0 -960 960 960\">\n",
              "    <path d=\"M120-120v-720h720v720H120Zm60-500h600v-160H180v160Zm220 220h160v-160H400v160Zm0 220h160v-160H400v160ZM180-400h160v-160H180v160Zm440 0h160v-160H620v160ZM180-180h160v-160H180v160Zm440 0h160v-160H620v160Z\"/>\n",
              "  </svg>\n",
              "    </button>\n",
              "\n",
              "  <style>\n",
              "    .colab-df-container {\n",
              "      display:flex;\n",
              "      gap: 12px;\n",
              "    }\n",
              "\n",
              "    .colab-df-convert {\n",
              "      background-color: #E8F0FE;\n",
              "      border: none;\n",
              "      border-radius: 50%;\n",
              "      cursor: pointer;\n",
              "      display: none;\n",
              "      fill: #1967D2;\n",
              "      height: 32px;\n",
              "      padding: 0 0 0 0;\n",
              "      width: 32px;\n",
              "    }\n",
              "\n",
              "    .colab-df-convert:hover {\n",
              "      background-color: #E2EBFA;\n",
              "      box-shadow: 0px 1px 2px rgba(60, 64, 67, 0.3), 0px 1px 3px 1px rgba(60, 64, 67, 0.15);\n",
              "      fill: #174EA6;\n",
              "    }\n",
              "\n",
              "    .colab-df-buttons div {\n",
              "      margin-bottom: 4px;\n",
              "    }\n",
              "\n",
              "    [theme=dark] .colab-df-convert {\n",
              "      background-color: #3B4455;\n",
              "      fill: #D2E3FC;\n",
              "    }\n",
              "\n",
              "    [theme=dark] .colab-df-convert:hover {\n",
              "      background-color: #434B5C;\n",
              "      box-shadow: 0px 1px 3px 1px rgba(0, 0, 0, 0.15);\n",
              "      filter: drop-shadow(0px 1px 2px rgba(0, 0, 0, 0.3));\n",
              "      fill: #FFFFFF;\n",
              "    }\n",
              "  </style>\n",
              "\n",
              "    <script>\n",
              "      const buttonEl =\n",
              "        document.querySelector('#df-1b33ebb1-afa2-4dce-a3e7-c174cb8cf0df button.colab-df-convert');\n",
              "      buttonEl.style.display =\n",
              "        google.colab.kernel.accessAllowed ? 'block' : 'none';\n",
              "\n",
              "      async function convertToInteractive(key) {\n",
              "        const element = document.querySelector('#df-1b33ebb1-afa2-4dce-a3e7-c174cb8cf0df');\n",
              "        const dataTable =\n",
              "          await google.colab.kernel.invokeFunction('convertToInteractive',\n",
              "                                                    [key], {});\n",
              "        if (!dataTable) return;\n",
              "\n",
              "        const docLinkHtml = 'Like what you see? Visit the ' +\n",
              "          '<a target=\"_blank\" href=https://colab.research.google.com/notebooks/data_table.ipynb>data table notebook</a>'\n",
              "          + ' to learn more about interactive tables.';\n",
              "        element.innerHTML = '';\n",
              "        dataTable['output_type'] = 'display_data';\n",
              "        await google.colab.output.renderOutput(dataTable, element);\n",
              "        const docLink = document.createElement('div');\n",
              "        docLink.innerHTML = docLinkHtml;\n",
              "        element.appendChild(docLink);\n",
              "      }\n",
              "    </script>\n",
              "  </div>\n",
              "\n",
              "\n",
              "<div id=\"df-3231725d-f26f-4039-86de-8b10f7f9896d\">\n",
              "  <button class=\"colab-df-quickchart\" onclick=\"quickchart('df-3231725d-f26f-4039-86de-8b10f7f9896d')\"\n",
              "            title=\"Suggest charts\"\n",
              "            style=\"display:none;\">\n",
              "\n",
              "<svg xmlns=\"http://www.w3.org/2000/svg\" height=\"24px\"viewBox=\"0 0 24 24\"\n",
              "     width=\"24px\">\n",
              "    <g>\n",
              "        <path d=\"M19 3H5c-1.1 0-2 .9-2 2v14c0 1.1.9 2 2 2h14c1.1 0 2-.9 2-2V5c0-1.1-.9-2-2-2zM9 17H7v-7h2v7zm4 0h-2V7h2v10zm4 0h-2v-4h2v4z\"/>\n",
              "    </g>\n",
              "</svg>\n",
              "  </button>\n",
              "\n",
              "<style>\n",
              "  .colab-df-quickchart {\n",
              "      --bg-color: #E8F0FE;\n",
              "      --fill-color: #1967D2;\n",
              "      --hover-bg-color: #E2EBFA;\n",
              "      --hover-fill-color: #174EA6;\n",
              "      --disabled-fill-color: #AAA;\n",
              "      --disabled-bg-color: #DDD;\n",
              "  }\n",
              "\n",
              "  [theme=dark] .colab-df-quickchart {\n",
              "      --bg-color: #3B4455;\n",
              "      --fill-color: #D2E3FC;\n",
              "      --hover-bg-color: #434B5C;\n",
              "      --hover-fill-color: #FFFFFF;\n",
              "      --disabled-bg-color: #3B4455;\n",
              "      --disabled-fill-color: #666;\n",
              "  }\n",
              "\n",
              "  .colab-df-quickchart {\n",
              "    background-color: var(--bg-color);\n",
              "    border: none;\n",
              "    border-radius: 50%;\n",
              "    cursor: pointer;\n",
              "    display: none;\n",
              "    fill: var(--fill-color);\n",
              "    height: 32px;\n",
              "    padding: 0;\n",
              "    width: 32px;\n",
              "  }\n",
              "\n",
              "  .colab-df-quickchart:hover {\n",
              "    background-color: var(--hover-bg-color);\n",
              "    box-shadow: 0 1px 2px rgba(60, 64, 67, 0.3), 0 1px 3px 1px rgba(60, 64, 67, 0.15);\n",
              "    fill: var(--button-hover-fill-color);\n",
              "  }\n",
              "\n",
              "  .colab-df-quickchart-complete:disabled,\n",
              "  .colab-df-quickchart-complete:disabled:hover {\n",
              "    background-color: var(--disabled-bg-color);\n",
              "    fill: var(--disabled-fill-color);\n",
              "    box-shadow: none;\n",
              "  }\n",
              "\n",
              "  .colab-df-spinner {\n",
              "    border: 2px solid var(--fill-color);\n",
              "    border-color: transparent;\n",
              "    border-bottom-color: var(--fill-color);\n",
              "    animation:\n",
              "      spin 1s steps(1) infinite;\n",
              "  }\n",
              "\n",
              "  @keyframes spin {\n",
              "    0% {\n",
              "      border-color: transparent;\n",
              "      border-bottom-color: var(--fill-color);\n",
              "      border-left-color: var(--fill-color);\n",
              "    }\n",
              "    20% {\n",
              "      border-color: transparent;\n",
              "      border-left-color: var(--fill-color);\n",
              "      border-top-color: var(--fill-color);\n",
              "    }\n",
              "    30% {\n",
              "      border-color: transparent;\n",
              "      border-left-color: var(--fill-color);\n",
              "      border-top-color: var(--fill-color);\n",
              "      border-right-color: var(--fill-color);\n",
              "    }\n",
              "    40% {\n",
              "      border-color: transparent;\n",
              "      border-right-color: var(--fill-color);\n",
              "      border-top-color: var(--fill-color);\n",
              "    }\n",
              "    60% {\n",
              "      border-color: transparent;\n",
              "      border-right-color: var(--fill-color);\n",
              "    }\n",
              "    80% {\n",
              "      border-color: transparent;\n",
              "      border-right-color: var(--fill-color);\n",
              "      border-bottom-color: var(--fill-color);\n",
              "    }\n",
              "    90% {\n",
              "      border-color: transparent;\n",
              "      border-bottom-color: var(--fill-color);\n",
              "    }\n",
              "  }\n",
              "</style>\n",
              "\n",
              "  <script>\n",
              "    async function quickchart(key) {\n",
              "      const quickchartButtonEl =\n",
              "        document.querySelector('#' + key + ' button');\n",
              "      quickchartButtonEl.disabled = true;  // To prevent multiple clicks.\n",
              "      quickchartButtonEl.classList.add('colab-df-spinner');\n",
              "      try {\n",
              "        const charts = await google.colab.kernel.invokeFunction(\n",
              "            'suggestCharts', [key], {});\n",
              "      } catch (error) {\n",
              "        console.error('Error during call to suggestCharts:', error);\n",
              "      }\n",
              "      quickchartButtonEl.classList.remove('colab-df-spinner');\n",
              "      quickchartButtonEl.classList.add('colab-df-quickchart-complete');\n",
              "    }\n",
              "    (() => {\n",
              "      let quickchartButtonEl =\n",
              "        document.querySelector('#df-3231725d-f26f-4039-86de-8b10f7f9896d button');\n",
              "      quickchartButtonEl.style.display =\n",
              "        google.colab.kernel.accessAllowed ? 'block' : 'none';\n",
              "    })();\n",
              "  </script>\n",
              "</div>\n",
              "\n",
              "    </div>\n",
              "  </div>\n"
            ],
            "application/vnd.google.colaboratory.intrinsic+json": {
              "type": "dataframe",
              "variable_name": "df",
              "summary": "{\n  \"name\": \"df\",\n  \"rows\": 2,\n  \"fields\": [\n    {\n      \"column\": \"Date_Time\",\n      \"properties\": {\n        \"dtype\": \"object\",\n        \"num_unique_values\": 2,\n        \"samples\": [\n          \"2024-10-20 02:57:51\",\n          \"20/10/2024 2:48\"\n        ],\n        \"semantic_type\": \"\",\n        \"description\": \"\"\n      }\n    },\n    {\n      \"column\": \"Maturity\",\n      \"properties\": {\n        \"dtype\": \"object\",\n        \"num_unique_values\": 2,\n        \"samples\": [\n          \"2025-01-17 11:59:00\",\n          \"17/1/2025 11:59\"\n        ],\n        \"semantic_type\": \"\",\n        \"description\": \"\"\n      }\n    },\n    {\n      \"column\": \"Stock_Price\",\n      \"properties\": {\n        \"dtype\": \"number\",\n        \"std\": 0.0,\n        \"min\": 138.0,\n        \"max\": 138.0,\n        \"num_unique_values\": 1,\n        \"samples\": [\n          138.0\n        ],\n        \"semantic_type\": \"\",\n        \"description\": \"\"\n      }\n    },\n    {\n      \"column\": \"Strike_Price\",\n      \"properties\": {\n        \"dtype\": \"number\",\n        \"std\": 0.0,\n        \"min\": 140.0,\n        \"max\": 140.0,\n        \"num_unique_values\": 1,\n        \"samples\": [\n          140.0\n        ],\n        \"semantic_type\": \"\",\n        \"description\": \"\"\n      }\n    },\n    {\n      \"column\": \"Amount_Borrowed_from_Bank\",\n      \"properties\": {\n        \"dtype\": \"number\",\n        \"std\": 0.00023184045367658694,\n        \"min\": 55.8987878480861,\n        \"max\": 55.89911572,\n        \"num_unique_values\": 2,\n        \"samples\": [\n          55.8987878480861\n        ],\n        \"semantic_type\": \"\",\n        \"description\": \"\"\n      }\n    },\n    {\n      \"column\": \"r\",\n      \"properties\": {\n        \"dtype\": \"number\",\n        \"std\": 0.0,\n        \"min\": 0.0034,\n        \"max\": 0.0034,\n        \"num_unique_values\": 1,\n        \"samples\": [\n          0.0034\n        ],\n        \"semantic_type\": \"\",\n        \"description\": \"\"\n      }\n    },\n    {\n      \"column\": \"Dividend_Yield\",\n      \"properties\": {\n        \"dtype\": \"number\",\n        \"std\": 0.0,\n        \"min\": 0.0003,\n        \"max\": 0.0003,\n        \"num_unique_values\": 1,\n        \"samples\": [\n          0.0003\n        ],\n        \"semantic_type\": \"\",\n        \"description\": \"\"\n      }\n    },\n    {\n      \"column\": \"Vol\",\n      \"properties\": {\n        \"dtype\": \"number\",\n        \"std\": 8.538896808547706e-11,\n        \"min\": 0.368164741,\n        \"max\": 0.36816474112075825,\n        \"num_unique_values\": 2,\n        \"samples\": [\n          0.36816474112075825\n        ],\n        \"semantic_type\": \"\",\n        \"description\": \"\"\n      }\n    },\n    {\n      \"column\": \"BSM_Price\",\n      \"properties\": {\n        \"dtype\": \"number\",\n        \"std\": 0.0002478506948821763,\n        \"min\": 9.165303689185855,\n        \"max\": 9.165654203,\n        \"num_unique_values\": 2,\n        \"samples\": [\n          9.165303689185855\n        ],\n        \"semantic_type\": \"\",\n        \"description\": \"\"\n      }\n    },\n    {\n      \"column\": \"Call_Price\",\n      \"properties\": {\n        \"dtype\": \"number\",\n        \"std\": 0.0,\n        \"min\": 13.97,\n        \"max\": 13.97,\n        \"num_unique_values\": 1,\n        \"samples\": [\n          13.97\n        ],\n        \"semantic_type\": \"\",\n        \"description\": \"\"\n      }\n    },\n    {\n      \"column\": \"Delta\",\n      \"properties\": {\n        \"dtype\": \"number\",\n        \"std\": 2.474489266284963e-11,\n        \"min\": 0.5062979399650054,\n        \"max\": 0.50629794,\n        \"num_unique_values\": 2,\n        \"samples\": [\n          0.5062979399650054\n        ],\n        \"semantic_type\": \"\",\n        \"description\": \"\"\n      }\n    },\n    {\n      \"column\": \"Wealth\",\n      \"properties\": {\n        \"dtype\": \"number\",\n        \"std\": 0.00023183703888249855,\n        \"min\": 13.97,\n        \"max\": 13.970327867084649,\n        \"num_unique_values\": 2,\n        \"samples\": [\n          13.970327867084649\n        ],\n        \"semantic_type\": \"\",\n        \"description\": \"\"\n      }\n    },\n    {\n      \"column\": \"Profit\",\n      \"properties\": {\n        \"dtype\": \"string\",\n        \"num_unique_values\": 2,\n        \"samples\": [\n          \"0.0003278671\"\n        ],\n        \"semantic_type\": \"\",\n        \"description\": \"\"\n      }\n    }\n  ]\n}"
            }
          },
          "metadata": {},
          "execution_count": 78
        }
      ]
    },
    {
      "cell_type": "code",
      "source": [
        "from google.colab import files\n",
        "df.to_csv('NVDA.csv', date_format='%Y-%m-%d %H:%M:%S', index = False)\n",
        "files.download(\"NVDA.csv\")\n",
        "\n",
        "#delete last row\n",
        "# df = df[:-1]\n",
        "# df.head()"
      ],
      "metadata": {
        "colab": {
          "base_uri": "https://localhost:8080/",
          "height": 17
        },
        "id": "iWgFzbJ4CW7o",
        "outputId": "5b0d54e4-adf7-4775-9b80-139020f0076c"
      },
      "execution_count": null,
      "outputs": [
        {
          "output_type": "display_data",
          "data": {
            "text/plain": [
              "<IPython.core.display.Javascript object>"
            ],
            "application/javascript": [
              "\n",
              "    async function download(id, filename, size) {\n",
              "      if (!google.colab.kernel.accessAllowed) {\n",
              "        return;\n",
              "      }\n",
              "      const div = document.createElement('div');\n",
              "      const label = document.createElement('label');\n",
              "      label.textContent = `Downloading \"${filename}\": `;\n",
              "      div.appendChild(label);\n",
              "      const progress = document.createElement('progress');\n",
              "      progress.max = size;\n",
              "      div.appendChild(progress);\n",
              "      document.body.appendChild(div);\n",
              "\n",
              "      const buffers = [];\n",
              "      let downloaded = 0;\n",
              "\n",
              "      const channel = await google.colab.kernel.comms.open(id);\n",
              "      // Send a message to notify the kernel that we're ready.\n",
              "      channel.send({})\n",
              "\n",
              "      for await (const message of channel.messages) {\n",
              "        // Send a message to notify the kernel that we're ready.\n",
              "        channel.send({})\n",
              "        if (message.buffers) {\n",
              "          for (const buffer of message.buffers) {\n",
              "            buffers.push(buffer);\n",
              "            downloaded += buffer.byteLength;\n",
              "            progress.value = downloaded;\n",
              "          }\n",
              "        }\n",
              "      }\n",
              "      const blob = new Blob(buffers, {type: 'application/binary'});\n",
              "      const a = document.createElement('a');\n",
              "      a.href = window.URL.createObjectURL(blob);\n",
              "      a.download = filename;\n",
              "      div.appendChild(a);\n",
              "      a.click();\n",
              "      div.remove();\n",
              "    }\n",
              "  "
            ]
          },
          "metadata": {}
        },
        {
          "output_type": "display_data",
          "data": {
            "text/plain": [
              "<IPython.core.display.Javascript object>"
            ],
            "application/javascript": [
              "download(\"download_97017a1d-c7d9-4d82-824c-6971e219a79f\", \"NVDA.csv\", 429)"
            ]
          },
          "metadata": {}
        }
      ]
    },
    {
      "cell_type": "code",
      "source": [
        "#export csv file\n",
        "\n",
        "# from google.colab import files\n",
        "# df.to_csv('NVDA.csv')\n",
        "# files.download('NVDA.csv')"
      ],
      "metadata": {
        "colab": {
          "base_uri": "https://localhost:8080/",
          "height": 17
        },
        "id": "JozyWJGDDJlQ",
        "outputId": "d9d54fc0-c996-4204-d935-cad399785d83"
      },
      "execution_count": null,
      "outputs": [
        {
          "output_type": "display_data",
          "data": {
            "text/plain": [
              "<IPython.core.display.Javascript object>"
            ],
            "application/javascript": [
              "\n",
              "    async function download(id, filename, size) {\n",
              "      if (!google.colab.kernel.accessAllowed) {\n",
              "        return;\n",
              "      }\n",
              "      const div = document.createElement('div');\n",
              "      const label = document.createElement('label');\n",
              "      label.textContent = `Downloading \"${filename}\": `;\n",
              "      div.appendChild(label);\n",
              "      const progress = document.createElement('progress');\n",
              "      progress.max = size;\n",
              "      div.appendChild(progress);\n",
              "      document.body.appendChild(div);\n",
              "\n",
              "      const buffers = [];\n",
              "      let downloaded = 0;\n",
              "\n",
              "      const channel = await google.colab.kernel.comms.open(id);\n",
              "      // Send a message to notify the kernel that we're ready.\n",
              "      channel.send({})\n",
              "\n",
              "      for await (const message of channel.messages) {\n",
              "        // Send a message to notify the kernel that we're ready.\n",
              "        channel.send({})\n",
              "        if (message.buffers) {\n",
              "          for (const buffer of message.buffers) {\n",
              "            buffers.push(buffer);\n",
              "            downloaded += buffer.byteLength;\n",
              "            progress.value = downloaded;\n",
              "          }\n",
              "        }\n",
              "      }\n",
              "      const blob = new Blob(buffers, {type: 'application/binary'});\n",
              "      const a = document.createElement('a');\n",
              "      a.href = window.URL.createObjectURL(blob);\n",
              "      a.download = filename;\n",
              "      div.appendChild(a);\n",
              "      a.click();\n",
              "      div.remove();\n",
              "    }\n",
              "  "
            ]
          },
          "metadata": {}
        },
        {
          "output_type": "display_data",
          "data": {
            "text/plain": [
              "<IPython.core.display.Javascript object>"
            ],
            "application/javascript": [
              "download(\"download_f10c3c30-dda3-4464-9c1c-969be801efc7\", \"NVDA.csv\", 455)"
            ]
          },
          "metadata": {}
        }
      ]
    },
    {
      "cell_type": "markdown",
      "source": [
        "# **Scripting**"
      ],
      "metadata": {
        "id": "4pB9pNnZDhcz"
      }
    },
    {
      "cell_type": "code",
      "source": [
        "#stock to search\n",
        "option = 'NVDA250117C00140000'\n",
        "ticker = 'NVDA'\n",
        "r = 0.0034 #risk free sg rate as of oct 2024"
      ],
      "metadata": {
        "id": "rlhgHi3EWase"
      },
      "execution_count": null,
      "outputs": []
    },
    {
      "cell_type": "code",
      "source": [
        "#connect to Azure SQL server using pyodbc\n",
        "server = '*****'\n",
        "database = '*****'\n",
        "username = '*****'\n",
        "password = '*****'\n",
        "cnxn = pyodbc.connect('DRIVER={ODBC Driver 17 for SQL Server};SERVER='+server+';DATABASE='+database+';UID='+username+';PWD='+ password)\n",
        "cursor = cnxn.cursor()\n",
        "\n",
        "#delete data in table\n",
        "cursor.execute('''TRUNCATE TABLE dbo.NVDA''')\n",
        "\n",
        "#execute command\n",
        "cnxn.commit()"
      ],
      "metadata": {
        "id": "6QW87m2SFGvP"
      },
      "execution_count": null,
      "outputs": []
    },
    {
      "cell_type": "code",
      "source": [
        "#export csv file\n",
        "df.to_csv(r'/home/briansim74/Desktop/NVDA.csv', index = False)"
      ],
      "metadata": {
        "id": "TW43BOhSFGlC"
      },
      "execution_count": null,
      "outputs": []
    },
    {
      "cell_type": "code",
      "source": [
        "#BCP utility bulk insert updated CSV file into SQL server\n",
        "os.system('/opt/mssql-tools18/bin/bcp dbo.NVDA in \"/home/briansim74/Desktop/NVDA.csv\" -S *****.database.windows.net -d ***** -U ***** -P ***** -c -F 2 -t \",\" -r \"0x0a\"')"
      ],
      "metadata": {
        "id": "3pRXL9sVu9kU"
      },
      "execution_count": null,
      "outputs": []
    },
    {
      "cell_type": "code",
      "source": [
        "#close cursor\n",
        "cursor.close()"
      ],
      "metadata": {
        "id": "mCzG_ytwPK6l"
      },
      "execution_count": null,
      "outputs": []
    },
    {
      "cell_type": "code",
      "source": [
        "#quit driver\n",
        "driver.quit()"
      ],
      "metadata": {
        "id": "We3wIM5ju--4"
      },
      "execution_count": null,
      "outputs": []
    }
  ]
}
