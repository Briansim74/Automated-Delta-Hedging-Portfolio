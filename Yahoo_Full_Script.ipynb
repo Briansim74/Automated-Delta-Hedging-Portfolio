{
  "cells": [
    {
      "cell_type": "markdown",
      "metadata": {
        "id": "9DubTC-H-PYx"
      },
      "source": [
        "# **Initial Setup of Portfolio**"
      ]
    },
    {
      "cell_type": "code",
      "execution_count": 86,
      "metadata": {
        "colab": {
          "base_uri": "https://localhost:8080/"
        },
        "id": "Cn377ftXsZ4v",
        "outputId": "760441b0-1fb7-45d9-f71c-89b1d0fbfbdc"
      },
      "outputs": [
        {
          "output_type": "stream",
          "name": "stdout",
          "text": [
            "Drive already mounted at /content/gdrive; to attempt to forcibly remount, call drive.mount(\"/content/gdrive\", force_remount=True).\n"
          ]
        }
      ],
      "source": [
        "from google.colab import drive\n",
        "\n",
        "drive.mount('/content/gdrive')\n",
        "\n",
        "save_path = \"/content/gdrive/MyDrive/XML Qns/\""
      ]
    },
    {
      "cell_type": "code",
      "execution_count": 87,
      "metadata": {
        "colab": {
          "base_uri": "https://localhost:8080/"
        },
        "id": "rA4WVJoksnx6",
        "outputId": "5c7d3264-9756-44b7-c91a-bc681c10be65"
      },
      "outputs": [
        {
          "output_type": "stream",
          "name": "stdout",
          "text": [
            "Requirement already satisfied: selenium in /usr/local/lib/python3.10/dist-packages (4.25.0)\n",
            "Requirement already satisfied: urllib3<3,>=1.26 in /usr/local/lib/python3.10/dist-packages (from urllib3[socks]<3,>=1.26->selenium) (2.2.3)\n",
            "Requirement already satisfied: trio~=0.17 in /usr/local/lib/python3.10/dist-packages (from selenium) (0.27.0)\n",
            "Requirement already satisfied: trio-websocket~=0.9 in /usr/local/lib/python3.10/dist-packages (from selenium) (0.11.1)\n",
            "Requirement already satisfied: certifi>=2021.10.8 in /usr/local/lib/python3.10/dist-packages (from selenium) (2024.8.30)\n",
            "Requirement already satisfied: typing_extensions~=4.9 in /usr/local/lib/python3.10/dist-packages (from selenium) (4.12.2)\n",
            "Requirement already satisfied: websocket-client~=1.8 in /usr/local/lib/python3.10/dist-packages (from selenium) (1.8.0)\n",
            "Requirement already satisfied: attrs>=23.2.0 in /usr/local/lib/python3.10/dist-packages (from trio~=0.17->selenium) (24.2.0)\n",
            "Requirement already satisfied: sortedcontainers in /usr/local/lib/python3.10/dist-packages (from trio~=0.17->selenium) (2.4.0)\n",
            "Requirement already satisfied: idna in /usr/local/lib/python3.10/dist-packages (from trio~=0.17->selenium) (3.10)\n",
            "Requirement already satisfied: outcome in /usr/local/lib/python3.10/dist-packages (from trio~=0.17->selenium) (1.3.0.post0)\n",
            "Requirement already satisfied: sniffio>=1.3.0 in /usr/local/lib/python3.10/dist-packages (from trio~=0.17->selenium) (1.3.1)\n",
            "Requirement already satisfied: exceptiongroup in /usr/local/lib/python3.10/dist-packages (from trio~=0.17->selenium) (1.2.2)\n",
            "Requirement already satisfied: wsproto>=0.14 in /usr/local/lib/python3.10/dist-packages (from trio-websocket~=0.9->selenium) (1.2.0)\n",
            "Requirement already satisfied: pysocks!=1.5.7,<2.0,>=1.5.6 in /usr/local/lib/python3.10/dist-packages (from urllib3[socks]<3,>=1.26->selenium) (1.7.1)\n",
            "Requirement already satisfied: h11<1,>=0.9.0 in /usr/local/lib/python3.10/dist-packages (from wsproto>=0.14->trio-websocket~=0.9->selenium) (0.14.0)\n",
            "Reading package lists... Done\n",
            "Building dependency tree... Done\n",
            "Reading state information... Done\n",
            "Note, selecting 'chromium-chromedriver' instead of 'chromium-driver'\n",
            "chromium-chromedriver is already the newest version (1:85.0.4183.83-0ubuntu2.22.04.1).\n",
            "0 upgraded, 0 newly installed, 0 to remove and 48 not upgraded.\n",
            "Requirement already satisfied: pyodbc in /usr/local/lib/python3.10/dist-packages (5.2.0)\n"
          ]
        }
      ],
      "source": [
        "!pip install selenium\n",
        "from selenium import webdriver\n",
        "!apt-get install chromium-driver\n",
        "!pip install pyodbc"
      ]
    },
    {
      "cell_type": "code",
      "execution_count": 88,
      "metadata": {
        "id": "Hy002SrcspVS"
      },
      "outputs": [],
      "source": [
        "import pandas as pd\n",
        "import time\n",
        "import re\n",
        "import os\n",
        "import pyodbc\n",
        "import pytz\n",
        "import numpy as np\n",
        "import statistics\n",
        "from math import *\n",
        "from google.colab import files\n",
        "from datetime import datetime, timedelta\n",
        "from selenium import webdriver\n",
        "from selenium.webdriver.common.by import By\n",
        "from selenium.webdriver.common.action_chains import ActionChains\n",
        "from selenium.webdriver.common.keys import Keys"
      ]
    },
    {
      "cell_type": "code",
      "execution_count": 89,
      "metadata": {
        "id": "7B3NecAAsr9p"
      },
      "outputs": [],
      "source": [
        "def web_driver():\n",
        "  options = webdriver.ChromeOptions()\n",
        "  options.add_argument(\"--verbose\")\n",
        "  options.add_argument(\"--no-sandbox\")\n",
        "  options.add_argument(\"--headless\")\n",
        "  options.add_argument(\"--disable-gpu\")\n",
        "  options.add_argument(\"--window-soze = 1920, 1200\")\n",
        "  options.add_argument(\"--disable-dev-shm-usage\")\n",
        "  driver = webdriver.Chrome(options = options)\n",
        "  return driver\n",
        "\n",
        "driver = web_driver()\n",
        "\n",
        "def N(x):\n",
        "  #'Cumulative distribution function for the standard normal distribution'\n",
        "  return (1.0 + erf(x / sqrt(2.0))) / 2.0\n",
        "\n",
        "def deltac(S, K, r, y, τ, σ):\n",
        "  d1 = 1/(σ * np.sqrt(τ)) * (np.log(S * np.exp(-y * (τ)) / K) + (r - y + σ**2/2)*(τ) )\n",
        "  return np.exp(-y * τ) * N(d1)\n",
        "\n",
        "def c(S, K, r, y, τ, σ):\n",
        "  d1 = 1/(σ * np.sqrt(τ)) * (np.log(S * np.exp(-y * (τ)) / K) + (r - y + σ**2/2)*(τ) )\n",
        "  d2 = d1 - σ * np.sqrt(τ)\n",
        "  return S * np.exp(-y * (τ)) * N(d1) - K * np.exp(-r * (τ)) * N(d2)"
      ]
    },
    {
      "cell_type": "code",
      "execution_count": 90,
      "metadata": {
        "id": "5NjdKgVIvBpt"
      },
      "outputs": [],
      "source": [
        "#stock to search\n",
        "option = 'NVDA250117C00140000'\n",
        "ticker = 'NVDA'\n",
        "r = 0.0034 #risk free sg rate as of oct 2024"
      ]
    },
    {
      "cell_type": "code",
      "execution_count": 91,
      "metadata": {
        "colab": {
          "base_uri": "https://localhost:8080/"
        },
        "id": "g2_mANousu-C",
        "outputId": "475e0e6e-9b88-40eb-8223-8092b921c2b4"
      },
      "outputs": [
        {
          "output_type": "stream",
          "name": "stdout",
          "text": [
            "Stock Price: 141.54\n",
            "Dividend Yield: 0.0003\n"
          ]
        }
      ],
      "source": [
        "url = \"https://sg.finance.yahoo.com/\"\n",
        "\n",
        "# Open the webpage\n",
        "driver.get(url)\n",
        "\n",
        "# Wait for the page to load\n",
        "time.sleep(0.1)\n",
        "\n",
        "# get search button element\n",
        "search = driver.find_element(By.XPATH, '//*[@id=\"header-quote-lookup\"]/div/form/input')\n",
        "# create action chain object\n",
        "action = ActionChains(driver)\n",
        "# click the item\n",
        "action.click(on_element = search)\n",
        "# perform the operation\n",
        "action.perform()\n",
        "\n",
        "\n",
        "#search ticker\n",
        "search.send_keys(ticker)\n",
        "search.send_keys(Keys.ENTER)\n",
        "time.sleep(0.7)\n",
        "\n",
        "S = float(driver.find_elements(By.XPATH, '/html/body/div[2]/main/section/section/section/article/section[1]/div[2]/div[1]/section/div/section[1]/div[1]/fin-streamer[1]')[0].text.splitlines()[0])\n",
        "\n",
        "y = float(re.findall(r'\\(.*?\\)', driver.find_elements(By.XPATH, '//*[@id=\"nimbus-app\"]/section/section/section/article/div[2]')[0].text.splitlines()[27])[0][1:-2]) / 100\n",
        "\n",
        "print(\"Stock Price:\", S)\n",
        "print(\"Dividend Yield:\", y)"
      ]
    },
    {
      "cell_type": "markdown",
      "metadata": {
        "id": "eEeVraypVKyC"
      },
      "source": [
        "Calculate 20 day annualized volatility"
      ]
    },
    {
      "cell_type": "code",
      "execution_count": 92,
      "metadata": {
        "colab": {
          "base_uri": "https://localhost:8080/"
        },
        "id": "n_9iFzK5hmz1",
        "outputId": "b2864b04-6b61-4ff1-dc2d-3acd2179dbdd"
      },
      "outputs": [
        {
          "output_type": "stream",
          "name": "stdout",
          "text": [
            "20 day volatility 0.3754370789925649\n"
          ]
        }
      ],
      "source": [
        "def vol():\n",
        "  # get historical data for volatility\n",
        "  historical = driver.find_element(By.XPATH, '//*[@id=\"nimbus-app\"]/section/section/aside/section/nav/ul/li[5]/a')\n",
        "  # create action chain object\n",
        "  action = ActionChains(driver)\n",
        "  # click the item\n",
        "  action.click(on_element = historical)\n",
        "  # perform the operation\n",
        "  action.perform()\n",
        "\n",
        "  time.sleep(0.7)\n",
        "\n",
        "  #20 day average volatility\n",
        "  days = 20\n",
        "\n",
        "  historical_table = driver.find_elements(By.XPATH, '//*[@id=\"nimbus-app\"]/section/section/section/article/div[1]/div[3]/table')[0].text.splitlines()\n",
        "\n",
        "  vol_row_log = []\n",
        "  Y = []\n",
        "\n",
        "  for i in range(days):\n",
        "    adj_close = float((historical_table[i + 3].split())[-2])\n",
        "    vol_row_log.append(log(adj_close))\n",
        "\n",
        "  for i in range(days - 1):\n",
        "    Y.append(vol_row_log[i] - vol_row_log[i+1])\n",
        "\n",
        "  Y_avg = statistics.fmean(Y)\n",
        "\n",
        "  #get annual volatility\n",
        "  vol = sqrt(sum((np.array(Y) - Y_avg)**2) / (days - 1)) * sqrt(252)\n",
        "\n",
        "  return vol\n",
        "\n",
        "vol = vol()\n",
        "\n",
        "print(\"20 day volatility\", vol)"
      ]
    },
    {
      "cell_type": "code",
      "execution_count": 93,
      "metadata": {
        "colab": {
          "base_uri": "https://localhost:8080/"
        },
        "id": "3b3FSW_W2vnU",
        "outputId": "961c7992-8e18-4fec-e9c0-a4d75f2d7e57"
      },
      "outputs": [
        {
          "output_type": "stream",
          "name": "stdout",
          "text": [
            "['Previous close', '15.15', 'Open', '15.60', 'Bid', '15.65', 'Ask', '15.80', 'Strike', '140.00', 'Expiry date', '2025-01-17', \"Day's range\", '15.35 - 17.28', 'Contract range', '--', 'Volume', '2,728', 'Open interest', '69.02k']\n",
            "Strike_Price: 140.0\n",
            "Call_Price: 15.75\n",
            "Maturity: 2025-01-17 11:59:00\n"
          ]
        }
      ],
      "source": [
        "#go to options page\n",
        "url = \"https://sg.finance.yahoo.com/quote/\"+ option + \"/\"\n",
        "\n",
        "# Open the webpage\n",
        "driver.get(url)\n",
        "\n",
        "# Wait for the page to load\n",
        "time.sleep(0.3)\n",
        "\n",
        "option_table = driver.find_elements(By.XPATH, '//*[@id=\"nimbus-app\"]/section/section/section/article/div[2]')[0].text.splitlines()\n",
        "\n",
        "K = float(option_table[9])\n",
        "maturity = datetime.combine(datetime.strptime(option_table[11], '%Y-%m-%d').date(), datetime.strptime(\"11:59:00\", '%H:%M:%S').time()) #add 11:59:00 to maturity date\n",
        "print(option_table)\n",
        "\n",
        "call_price = float(driver.find_elements(By.XPATH, '//*[@id=\"nimbus-app\"]/section/section/section/article/section[1]/div[2]/div[1]/section/div/section/div[1]/fin-streamer[1]')[0].text.splitlines()[0])\n",
        "\n",
        "print(\"Strike_Price:\", K)\n",
        "print(\"Call_Price:\", call_price)\n",
        "print(\"Maturity:\", maturity)"
      ]
    },
    {
      "cell_type": "code",
      "execution_count": 94,
      "metadata": {
        "colab": {
          "base_uri": "https://localhost:8080/"
        },
        "id": "8kfM5wqUxtZd",
        "outputId": "78399d98-0ded-4c28-fd84-ea383d30caf3"
      },
      "outputs": [
        {
          "output_type": "stream",
          "name": "stdout",
          "text": [
            "The current url is:https://sg.finance.yahoo.com/quote/NVDA250117C00140000/\n"
          ]
        }
      ],
      "source": [
        "# get_url = driver.current_url\n",
        "# print(\"The current url is:\"+str(get_url))"
      ]
    },
    {
      "cell_type": "code",
      "execution_count": 95,
      "metadata": {
        "colab": {
          "base_uri": "https://localhost:8080/"
        },
        "id": "IsDu0E0ECupF",
        "outputId": "e0cd8d69-b2af-466b-8995-5bc604a0cd6b"
      },
      "outputs": [
        {
          "output_type": "stream",
          "name": "stdout",
          "text": [
            "NYC current date and time: 2024-10-26 01:42:24\n",
            "Time to maturity: 83 days, 10:16:36\n",
            "83 days 36996 seconds\n",
            "7208196.0 seconds\n",
            "0.22857039573820395 years\n"
          ]
        }
      ],
      "source": [
        "#current time\n",
        "date = datetime.now(tz=pytz.timezone('America/New_York')).replace(microsecond = 0).replace(tzinfo=None)\n",
        "print(\"NYC current date and time:\", date)\n",
        "\n",
        "time_to_maturity = maturity - date\n",
        "print(\"Time to maturity:\", time_to_maturity)\n",
        "print(time_to_maturity.days, \"days\", time_to_maturity.seconds, \"seconds\")\n",
        "\n",
        "#time to maturity (seconds)\n",
        "tau_seconds = float(time_to_maturity.days) * 24 * 3600 + float(time_to_maturity.seconds)\n",
        "print(tau_seconds, \"seconds\")\n",
        "\n",
        "#time to maturity (years)\n",
        "tau_years = tau_seconds / (365 * 24 * 3600)\n",
        "print(tau_years, \"years\")"
      ]
    },
    {
      "cell_type": "code",
      "execution_count": 96,
      "metadata": {
        "colab": {
          "base_uri": "https://localhost:8080/"
        },
        "id": "Moc-7Xs4u4jw",
        "outputId": "ad8fe250-f445-42bc-d76a-f2c6e70c69af"
      },
      "outputs": [
        {
          "output_type": "stream",
          "name": "stdout",
          "text": [
            "Call_Price: 15.75\n",
            "BSM_Price: 10.903056862065256\n"
          ]
        }
      ],
      "source": [
        "bsm_price = c(S, K, r, y, tau_years, vol)\n",
        "print(\"Call_Price:\", call_price)\n",
        "print(\"BSM_Price:\", bsm_price)"
      ]
    },
    {
      "cell_type": "code",
      "execution_count": 97,
      "metadata": {
        "colab": {
          "base_uri": "https://localhost:8080/"
        },
        "id": "TvahEJ9OvJH5",
        "outputId": "36116fc4-47e1-4cfd-8a17-22895e4bc2ef"
      },
      "outputs": [
        {
          "output_type": "stream",
          "name": "stdout",
          "text": [
            "Delta: 0.5612596098725205\n",
            "Value of shares: 79.44068518135656\n",
            "Buy 0.5612596098725205 shares of stock\n",
            "Long difference of 0.5612596098725205 * 141.54 - 15.75 from bank = -63.69068518135656\n"
          ]
        }
      ],
      "source": [
        "#number of shares to hold\n",
        "delta = deltac(S, K, r, y, tau_years, vol)\n",
        "print(\"Delta:\", delta)\n",
        "\n",
        "#value of shares\n",
        "value_of_shares = delta * S\n",
        "print(\"Value of shares:\", value_of_shares)\n",
        "\n",
        "#number of shares to buy\n",
        "print(\"Buy\", delta, \"shares of stock\")\n",
        "\n",
        "#amount to borrow from bank\n",
        "difference = delta * S - call_price\n",
        "print(\"Long difference of\", delta, \"*\", S, \"-\", call_price, \"from bank =\", -difference)"
      ]
    },
    {
      "cell_type": "code",
      "execution_count": 103,
      "metadata": {
        "colab": {
          "base_uri": "https://localhost:8080/"
        },
        "id": "eXFrwBctwA9a",
        "outputId": "33d7e69b-121f-4799-8af8-dd611ffbc3e0"
      },
      "outputs": [
        {
          "output_type": "stream",
          "name": "stdout",
          "text": [
            "Value of Replicating Portfolio: 15.75\n",
            "Profit: 0.0\n"
          ]
        }
      ],
      "source": [
        "#wealth\n",
        "portfolio = delta * S - difference\n",
        "print(\"Value of Replicating Portfolio:\", portfolio)\n",
        "\n",
        "#profit\n",
        "profit = float(format(0, '.10f'))\n",
        "print(\"Profit:\", profit)"
      ]
    },
    {
      "cell_type": "code",
      "execution_count": 104,
      "metadata": {
        "colab": {
          "base_uri": "https://localhost:8080/",
          "height": 98
        },
        "id": "o8arbPZbETP-",
        "outputId": "dafae39a-d468-415e-a0b1-048294de0b7b"
      },
      "outputs": [
        {
          "output_type": "execute_result",
          "data": {
            "text/plain": [
              "            Date_Time            Maturity  Stock_Price  Strike_Price  \\\n",
              "0 2024-10-26 01:42:24 2025-01-17 11:59:00       141.54         140.0   \n",
              "\n",
              "   Amount_Borrowed_from_Bank  Risk_free_rate  Dividend_Yield       Vol  \\\n",
              "0                  63.690685          0.0034          0.0003  0.375437   \n",
              "\n",
              "   BSM_price  Call_Price    Delta  Wealth  Profit_without_Hedging  \\\n",
              "0  10.903057       15.75  0.56126   15.75                     0.0   \n",
              "\n",
              "   Profit_with_Hedging  \n",
              "0                  0.0  "
            ],
            "text/html": [
              "\n",
              "  <div id=\"df-bec4f1cf-34e9-4146-b40d-dea23bdb4cdd\" class=\"colab-df-container\">\n",
              "    <div>\n",
              "<style scoped>\n",
              "    .dataframe tbody tr th:only-of-type {\n",
              "        vertical-align: middle;\n",
              "    }\n",
              "\n",
              "    .dataframe tbody tr th {\n",
              "        vertical-align: top;\n",
              "    }\n",
              "\n",
              "    .dataframe thead th {\n",
              "        text-align: right;\n",
              "    }\n",
              "</style>\n",
              "<table border=\"1\" class=\"dataframe\">\n",
              "  <thead>\n",
              "    <tr style=\"text-align: right;\">\n",
              "      <th></th>\n",
              "      <th>Date_Time</th>\n",
              "      <th>Maturity</th>\n",
              "      <th>Stock_Price</th>\n",
              "      <th>Strike_Price</th>\n",
              "      <th>Amount_Borrowed_from_Bank</th>\n",
              "      <th>Risk_free_rate</th>\n",
              "      <th>Dividend_Yield</th>\n",
              "      <th>Vol</th>\n",
              "      <th>BSM_price</th>\n",
              "      <th>Call_Price</th>\n",
              "      <th>Delta</th>\n",
              "      <th>Wealth</th>\n",
              "      <th>Profit_without_Hedging</th>\n",
              "      <th>Profit_with_Hedging</th>\n",
              "    </tr>\n",
              "  </thead>\n",
              "  <tbody>\n",
              "    <tr>\n",
              "      <th>0</th>\n",
              "      <td>2024-10-26 01:42:24</td>\n",
              "      <td>2025-01-17 11:59:00</td>\n",
              "      <td>141.54</td>\n",
              "      <td>140.0</td>\n",
              "      <td>63.690685</td>\n",
              "      <td>0.0034</td>\n",
              "      <td>0.0003</td>\n",
              "      <td>0.375437</td>\n",
              "      <td>10.903057</td>\n",
              "      <td>15.75</td>\n",
              "      <td>0.56126</td>\n",
              "      <td>15.75</td>\n",
              "      <td>0.0</td>\n",
              "      <td>0.0</td>\n",
              "    </tr>\n",
              "  </tbody>\n",
              "</table>\n",
              "</div>\n",
              "    <div class=\"colab-df-buttons\">\n",
              "\n",
              "  <div class=\"colab-df-container\">\n",
              "    <button class=\"colab-df-convert\" onclick=\"convertToInteractive('df-bec4f1cf-34e9-4146-b40d-dea23bdb4cdd')\"\n",
              "            title=\"Convert this dataframe to an interactive table.\"\n",
              "            style=\"display:none;\">\n",
              "\n",
              "  <svg xmlns=\"http://www.w3.org/2000/svg\" height=\"24px\" viewBox=\"0 -960 960 960\">\n",
              "    <path d=\"M120-120v-720h720v720H120Zm60-500h600v-160H180v160Zm220 220h160v-160H400v160Zm0 220h160v-160H400v160ZM180-400h160v-160H180v160Zm440 0h160v-160H620v160ZM180-180h160v-160H180v160Zm440 0h160v-160H620v160Z\"/>\n",
              "  </svg>\n",
              "    </button>\n",
              "\n",
              "  <style>\n",
              "    .colab-df-container {\n",
              "      display:flex;\n",
              "      gap: 12px;\n",
              "    }\n",
              "\n",
              "    .colab-df-convert {\n",
              "      background-color: #E8F0FE;\n",
              "      border: none;\n",
              "      border-radius: 50%;\n",
              "      cursor: pointer;\n",
              "      display: none;\n",
              "      fill: #1967D2;\n",
              "      height: 32px;\n",
              "      padding: 0 0 0 0;\n",
              "      width: 32px;\n",
              "    }\n",
              "\n",
              "    .colab-df-convert:hover {\n",
              "      background-color: #E2EBFA;\n",
              "      box-shadow: 0px 1px 2px rgba(60, 64, 67, 0.3), 0px 1px 3px 1px rgba(60, 64, 67, 0.15);\n",
              "      fill: #174EA6;\n",
              "    }\n",
              "\n",
              "    .colab-df-buttons div {\n",
              "      margin-bottom: 4px;\n",
              "    }\n",
              "\n",
              "    [theme=dark] .colab-df-convert {\n",
              "      background-color: #3B4455;\n",
              "      fill: #D2E3FC;\n",
              "    }\n",
              "\n",
              "    [theme=dark] .colab-df-convert:hover {\n",
              "      background-color: #434B5C;\n",
              "      box-shadow: 0px 1px 3px 1px rgba(0, 0, 0, 0.15);\n",
              "      filter: drop-shadow(0px 1px 2px rgba(0, 0, 0, 0.3));\n",
              "      fill: #FFFFFF;\n",
              "    }\n",
              "  </style>\n",
              "\n",
              "    <script>\n",
              "      const buttonEl =\n",
              "        document.querySelector('#df-bec4f1cf-34e9-4146-b40d-dea23bdb4cdd button.colab-df-convert');\n",
              "      buttonEl.style.display =\n",
              "        google.colab.kernel.accessAllowed ? 'block' : 'none';\n",
              "\n",
              "      async function convertToInteractive(key) {\n",
              "        const element = document.querySelector('#df-bec4f1cf-34e9-4146-b40d-dea23bdb4cdd');\n",
              "        const dataTable =\n",
              "          await google.colab.kernel.invokeFunction('convertToInteractive',\n",
              "                                                    [key], {});\n",
              "        if (!dataTable) return;\n",
              "\n",
              "        const docLinkHtml = 'Like what you see? Visit the ' +\n",
              "          '<a target=\"_blank\" href=https://colab.research.google.com/notebooks/data_table.ipynb>data table notebook</a>'\n",
              "          + ' to learn more about interactive tables.';\n",
              "        element.innerHTML = '';\n",
              "        dataTable['output_type'] = 'display_data';\n",
              "        await google.colab.output.renderOutput(dataTable, element);\n",
              "        const docLink = document.createElement('div');\n",
              "        docLink.innerHTML = docLinkHtml;\n",
              "        element.appendChild(docLink);\n",
              "      }\n",
              "    </script>\n",
              "  </div>\n",
              "\n",
              "\n",
              "    </div>\n",
              "  </div>\n"
            ],
            "application/vnd.google.colaboratory.intrinsic+json": {
              "type": "dataframe",
              "variable_name": "df",
              "summary": "{\n  \"name\": \"df\",\n  \"rows\": 1,\n  \"fields\": [\n    {\n      \"column\": \"Date_Time\",\n      \"properties\": {\n        \"dtype\": \"date\",\n        \"min\": \"2024-10-26 01:42:24\",\n        \"max\": \"2024-10-26 01:42:24\",\n        \"num_unique_values\": 1,\n        \"samples\": [\n          \"2024-10-26 01:42:24\"\n        ],\n        \"semantic_type\": \"\",\n        \"description\": \"\"\n      }\n    },\n    {\n      \"column\": \"Maturity\",\n      \"properties\": {\n        \"dtype\": \"date\",\n        \"min\": \"2025-01-17 11:59:00\",\n        \"max\": \"2025-01-17 11:59:00\",\n        \"num_unique_values\": 1,\n        \"samples\": [\n          \"2025-01-17 11:59:00\"\n        ],\n        \"semantic_type\": \"\",\n        \"description\": \"\"\n      }\n    },\n    {\n      \"column\": \"Stock_Price\",\n      \"properties\": {\n        \"dtype\": \"number\",\n        \"std\": null,\n        \"min\": 141.54,\n        \"max\": 141.54,\n        \"num_unique_values\": 1,\n        \"samples\": [\n          141.54\n        ],\n        \"semantic_type\": \"\",\n        \"description\": \"\"\n      }\n    },\n    {\n      \"column\": \"Strike_Price\",\n      \"properties\": {\n        \"dtype\": \"number\",\n        \"std\": null,\n        \"min\": 140.0,\n        \"max\": 140.0,\n        \"num_unique_values\": 1,\n        \"samples\": [\n          140.0\n        ],\n        \"semantic_type\": \"\",\n        \"description\": \"\"\n      }\n    },\n    {\n      \"column\": \"Amount_Borrowed_from_Bank\",\n      \"properties\": {\n        \"dtype\": \"number\",\n        \"std\": null,\n        \"min\": 63.69068518135656,\n        \"max\": 63.69068518135656,\n        \"num_unique_values\": 1,\n        \"samples\": [\n          63.69068518135656\n        ],\n        \"semantic_type\": \"\",\n        \"description\": \"\"\n      }\n    },\n    {\n      \"column\": \"Risk_free_rate\",\n      \"properties\": {\n        \"dtype\": \"number\",\n        \"std\": null,\n        \"min\": 0.0034,\n        \"max\": 0.0034,\n        \"num_unique_values\": 1,\n        \"samples\": [\n          0.0034\n        ],\n        \"semantic_type\": \"\",\n        \"description\": \"\"\n      }\n    },\n    {\n      \"column\": \"Dividend_Yield\",\n      \"properties\": {\n        \"dtype\": \"number\",\n        \"std\": null,\n        \"min\": 0.0003,\n        \"max\": 0.0003,\n        \"num_unique_values\": 1,\n        \"samples\": [\n          0.0003\n        ],\n        \"semantic_type\": \"\",\n        \"description\": \"\"\n      }\n    },\n    {\n      \"column\": \"Vol\",\n      \"properties\": {\n        \"dtype\": \"number\",\n        \"std\": null,\n        \"min\": 0.3754370789925649,\n        \"max\": 0.3754370789925649,\n        \"num_unique_values\": 1,\n        \"samples\": [\n          0.3754370789925649\n        ],\n        \"semantic_type\": \"\",\n        \"description\": \"\"\n      }\n    },\n    {\n      \"column\": \"BSM_price\",\n      \"properties\": {\n        \"dtype\": \"number\",\n        \"std\": null,\n        \"min\": 10.903056862065256,\n        \"max\": 10.903056862065256,\n        \"num_unique_values\": 1,\n        \"samples\": [\n          10.903056862065256\n        ],\n        \"semantic_type\": \"\",\n        \"description\": \"\"\n      }\n    },\n    {\n      \"column\": \"Call_Price\",\n      \"properties\": {\n        \"dtype\": \"number\",\n        \"std\": null,\n        \"min\": 15.75,\n        \"max\": 15.75,\n        \"num_unique_values\": 1,\n        \"samples\": [\n          15.75\n        ],\n        \"semantic_type\": \"\",\n        \"description\": \"\"\n      }\n    },\n    {\n      \"column\": \"Delta\",\n      \"properties\": {\n        \"dtype\": \"number\",\n        \"std\": null,\n        \"min\": 0.5612596098725205,\n        \"max\": 0.5612596098725205,\n        \"num_unique_values\": 1,\n        \"samples\": [\n          0.5612596098725205\n        ],\n        \"semantic_type\": \"\",\n        \"description\": \"\"\n      }\n    },\n    {\n      \"column\": \"Wealth\",\n      \"properties\": {\n        \"dtype\": \"number\",\n        \"std\": null,\n        \"min\": 15.75,\n        \"max\": 15.75,\n        \"num_unique_values\": 1,\n        \"samples\": [\n          15.75\n        ],\n        \"semantic_type\": \"\",\n        \"description\": \"\"\n      }\n    },\n    {\n      \"column\": \"Profit_without_Hedging\",\n      \"properties\": {\n        \"dtype\": \"number\",\n        \"std\": null,\n        \"min\": 0.0,\n        \"max\": 0.0,\n        \"num_unique_values\": 1,\n        \"samples\": [\n          0.0\n        ],\n        \"semantic_type\": \"\",\n        \"description\": \"\"\n      }\n    },\n    {\n      \"column\": \"Profit_with_Hedging\",\n      \"properties\": {\n        \"dtype\": \"number\",\n        \"std\": null,\n        \"min\": 0.0,\n        \"max\": 0.0,\n        \"num_unique_values\": 1,\n        \"samples\": [\n          0.0\n        ],\n        \"semantic_type\": \"\",\n        \"description\": \"\"\n      }\n    }\n  ]\n}"
            }
          },
          "metadata": {},
          "execution_count": 104
        }
      ],
      "source": [
        "#create dataframe\n",
        "df = pd.DataFrame()\n",
        "\n",
        "#create new portfolio entry\n",
        "row = [date, maturity, S, K, difference, r, y, vol, bsm_price, call_price, delta, portfolio, profit, profit]\n",
        "\n",
        "df = pd.concat([df, pd.DataFrame([row])],axis=0, ignore_index=True)\n",
        "\n",
        "df.columns = ['Date_Time', 'Maturity', 'Stock_Price', 'Strike_Price', 'Amount_Borrowed_from_Bank', 'Risk_free_rate', 'Dividend_Yield', 'Vol', 'BSM_price', 'Call_Price', 'Delta', 'Wealth', 'Profit_without_Hedging', 'Profit_with_Hedging']\n",
        "\n",
        "df.head()"
      ]
    },
    {
      "cell_type": "code",
      "execution_count": 101,
      "metadata": {
        "colab": {
          "base_uri": "https://localhost:8080/",
          "height": 17
        },
        "id": "U6byaW7K-JyN",
        "outputId": "955eea1a-c2c1-4d71-c9d4-c1a1fb98d924"
      },
      "outputs": [
        {
          "output_type": "display_data",
          "data": {
            "text/plain": [
              "<IPython.core.display.Javascript object>"
            ],
            "application/javascript": [
              "\n",
              "    async function download(id, filename, size) {\n",
              "      if (!google.colab.kernel.accessAllowed) {\n",
              "        return;\n",
              "      }\n",
              "      const div = document.createElement('div');\n",
              "      const label = document.createElement('label');\n",
              "      label.textContent = `Downloading \"${filename}\": `;\n",
              "      div.appendChild(label);\n",
              "      const progress = document.createElement('progress');\n",
              "      progress.max = size;\n",
              "      div.appendChild(progress);\n",
              "      document.body.appendChild(div);\n",
              "\n",
              "      const buffers = [];\n",
              "      let downloaded = 0;\n",
              "\n",
              "      const channel = await google.colab.kernel.comms.open(id);\n",
              "      // Send a message to notify the kernel that we're ready.\n",
              "      channel.send({})\n",
              "\n",
              "      for await (const message of channel.messages) {\n",
              "        // Send a message to notify the kernel that we're ready.\n",
              "        channel.send({})\n",
              "        if (message.buffers) {\n",
              "          for (const buffer of message.buffers) {\n",
              "            buffers.push(buffer);\n",
              "            downloaded += buffer.byteLength;\n",
              "            progress.value = downloaded;\n",
              "          }\n",
              "        }\n",
              "      }\n",
              "      const blob = new Blob(buffers, {type: 'application/binary'});\n",
              "      const a = document.createElement('a');\n",
              "      a.href = window.URL.createObjectURL(blob);\n",
              "      a.download = filename;\n",
              "      div.appendChild(a);\n",
              "      a.click();\n",
              "      div.remove();\n",
              "    }\n",
              "  "
            ]
          },
          "metadata": {}
        },
        {
          "output_type": "display_data",
          "data": {
            "text/plain": [
              "<IPython.core.display.Javascript object>"
            ],
            "application/javascript": [
              "download(\"download_53fc80b0-a939-4d80-a777-988eb26c7849\", \"NVDA.csv\", 343)"
            ]
          },
          "metadata": {}
        }
      ],
      "source": [
        "#export csv file\n",
        "df.to_csv('NVDA.csv', date_format='%Y-%m-%d %H:%M:%S', index = False)\n",
        "files.download(\"NVDA.csv\")"
      ]
    },
    {
      "cell_type": "markdown",
      "metadata": {
        "id": "CreF_jrJIhfJ"
      },
      "source": [
        "# **To be ran every 5 minutes:**"
      ]
    },
    {
      "cell_type": "code",
      "execution_count": null,
      "metadata": {
        "id": "YMPYU5OAuUzT"
      },
      "outputs": [],
      "source": [
        "#stock to search\n",
        "option = 'NVDA250117C00140000'\n",
        "ticker = 'NVDA'\n",
        "r = 0.0034 #risk free sg rate as of oct 2024"
      ]
    },
    {
      "cell_type": "code",
      "execution_count": 105,
      "metadata": {
        "id": "sghxTNk9t6t-"
      },
      "outputs": [],
      "source": [
        "import pandas as pd\n",
        "import time\n",
        "import re\n",
        "import os\n",
        "import pyodbc\n",
        "import pytz\n",
        "import numpy as np\n",
        "import statistics\n",
        "from math import *\n",
        "from datetime import datetime, timedelta\n",
        "from selenium import webdriver\n",
        "from selenium.webdriver.common.by import By\n",
        "from selenium.webdriver.common.action_chains import ActionChains\n",
        "from selenium.webdriver.common.keys import Keys\n",
        "\n",
        "def web_driver():\n",
        "  options = webdriver.ChromeOptions()\n",
        "  options.add_argument(\"--verbose\")\n",
        "  options.add_argument(\"--no-sandbox\")\n",
        "  options.add_argument(\"--headless\")\n",
        "  options.add_argument(\"--disable-gpu\")\n",
        "  options.add_argument(\"--window-soze = 1920, 1200\")\n",
        "  options.add_argument(\"--disable-dev-shm-usage\")\n",
        "  driver = webdriver.Chrome(options = options)\n",
        "  return driver\n",
        "\n",
        "driver = web_driver()\n",
        "\n",
        "def N(x):\n",
        "  return (1.0 + erf(x / sqrt(2.0))) / 2.0\n",
        "\n",
        "def deltac(S, K, r, y, τ, σ):\n",
        "  d1 = 1/(σ * np.sqrt(τ)) * (np.log(S * np.exp(-y * (τ)) / K) + (r - y + σ**2/2)*(τ) )\n",
        "  return np.exp(-y * τ) * N(d1)\n",
        "\n",
        "def c(S, K, r, y, τ, σ):\n",
        "  d1 = 1/(σ * np.sqrt(τ)) * (np.log(S * np.exp(-y * (τ)) / K) + (r - y + σ**2/2)*(τ) )\n",
        "  d2 = d1 - σ * np.sqrt(τ)\n",
        "  return S * np.exp(-y * (τ)) * N(d1) - K * np.exp(-r * (τ)) * N(d2)"
      ]
    },
    {
      "cell_type": "code",
      "execution_count": 121,
      "metadata": {
        "colab": {
          "base_uri": "https://localhost:8080/",
          "height": 98
        },
        "id": "WEVhyIN-uoIO",
        "outputId": "0630ea64-77da-4ce0-d3bf-045602a2e153"
      },
      "outputs": [
        {
          "output_type": "execute_result",
          "data": {
            "text/plain": [
              "             Date_Time             Maturity  Stock_Price  Strike_Price  \\\n",
              "0  2024-10-26 00:31:21  2025-01-17 11:59:00       141.54         140.0   \n",
              "\n",
              "   Amount_Borrowed_from_Bank  Risk_free_rate  Dividend_Yield       Vol  \\\n",
              "0                  63.691216          0.0034          0.0003  0.375437   \n",
              "\n",
              "   BSM_price  Call_Price     Delta  Wealth  Profit_without_Hedging  \\\n",
              "0  10.906046       15.75  0.561263   15.75                     0.0   \n",
              "\n",
              "   Profit_with_Hedging  \n",
              "0                  0.0  "
            ],
            "text/html": [
              "\n",
              "  <div id=\"df-cabeeae6-a7a3-49d8-abbc-6005f3fb9119\" class=\"colab-df-container\">\n",
              "    <div>\n",
              "<style scoped>\n",
              "    .dataframe tbody tr th:only-of-type {\n",
              "        vertical-align: middle;\n",
              "    }\n",
              "\n",
              "    .dataframe tbody tr th {\n",
              "        vertical-align: top;\n",
              "    }\n",
              "\n",
              "    .dataframe thead th {\n",
              "        text-align: right;\n",
              "    }\n",
              "</style>\n",
              "<table border=\"1\" class=\"dataframe\">\n",
              "  <thead>\n",
              "    <tr style=\"text-align: right;\">\n",
              "      <th></th>\n",
              "      <th>Date_Time</th>\n",
              "      <th>Maturity</th>\n",
              "      <th>Stock_Price</th>\n",
              "      <th>Strike_Price</th>\n",
              "      <th>Amount_Borrowed_from_Bank</th>\n",
              "      <th>Risk_free_rate</th>\n",
              "      <th>Dividend_Yield</th>\n",
              "      <th>Vol</th>\n",
              "      <th>BSM_price</th>\n",
              "      <th>Call_Price</th>\n",
              "      <th>Delta</th>\n",
              "      <th>Wealth</th>\n",
              "      <th>Profit_without_Hedging</th>\n",
              "      <th>Profit_with_Hedging</th>\n",
              "    </tr>\n",
              "  </thead>\n",
              "  <tbody>\n",
              "    <tr>\n",
              "      <th>0</th>\n",
              "      <td>2024-10-26 00:31:21</td>\n",
              "      <td>2025-01-17 11:59:00</td>\n",
              "      <td>141.54</td>\n",
              "      <td>140.0</td>\n",
              "      <td>63.691216</td>\n",
              "      <td>0.0034</td>\n",
              "      <td>0.0003</td>\n",
              "      <td>0.375437</td>\n",
              "      <td>10.906046</td>\n",
              "      <td>15.75</td>\n",
              "      <td>0.561263</td>\n",
              "      <td>15.75</td>\n",
              "      <td>0.0</td>\n",
              "      <td>0.0</td>\n",
              "    </tr>\n",
              "  </tbody>\n",
              "</table>\n",
              "</div>\n",
              "    <div class=\"colab-df-buttons\">\n",
              "\n",
              "  <div class=\"colab-df-container\">\n",
              "    <button class=\"colab-df-convert\" onclick=\"convertToInteractive('df-cabeeae6-a7a3-49d8-abbc-6005f3fb9119')\"\n",
              "            title=\"Convert this dataframe to an interactive table.\"\n",
              "            style=\"display:none;\">\n",
              "\n",
              "  <svg xmlns=\"http://www.w3.org/2000/svg\" height=\"24px\" viewBox=\"0 -960 960 960\">\n",
              "    <path d=\"M120-120v-720h720v720H120Zm60-500h600v-160H180v160Zm220 220h160v-160H400v160Zm0 220h160v-160H400v160ZM180-400h160v-160H180v160Zm440 0h160v-160H620v160ZM180-180h160v-160H180v160Zm440 0h160v-160H620v160Z\"/>\n",
              "  </svg>\n",
              "    </button>\n",
              "\n",
              "  <style>\n",
              "    .colab-df-container {\n",
              "      display:flex;\n",
              "      gap: 12px;\n",
              "    }\n",
              "\n",
              "    .colab-df-convert {\n",
              "      background-color: #E8F0FE;\n",
              "      border: none;\n",
              "      border-radius: 50%;\n",
              "      cursor: pointer;\n",
              "      display: none;\n",
              "      fill: #1967D2;\n",
              "      height: 32px;\n",
              "      padding: 0 0 0 0;\n",
              "      width: 32px;\n",
              "    }\n",
              "\n",
              "    .colab-df-convert:hover {\n",
              "      background-color: #E2EBFA;\n",
              "      box-shadow: 0px 1px 2px rgba(60, 64, 67, 0.3), 0px 1px 3px 1px rgba(60, 64, 67, 0.15);\n",
              "      fill: #174EA6;\n",
              "    }\n",
              "\n",
              "    .colab-df-buttons div {\n",
              "      margin-bottom: 4px;\n",
              "    }\n",
              "\n",
              "    [theme=dark] .colab-df-convert {\n",
              "      background-color: #3B4455;\n",
              "      fill: #D2E3FC;\n",
              "    }\n",
              "\n",
              "    [theme=dark] .colab-df-convert:hover {\n",
              "      background-color: #434B5C;\n",
              "      box-shadow: 0px 1px 3px 1px rgba(0, 0, 0, 0.15);\n",
              "      filter: drop-shadow(0px 1px 2px rgba(0, 0, 0, 0.3));\n",
              "      fill: #FFFFFF;\n",
              "    }\n",
              "  </style>\n",
              "\n",
              "    <script>\n",
              "      const buttonEl =\n",
              "        document.querySelector('#df-cabeeae6-a7a3-49d8-abbc-6005f3fb9119 button.colab-df-convert');\n",
              "      buttonEl.style.display =\n",
              "        google.colab.kernel.accessAllowed ? 'block' : 'none';\n",
              "\n",
              "      async function convertToInteractive(key) {\n",
              "        const element = document.querySelector('#df-cabeeae6-a7a3-49d8-abbc-6005f3fb9119');\n",
              "        const dataTable =\n",
              "          await google.colab.kernel.invokeFunction('convertToInteractive',\n",
              "                                                    [key], {});\n",
              "        if (!dataTable) return;\n",
              "\n",
              "        const docLinkHtml = 'Like what you see? Visit the ' +\n",
              "          '<a target=\"_blank\" href=https://colab.research.google.com/notebooks/data_table.ipynb>data table notebook</a>'\n",
              "          + ' to learn more about interactive tables.';\n",
              "        element.innerHTML = '';\n",
              "        dataTable['output_type'] = 'display_data';\n",
              "        await google.colab.output.renderOutput(dataTable, element);\n",
              "        const docLink = document.createElement('div');\n",
              "        docLink.innerHTML = docLinkHtml;\n",
              "        element.appendChild(docLink);\n",
              "      }\n",
              "    </script>\n",
              "  </div>\n",
              "\n",
              "\n",
              "    </div>\n",
              "  </div>\n"
            ],
            "application/vnd.google.colaboratory.intrinsic+json": {
              "type": "dataframe",
              "summary": "{\n  \"name\": \"#df = pd\",\n  \"rows\": 1,\n  \"fields\": [\n    {\n      \"column\": \"Date_Time\",\n      \"properties\": {\n        \"dtype\": \"object\",\n        \"num_unique_values\": 1,\n        \"samples\": [\n          \"2024-10-26 00:31:21\"\n        ],\n        \"semantic_type\": \"\",\n        \"description\": \"\"\n      }\n    },\n    {\n      \"column\": \"Maturity\",\n      \"properties\": {\n        \"dtype\": \"object\",\n        \"num_unique_values\": 1,\n        \"samples\": [\n          \"2025-01-17 11:59:00\"\n        ],\n        \"semantic_type\": \"\",\n        \"description\": \"\"\n      }\n    },\n    {\n      \"column\": \"Stock_Price\",\n      \"properties\": {\n        \"dtype\": \"number\",\n        \"std\": null,\n        \"min\": 141.54,\n        \"max\": 141.54,\n        \"num_unique_values\": 1,\n        \"samples\": [\n          141.54\n        ],\n        \"semantic_type\": \"\",\n        \"description\": \"\"\n      }\n    },\n    {\n      \"column\": \"Strike_Price\",\n      \"properties\": {\n        \"dtype\": \"number\",\n        \"std\": null,\n        \"min\": 140.0,\n        \"max\": 140.0,\n        \"num_unique_values\": 1,\n        \"samples\": [\n          140.0\n        ],\n        \"semantic_type\": \"\",\n        \"description\": \"\"\n      }\n    },\n    {\n      \"column\": \"Amount_Borrowed_from_Bank\",\n      \"properties\": {\n        \"dtype\": \"number\",\n        \"std\": null,\n        \"min\": 63.6912161238174,\n        \"max\": 63.6912161238174,\n        \"num_unique_values\": 1,\n        \"samples\": [\n          63.6912161238174\n        ],\n        \"semantic_type\": \"\",\n        \"description\": \"\"\n      }\n    },\n    {\n      \"column\": \"Risk_free_rate\",\n      \"properties\": {\n        \"dtype\": \"number\",\n        \"std\": null,\n        \"min\": 0.0034,\n        \"max\": 0.0034,\n        \"num_unique_values\": 1,\n        \"samples\": [\n          0.0034\n        ],\n        \"semantic_type\": \"\",\n        \"description\": \"\"\n      }\n    },\n    {\n      \"column\": \"Dividend_Yield\",\n      \"properties\": {\n        \"dtype\": \"number\",\n        \"std\": null,\n        \"min\": 0.0003,\n        \"max\": 0.0003,\n        \"num_unique_values\": 1,\n        \"samples\": [\n          0.0003\n        ],\n        \"semantic_type\": \"\",\n        \"description\": \"\"\n      }\n    },\n    {\n      \"column\": \"Vol\",\n      \"properties\": {\n        \"dtype\": \"number\",\n        \"std\": null,\n        \"min\": 0.3754370789925649,\n        \"max\": 0.3754370789925649,\n        \"num_unique_values\": 1,\n        \"samples\": [\n          0.3754370789925649\n        ],\n        \"semantic_type\": \"\",\n        \"description\": \"\"\n      }\n    },\n    {\n      \"column\": \"BSM_price\",\n      \"properties\": {\n        \"dtype\": \"number\",\n        \"std\": null,\n        \"min\": 10.906045940455058,\n        \"max\": 10.906045940455058,\n        \"num_unique_values\": 1,\n        \"samples\": [\n          10.906045940455058\n        ],\n        \"semantic_type\": \"\",\n        \"description\": \"\"\n      }\n    },\n    {\n      \"column\": \"Call_Price\",\n      \"properties\": {\n        \"dtype\": \"number\",\n        \"std\": null,\n        \"min\": 15.75,\n        \"max\": 15.75,\n        \"num_unique_values\": 1,\n        \"samples\": [\n          15.75\n        ],\n        \"semantic_type\": \"\",\n        \"description\": \"\"\n      }\n    },\n    {\n      \"column\": \"Delta\",\n      \"properties\": {\n        \"dtype\": \"number\",\n        \"std\": null,\n        \"min\": 0.561263361055655,\n        \"max\": 0.561263361055655,\n        \"num_unique_values\": 1,\n        \"samples\": [\n          0.561263361055655\n        ],\n        \"semantic_type\": \"\",\n        \"description\": \"\"\n      }\n    },\n    {\n      \"column\": \"Wealth\",\n      \"properties\": {\n        \"dtype\": \"number\",\n        \"std\": null,\n        \"min\": 15.75,\n        \"max\": 15.75,\n        \"num_unique_values\": 1,\n        \"samples\": [\n          15.75\n        ],\n        \"semantic_type\": \"\",\n        \"description\": \"\"\n      }\n    },\n    {\n      \"column\": \"Profit_without_Hedging\",\n      \"properties\": {\n        \"dtype\": \"number\",\n        \"std\": null,\n        \"min\": 0.0,\n        \"max\": 0.0,\n        \"num_unique_values\": 1,\n        \"samples\": [\n          0.0\n        ],\n        \"semantic_type\": \"\",\n        \"description\": \"\"\n      }\n    },\n    {\n      \"column\": \"Profit_with_Hedging\",\n      \"properties\": {\n        \"dtype\": \"number\",\n        \"std\": null,\n        \"min\": 0.0,\n        \"max\": 0.0,\n        \"num_unique_values\": 1,\n        \"samples\": [\n          0.0\n        ],\n        \"semantic_type\": \"\",\n        \"description\": \"\"\n      }\n    }\n  ]\n}"
            }
          },
          "metadata": {},
          "execution_count": 121
        }
      ],
      "source": [
        "df = pd.read_csv(save_path + \"NVDA.csv\")\n",
        "df.head()\n",
        "\n",
        "#df = pd.read_csv('/home/briansim74/Desktop/NVDA.csv')"
      ]
    },
    {
      "cell_type": "code",
      "execution_count": 107,
      "metadata": {
        "colab": {
          "base_uri": "https://localhost:8080/"
        },
        "id": "-O-tBwYatxgv",
        "outputId": "c9e304ce-3d2f-405f-cf7b-3c27369c7a03"
      },
      "outputs": [
        {
          "output_type": "stream",
          "name": "stdout",
          "text": [
            "Stock Price: 141.54\n",
            "Dividend Yield: 0.0003\n"
          ]
        }
      ],
      "source": [
        "#go to NVDA stock page\n",
        "url = \"https://sg.finance.yahoo.com/quote/\"+ ticker + \"/\"\n",
        "\n",
        "# Open the webpage\n",
        "driver.get(url)\n",
        "\n",
        "# Wait for the page to load\n",
        "time.sleep(0.7)\n",
        "\n",
        "S = float(driver.find_elements(By.XPATH, '/html/body/div[2]/main/section/section/section/article/section[1]/div[2]/div[1]/section/div/section[1]/div[1]/fin-streamer[1]')[0].text.splitlines()[0])\n",
        "\n",
        "y = float(re.findall(r'\\(.*?\\)', driver.find_elements(By.XPATH, '//*[@id=\"nimbus-app\"]/section/section/section/article/div[2]')[0].text.splitlines()[27])[0][1:-2]) / 100\n",
        "\n",
        "print(\"Stock Price:\", S)\n",
        "print(\"Dividend Yield:\", y)"
      ]
    },
    {
      "cell_type": "code",
      "execution_count": 108,
      "metadata": {
        "id": "jBXwV091vJHY"
      },
      "outputs": [],
      "source": [
        "def vol():\n",
        "  # get historical data for volatility\n",
        "  historical = driver.find_element(By.XPATH, '//*[@id=\"nimbus-app\"]/section/section/aside/section/nav/ul/li[5]/a')\n",
        "  # create action chain object\n",
        "  action = ActionChains(driver)\n",
        "  # click the item\n",
        "  action.click(on_element = historical)\n",
        "  # perform the operation\n",
        "  action.perform()\n",
        "\n",
        "  time.sleep(0.7)\n",
        "\n",
        "  #20 day average volatility\n",
        "  days = 20\n",
        "\n",
        "  historical_table = driver.find_elements(By.XPATH, '//*[@id=\"nimbus-app\"]/section/section/section/article/div[1]/div[3]/table')[0].text.splitlines()\n",
        "\n",
        "  vol_row_log = []\n",
        "  Y = []\n",
        "\n",
        "  for i in range(days):\n",
        "    adj_close = float((historical_table[i + 3].split())[-2])\n",
        "    vol_row_log.append(log(adj_close))\n",
        "\n",
        "  for i in range(days - 1):\n",
        "    Y.append(vol_row_log[i] - vol_row_log[i+1])\n",
        "\n",
        "  Y_avg = statistics.fmean(Y)\n",
        "\n",
        "  #get annual volatility\n",
        "  vol = sqrt(sum((np.array(Y) - Y_avg)**2) / (days - 1)) * sqrt(252)\n",
        "\n",
        "  return vol"
      ]
    },
    {
      "cell_type": "code",
      "execution_count": 109,
      "metadata": {
        "colab": {
          "base_uri": "https://localhost:8080/"
        },
        "id": "wk5azuiZFWwD",
        "outputId": "d6f7fdf4-733d-4e71-dba1-108993276f12"
      },
      "outputs": [
        {
          "output_type": "stream",
          "name": "stdout",
          "text": [
            "20 day volatility: 0.3754370789925649\n"
          ]
        }
      ],
      "source": [
        "date = datetime.now(tz=pytz.timezone('America/New_York')).replace(microsecond = 0).replace(tzinfo=None).date()\n",
        "\n",
        "previous_date = datetime.strptime(df['Date_Time'].iloc[-1], '%Y-%m-%d %H:%M:%S').date()\n",
        "\n",
        "if(date == previous_date):\n",
        "  vol = df['Vol'].iloc[-1]\n",
        "else:\n",
        "  vol = vol()\n",
        "\n",
        "print(\"20 day volatility:\", vol)"
      ]
    },
    {
      "cell_type": "code",
      "execution_count": 110,
      "metadata": {
        "id": "t4qR6m9BxWwz",
        "colab": {
          "base_uri": "https://localhost:8080/"
        },
        "outputId": "5c6d01f7-3abb-47a5-b081-cf355633f650"
      },
      "outputs": [
        {
          "output_type": "stream",
          "name": "stdout",
          "text": [
            "Strike_Price: 140.0\n",
            "Call_Price: 15.75\n"
          ]
        }
      ],
      "source": [
        "#go to options page to get strike price and call price\n",
        "url = \"https://sg.finance.yahoo.com/quote/\"+ option + \"/\"\n",
        "\n",
        "# Open the webpage\n",
        "driver.get(url)\n",
        "\n",
        "# Wait for the page to load\n",
        "time.sleep(0.7)\n",
        "\n",
        "option_table = driver.find_elements(By.XPATH, '//*[@id=\"nimbus-app\"]/section/section/section/article/div[2]')[0].text.splitlines()\n",
        "\n",
        "K = float(option_table[9])\n",
        "#print(option_table)\n",
        "\n",
        "call_price = float(driver.find_elements(By.XPATH, '//*[@id=\"nimbus-app\"]/section/section/section/article/section[1]/div[2]/div[1]/section/div/section/div[1]/fin-streamer[1]')[0].text.splitlines()[0])\n",
        "\n",
        "print(\"Strike_Price:\", K)\n",
        "print(\"Call_Price:\", call_price)"
      ]
    },
    {
      "cell_type": "code",
      "execution_count": 111,
      "metadata": {
        "id": "uPuUeiT6IZDV",
        "colab": {
          "base_uri": "https://localhost:8080/"
        },
        "outputId": "5553292d-7a41-4df9-d87b-16a4a2b19e30"
      },
      "outputs": [
        {
          "output_type": "stream",
          "name": "stdout",
          "text": [
            "NYC current date and time: 2024-10-26 01:47:52\n",
            "Time to maturity: 83 days, 10:11:08\n"
          ]
        }
      ],
      "source": [
        "#current time\n",
        "date = datetime.now(tz=pytz.timezone('America/New_York')).replace(microsecond = 0).replace(tzinfo=None)\n",
        "print(\"NYC current date and time:\", date)\n",
        "\n",
        "#get time to maturity using 1st row\n",
        "maturity = datetime.strptime(df['Maturity'].iloc[0], '%Y-%m-%d %H:%M:%S')\n",
        "time_to_maturity = maturity - date\n",
        "print(\"Time to maturity:\", time_to_maturity)\n",
        "#print(time_to_maturity.days, \"days\", time_to_maturity.seconds, \"seconds\")\n",
        "\n",
        "#time to maturity (seconds)\n",
        "tau_seconds = float(time_to_maturity.days) * 24 * 3600 + float(time_to_maturity.seconds)\n",
        "#print(tau_seconds, \"seconds\")\n",
        "\n",
        "#time to maturity (years)\n",
        "tau_years = tau_seconds / (365 * 24 * 3600)\n",
        "#print(tau_years, \"years\")"
      ]
    },
    {
      "cell_type": "code",
      "execution_count": 112,
      "metadata": {
        "id": "jDnHTmQ5IzyZ",
        "colab": {
          "base_uri": "https://localhost:8080/"
        },
        "outputId": "32790685-48c0-498f-a13d-9cd6b59369d5"
      },
      "outputs": [
        {
          "output_type": "stream",
          "name": "stdout",
          "text": [
            "Call_Price: 15.75\n",
            "BSM_Price: 10.908277038195521\n"
          ]
        }
      ],
      "source": [
        "bsm_price = c(S, K, r, 0, tau_years, vol)\n",
        "print(\"Call_Price:\", call_price)\n",
        "print(\"BSM_Price:\", bsm_price)"
      ]
    },
    {
      "cell_type": "code",
      "execution_count": 113,
      "metadata": {
        "id": "G2fYT--Px4IR",
        "colab": {
          "base_uri": "https://localhost:8080/"
        },
        "outputId": "cf8dcac4-29a7-44f1-9ca7-93b61b9752ce"
      },
      "outputs": [
        {
          "output_type": "stream",
          "name": "stdout",
          "text": [
            "Current delta: 0.561263361055655\n",
            "New delta: 0.5615989907345869\n",
            "Sell off 0.561263361055655 - 0.5615989907345869 shares of stock\n",
            "Change in delta: -0.00033562967893185913\n"
          ]
        }
      ],
      "source": [
        "delta = df['Delta'].iloc[-1]\n",
        "\n",
        "K = df['Strike_Price'].iloc[0]\n",
        "\n",
        "new_delta = deltac(S, K, r, 0, tau_years, vol) #vols to be calculated daily\n",
        "\n",
        "print(\"Current delta:\", delta)\n",
        "print(\"New delta:\", new_delta)\n",
        "\n",
        "print(\"Sell off\", delta, \"-\", new_delta, \"shares of stock\")\n",
        "\n",
        "change_in_delta = delta - new_delta\n",
        "print(\"Change in delta:\", change_in_delta)"
      ]
    },
    {
      "cell_type": "code",
      "execution_count": 122,
      "metadata": {
        "id": "yeBOH8RW0K6S"
      },
      "outputs": [],
      "source": [
        "previous_date = datetime.strptime(df['Date_Time'].iloc[-1], '%Y-%m-%d %H:%M:%S')\n",
        "#print(\"Previous date:\", previous_date)\n",
        "\n",
        "elapsed_days = (date - previous_date).days\n",
        "elapsed_seconds = (date - previous_date).seconds\n",
        "\n",
        "elapsed_time_seconds = elapsed_days * 24 * 3600 + elapsed_seconds\n",
        "#print(\"Elapsed time (seconds):\", elapsed_time_seconds)\n",
        "\n",
        "elapsed_time_years = elapsed_time_seconds / (365 * 24 * 3600)\n",
        "#print(\"Elapsed time (years):\", elapsed_time_years)"
      ]
    },
    {
      "cell_type": "code",
      "execution_count": 123,
      "metadata": {
        "id": "H6Cm8FX9x9mr",
        "colab": {
          "base_uri": "https://localhost:8080/"
        },
        "outputId": "4c56052e-b4d8-438c-dbc7-2f40075ecd48"
      },
      "outputs": [
        {
          "output_type": "stream",
          "name": "stdout",
          "text": [
            "Profit from shares: -0.04750502475601534\n",
            "Current amount owed to bank before interest: 63.6912161238174\n",
            "Current amount owed to bank after interest: 63.69124764911912\n",
            "New amount owed to bank after repaying profit from change in shares: 63.73875267387513\n"
          ]
        }
      ],
      "source": [
        "#profit from selling shares\n",
        "share_profit = change_in_delta * S\n",
        "print(\"Profit from shares:\", share_profit)\n",
        "\n",
        "#amount owed to bank before calculating interest\n",
        "print(\"Current amount owed to bank before interest:\", df['Amount_Borrowed_from_Bank'].iloc[-1])\n",
        "\n",
        "#amount owed to bank after calculating interest\n",
        "amount = df['Amount_Borrowed_from_Bank'].iloc[-1] * np.exp(r * elapsed_time_years)\n",
        "print(\"Current amount owed to bank after interest:\", amount)\n",
        "\n",
        "#new amount owed to bank after repaying profit\n",
        "new_amount = amount - share_profit\n",
        "print(\"New amount owed to bank after repaying profit from change in shares:\", new_amount)"
      ]
    },
    {
      "cell_type": "code",
      "execution_count": 124,
      "metadata": {
        "colab": {
          "base_uri": "https://localhost:8080/"
        },
        "id": "kqTsu-_O6RaF",
        "outputId": "98fcebf4-fd0d-4b34-ebf1-f161612f24b8"
      },
      "outputs": [
        {
          "output_type": "stream",
          "name": "stdout",
          "text": [
            "Value of Replicating Portfolio: 15.749968474698285\n",
            "Profit from closing position without hedge: 0.0\n",
            "Profit from closing position with hedge: -3.15253e-05\n"
          ]
        }
      ],
      "source": [
        "#wealth\n",
        "portfolio = new_delta * S - new_amount\n",
        "print(\"Value of Replicating Portfolio:\", portfolio)\n",
        "\n",
        "#current profit without hedging\n",
        "profit_without_hedge = float(df['Call_Price'].iloc[0] - call_price)\n",
        "print(\"Profit from closing position without hedge:\", profit_without_hedge)\n",
        "\n",
        "#current profit with hedging\n",
        "profit = float(format(portfolio - call_price, '.10f'))\n",
        "print(\"Profit from closing position with hedge:\", profit)"
      ]
    },
    {
      "cell_type": "code",
      "execution_count": 118,
      "metadata": {
        "colab": {
          "base_uri": "https://localhost:8080/",
          "height": 195
        },
        "id": "TUgMfWqL7qsi",
        "outputId": "b67889fb-89aa-4655-939f-c8b193157c6b"
      },
      "outputs": [
        {
          "output_type": "execute_result",
          "data": {
            "text/plain": [
              "             Date_Time             Maturity  Stock_Price  Strike_Price  \\\n",
              "0  2024-10-26 00:31:21  2025-01-17 11:59:00       141.54         140.0   \n",
              "1  2024-10-26 01:47:52  2025-01-17 11:59:00       141.54         140.0   \n",
              "2  2024-10-26 01:47:52  2025-01-17 11:59:00       141.54         140.0   \n",
              "\n",
              "   Amount_Borrowed_from_Bank  Risk_free_rate  Dividend_Yield       Vol  \\\n",
              "0                  63.691216          0.0034          0.0003  0.375437   \n",
              "1                  63.738870          0.0034          0.0003  0.375437   \n",
              "2                  63.738870          0.0034          0.0003  0.375437   \n",
              "\n",
              "   BSM_price  Call_Price     Delta     Wealth  Profit_without_Hedging  \\\n",
              "0  10.906046       15.75  0.561263  15.750000                     0.0   \n",
              "1  10.908277       15.75  0.561599  15.749851                     0.0   \n",
              "2  10.908277       15.75  0.561599  15.749851                     0.0   \n",
              "\n",
              "   Profit_with_Hedging  \n",
              "0             0.000000  \n",
              "1            -0.000149  \n",
              "2            -0.000149  "
            ],
            "text/html": [
              "\n",
              "  <div id=\"df-c66b823d-1279-4827-9ec4-13f0856dba41\" class=\"colab-df-container\">\n",
              "    <div>\n",
              "<style scoped>\n",
              "    .dataframe tbody tr th:only-of-type {\n",
              "        vertical-align: middle;\n",
              "    }\n",
              "\n",
              "    .dataframe tbody tr th {\n",
              "        vertical-align: top;\n",
              "    }\n",
              "\n",
              "    .dataframe thead th {\n",
              "        text-align: right;\n",
              "    }\n",
              "</style>\n",
              "<table border=\"1\" class=\"dataframe\">\n",
              "  <thead>\n",
              "    <tr style=\"text-align: right;\">\n",
              "      <th></th>\n",
              "      <th>Date_Time</th>\n",
              "      <th>Maturity</th>\n",
              "      <th>Stock_Price</th>\n",
              "      <th>Strike_Price</th>\n",
              "      <th>Amount_Borrowed_from_Bank</th>\n",
              "      <th>Risk_free_rate</th>\n",
              "      <th>Dividend_Yield</th>\n",
              "      <th>Vol</th>\n",
              "      <th>BSM_price</th>\n",
              "      <th>Call_Price</th>\n",
              "      <th>Delta</th>\n",
              "      <th>Wealth</th>\n",
              "      <th>Profit_without_Hedging</th>\n",
              "      <th>Profit_with_Hedging</th>\n",
              "    </tr>\n",
              "  </thead>\n",
              "  <tbody>\n",
              "    <tr>\n",
              "      <th>0</th>\n",
              "      <td>2024-10-26 00:31:21</td>\n",
              "      <td>2025-01-17 11:59:00</td>\n",
              "      <td>141.54</td>\n",
              "      <td>140.0</td>\n",
              "      <td>63.691216</td>\n",
              "      <td>0.0034</td>\n",
              "      <td>0.0003</td>\n",
              "      <td>0.375437</td>\n",
              "      <td>10.906046</td>\n",
              "      <td>15.75</td>\n",
              "      <td>0.561263</td>\n",
              "      <td>15.750000</td>\n",
              "      <td>0.0</td>\n",
              "      <td>0.000000</td>\n",
              "    </tr>\n",
              "    <tr>\n",
              "      <th>1</th>\n",
              "      <td>2024-10-26 01:47:52</td>\n",
              "      <td>2025-01-17 11:59:00</td>\n",
              "      <td>141.54</td>\n",
              "      <td>140.0</td>\n",
              "      <td>63.738870</td>\n",
              "      <td>0.0034</td>\n",
              "      <td>0.0003</td>\n",
              "      <td>0.375437</td>\n",
              "      <td>10.908277</td>\n",
              "      <td>15.75</td>\n",
              "      <td>0.561599</td>\n",
              "      <td>15.749851</td>\n",
              "      <td>0.0</td>\n",
              "      <td>-0.000149</td>\n",
              "    </tr>\n",
              "    <tr>\n",
              "      <th>2</th>\n",
              "      <td>2024-10-26 01:47:52</td>\n",
              "      <td>2025-01-17 11:59:00</td>\n",
              "      <td>141.54</td>\n",
              "      <td>140.0</td>\n",
              "      <td>63.738870</td>\n",
              "      <td>0.0034</td>\n",
              "      <td>0.0003</td>\n",
              "      <td>0.375437</td>\n",
              "      <td>10.908277</td>\n",
              "      <td>15.75</td>\n",
              "      <td>0.561599</td>\n",
              "      <td>15.749851</td>\n",
              "      <td>0.0</td>\n",
              "      <td>-0.000149</td>\n",
              "    </tr>\n",
              "  </tbody>\n",
              "</table>\n",
              "</div>\n",
              "    <div class=\"colab-df-buttons\">\n",
              "\n",
              "  <div class=\"colab-df-container\">\n",
              "    <button class=\"colab-df-convert\" onclick=\"convertToInteractive('df-c66b823d-1279-4827-9ec4-13f0856dba41')\"\n",
              "            title=\"Convert this dataframe to an interactive table.\"\n",
              "            style=\"display:none;\">\n",
              "\n",
              "  <svg xmlns=\"http://www.w3.org/2000/svg\" height=\"24px\" viewBox=\"0 -960 960 960\">\n",
              "    <path d=\"M120-120v-720h720v720H120Zm60-500h600v-160H180v160Zm220 220h160v-160H400v160Zm0 220h160v-160H400v160ZM180-400h160v-160H180v160Zm440 0h160v-160H620v160ZM180-180h160v-160H180v160Zm440 0h160v-160H620v160Z\"/>\n",
              "  </svg>\n",
              "    </button>\n",
              "\n",
              "  <style>\n",
              "    .colab-df-container {\n",
              "      display:flex;\n",
              "      gap: 12px;\n",
              "    }\n",
              "\n",
              "    .colab-df-convert {\n",
              "      background-color: #E8F0FE;\n",
              "      border: none;\n",
              "      border-radius: 50%;\n",
              "      cursor: pointer;\n",
              "      display: none;\n",
              "      fill: #1967D2;\n",
              "      height: 32px;\n",
              "      padding: 0 0 0 0;\n",
              "      width: 32px;\n",
              "    }\n",
              "\n",
              "    .colab-df-convert:hover {\n",
              "      background-color: #E2EBFA;\n",
              "      box-shadow: 0px 1px 2px rgba(60, 64, 67, 0.3), 0px 1px 3px 1px rgba(60, 64, 67, 0.15);\n",
              "      fill: #174EA6;\n",
              "    }\n",
              "\n",
              "    .colab-df-buttons div {\n",
              "      margin-bottom: 4px;\n",
              "    }\n",
              "\n",
              "    [theme=dark] .colab-df-convert {\n",
              "      background-color: #3B4455;\n",
              "      fill: #D2E3FC;\n",
              "    }\n",
              "\n",
              "    [theme=dark] .colab-df-convert:hover {\n",
              "      background-color: #434B5C;\n",
              "      box-shadow: 0px 1px 3px 1px rgba(0, 0, 0, 0.15);\n",
              "      filter: drop-shadow(0px 1px 2px rgba(0, 0, 0, 0.3));\n",
              "      fill: #FFFFFF;\n",
              "    }\n",
              "  </style>\n",
              "\n",
              "    <script>\n",
              "      const buttonEl =\n",
              "        document.querySelector('#df-c66b823d-1279-4827-9ec4-13f0856dba41 button.colab-df-convert');\n",
              "      buttonEl.style.display =\n",
              "        google.colab.kernel.accessAllowed ? 'block' : 'none';\n",
              "\n",
              "      async function convertToInteractive(key) {\n",
              "        const element = document.querySelector('#df-c66b823d-1279-4827-9ec4-13f0856dba41');\n",
              "        const dataTable =\n",
              "          await google.colab.kernel.invokeFunction('convertToInteractive',\n",
              "                                                    [key], {});\n",
              "        if (!dataTable) return;\n",
              "\n",
              "        const docLinkHtml = 'Like what you see? Visit the ' +\n",
              "          '<a target=\"_blank\" href=https://colab.research.google.com/notebooks/data_table.ipynb>data table notebook</a>'\n",
              "          + ' to learn more about interactive tables.';\n",
              "        element.innerHTML = '';\n",
              "        dataTable['output_type'] = 'display_data';\n",
              "        await google.colab.output.renderOutput(dataTable, element);\n",
              "        const docLink = document.createElement('div');\n",
              "        docLink.innerHTML = docLinkHtml;\n",
              "        element.appendChild(docLink);\n",
              "      }\n",
              "    </script>\n",
              "  </div>\n",
              "\n",
              "\n",
              "<div id=\"df-64d59acd-2b84-45cd-a353-3a3f6d9d6b45\">\n",
              "  <button class=\"colab-df-quickchart\" onclick=\"quickchart('df-64d59acd-2b84-45cd-a353-3a3f6d9d6b45')\"\n",
              "            title=\"Suggest charts\"\n",
              "            style=\"display:none;\">\n",
              "\n",
              "<svg xmlns=\"http://www.w3.org/2000/svg\" height=\"24px\"viewBox=\"0 0 24 24\"\n",
              "     width=\"24px\">\n",
              "    <g>\n",
              "        <path d=\"M19 3H5c-1.1 0-2 .9-2 2v14c0 1.1.9 2 2 2h14c1.1 0 2-.9 2-2V5c0-1.1-.9-2-2-2zM9 17H7v-7h2v7zm4 0h-2V7h2v10zm4 0h-2v-4h2v4z\"/>\n",
              "    </g>\n",
              "</svg>\n",
              "  </button>\n",
              "\n",
              "<style>\n",
              "  .colab-df-quickchart {\n",
              "      --bg-color: #E8F0FE;\n",
              "      --fill-color: #1967D2;\n",
              "      --hover-bg-color: #E2EBFA;\n",
              "      --hover-fill-color: #174EA6;\n",
              "      --disabled-fill-color: #AAA;\n",
              "      --disabled-bg-color: #DDD;\n",
              "  }\n",
              "\n",
              "  [theme=dark] .colab-df-quickchart {\n",
              "      --bg-color: #3B4455;\n",
              "      --fill-color: #D2E3FC;\n",
              "      --hover-bg-color: #434B5C;\n",
              "      --hover-fill-color: #FFFFFF;\n",
              "      --disabled-bg-color: #3B4455;\n",
              "      --disabled-fill-color: #666;\n",
              "  }\n",
              "\n",
              "  .colab-df-quickchart {\n",
              "    background-color: var(--bg-color);\n",
              "    border: none;\n",
              "    border-radius: 50%;\n",
              "    cursor: pointer;\n",
              "    display: none;\n",
              "    fill: var(--fill-color);\n",
              "    height: 32px;\n",
              "    padding: 0;\n",
              "    width: 32px;\n",
              "  }\n",
              "\n",
              "  .colab-df-quickchart:hover {\n",
              "    background-color: var(--hover-bg-color);\n",
              "    box-shadow: 0 1px 2px rgba(60, 64, 67, 0.3), 0 1px 3px 1px rgba(60, 64, 67, 0.15);\n",
              "    fill: var(--button-hover-fill-color);\n",
              "  }\n",
              "\n",
              "  .colab-df-quickchart-complete:disabled,\n",
              "  .colab-df-quickchart-complete:disabled:hover {\n",
              "    background-color: var(--disabled-bg-color);\n",
              "    fill: var(--disabled-fill-color);\n",
              "    box-shadow: none;\n",
              "  }\n",
              "\n",
              "  .colab-df-spinner {\n",
              "    border: 2px solid var(--fill-color);\n",
              "    border-color: transparent;\n",
              "    border-bottom-color: var(--fill-color);\n",
              "    animation:\n",
              "      spin 1s steps(1) infinite;\n",
              "  }\n",
              "\n",
              "  @keyframes spin {\n",
              "    0% {\n",
              "      border-color: transparent;\n",
              "      border-bottom-color: var(--fill-color);\n",
              "      border-left-color: var(--fill-color);\n",
              "    }\n",
              "    20% {\n",
              "      border-color: transparent;\n",
              "      border-left-color: var(--fill-color);\n",
              "      border-top-color: var(--fill-color);\n",
              "    }\n",
              "    30% {\n",
              "      border-color: transparent;\n",
              "      border-left-color: var(--fill-color);\n",
              "      border-top-color: var(--fill-color);\n",
              "      border-right-color: var(--fill-color);\n",
              "    }\n",
              "    40% {\n",
              "      border-color: transparent;\n",
              "      border-right-color: var(--fill-color);\n",
              "      border-top-color: var(--fill-color);\n",
              "    }\n",
              "    60% {\n",
              "      border-color: transparent;\n",
              "      border-right-color: var(--fill-color);\n",
              "    }\n",
              "    80% {\n",
              "      border-color: transparent;\n",
              "      border-right-color: var(--fill-color);\n",
              "      border-bottom-color: var(--fill-color);\n",
              "    }\n",
              "    90% {\n",
              "      border-color: transparent;\n",
              "      border-bottom-color: var(--fill-color);\n",
              "    }\n",
              "  }\n",
              "</style>\n",
              "\n",
              "  <script>\n",
              "    async function quickchart(key) {\n",
              "      const quickchartButtonEl =\n",
              "        document.querySelector('#' + key + ' button');\n",
              "      quickchartButtonEl.disabled = true;  // To prevent multiple clicks.\n",
              "      quickchartButtonEl.classList.add('colab-df-spinner');\n",
              "      try {\n",
              "        const charts = await google.colab.kernel.invokeFunction(\n",
              "            'suggestCharts', [key], {});\n",
              "      } catch (error) {\n",
              "        console.error('Error during call to suggestCharts:', error);\n",
              "      }\n",
              "      quickchartButtonEl.classList.remove('colab-df-spinner');\n",
              "      quickchartButtonEl.classList.add('colab-df-quickchart-complete');\n",
              "    }\n",
              "    (() => {\n",
              "      let quickchartButtonEl =\n",
              "        document.querySelector('#df-64d59acd-2b84-45cd-a353-3a3f6d9d6b45 button');\n",
              "      quickchartButtonEl.style.display =\n",
              "        google.colab.kernel.accessAllowed ? 'block' : 'none';\n",
              "    })();\n",
              "  </script>\n",
              "</div>\n",
              "\n",
              "    </div>\n",
              "  </div>\n"
            ],
            "application/vnd.google.colaboratory.intrinsic+json": {
              "type": "dataframe",
              "variable_name": "df",
              "summary": "{\n  \"name\": \"df\",\n  \"rows\": 3,\n  \"fields\": [\n    {\n      \"column\": \"Date_Time\",\n      \"properties\": {\n        \"dtype\": \"object\",\n        \"num_unique_values\": 2,\n        \"samples\": [\n          \"2024-10-26 01:47:52\",\n          \"2024-10-26 00:31:21\"\n        ],\n        \"semantic_type\": \"\",\n        \"description\": \"\"\n      }\n    },\n    {\n      \"column\": \"Maturity\",\n      \"properties\": {\n        \"dtype\": \"object\",\n        \"num_unique_values\": 2,\n        \"samples\": [\n          \"2025-01-17 11:59:00\",\n          \"2025-01-17 11:59:00\"\n        ],\n        \"semantic_type\": \"\",\n        \"description\": \"\"\n      }\n    },\n    {\n      \"column\": \"Stock_Price\",\n      \"properties\": {\n        \"dtype\": \"number\",\n        \"std\": 0.0,\n        \"min\": 141.54,\n        \"max\": 141.54,\n        \"num_unique_values\": 1,\n        \"samples\": [\n          141.54\n        ],\n        \"semantic_type\": \"\",\n        \"description\": \"\"\n      }\n    },\n    {\n      \"column\": \"Strike_Price\",\n      \"properties\": {\n        \"dtype\": \"number\",\n        \"std\": 0.0,\n        \"min\": 140.0,\n        \"max\": 140.0,\n        \"num_unique_values\": 1,\n        \"samples\": [\n          140.0\n        ],\n        \"semantic_type\": \"\",\n        \"description\": \"\"\n      }\n    },\n    {\n      \"column\": \"Amount_Borrowed_from_Bank\",\n      \"properties\": {\n        \"dtype\": \"number\",\n        \"std\": 0.02751305327491971,\n        \"min\": 63.6912161238174,\n        \"max\": 63.73887012996091,\n        \"num_unique_values\": 2,\n        \"samples\": [\n          63.73887012996091\n        ],\n        \"semantic_type\": \"\",\n        \"description\": \"\"\n      }\n    },\n    {\n      \"column\": \"Risk_free_rate\",\n      \"properties\": {\n        \"dtype\": \"number\",\n        \"std\": 0.0,\n        \"min\": 0.0034,\n        \"max\": 0.0034,\n        \"num_unique_values\": 1,\n        \"samples\": [\n          0.0034\n        ],\n        \"semantic_type\": \"\",\n        \"description\": \"\"\n      }\n    },\n    {\n      \"column\": \"Dividend_Yield\",\n      \"properties\": {\n        \"dtype\": \"number\",\n        \"std\": 0.0,\n        \"min\": 0.0003,\n        \"max\": 0.0003,\n        \"num_unique_values\": 1,\n        \"samples\": [\n          0.0003\n        ],\n        \"semantic_type\": \"\",\n        \"description\": \"\"\n      }\n    },\n    {\n      \"column\": \"Vol\",\n      \"properties\": {\n        \"dtype\": \"number\",\n        \"std\": 0.0,\n        \"min\": 0.3754370789925649,\n        \"max\": 0.3754370789925649,\n        \"num_unique_values\": 1,\n        \"samples\": [\n          0.3754370789925649\n        ],\n        \"semantic_type\": \"\",\n        \"description\": \"\"\n      }\n    },\n    {\n      \"column\": \"BSM_price\",\n      \"properties\": {\n        \"dtype\": \"number\",\n        \"std\": 0.0012881248810446375,\n        \"min\": 10.906045940455058,\n        \"max\": 10.908277038195521,\n        \"num_unique_values\": 2,\n        \"samples\": [\n          10.908277038195521\n        ],\n        \"semantic_type\": \"\",\n        \"description\": \"\"\n      }\n    },\n    {\n      \"column\": \"Call_Price\",\n      \"properties\": {\n        \"dtype\": \"number\",\n        \"std\": 0.0,\n        \"min\": 15.75,\n        \"max\": 15.75,\n        \"num_unique_values\": 1,\n        \"samples\": [\n          15.75\n        ],\n        \"semantic_type\": \"\",\n        \"description\": \"\"\n      }\n    },\n    {\n      \"column\": \"Delta\",\n      \"properties\": {\n        \"dtype\": \"number\",\n        \"std\": 0.00019377588547933654,\n        \"min\": 0.561263361055655,\n        \"max\": 0.5615989907345869,\n        \"num_unique_values\": 2,\n        \"samples\": [\n          0.5615989907345869\n        ],\n        \"semantic_type\": \"\",\n        \"description\": \"\"\n      }\n    },\n    {\n      \"column\": \"Wealth\",\n      \"properties\": {\n        \"dtype\": \"number\",\n        \"std\": 8.601444417145398e-05,\n        \"min\": 15.74985101861251,\n        \"max\": 15.75,\n        \"num_unique_values\": 2,\n        \"samples\": [\n          15.74985101861251\n        ],\n        \"semantic_type\": \"\",\n        \"description\": \"\"\n      }\n    },\n    {\n      \"column\": \"Profit_without_Hedging\",\n      \"properties\": {\n        \"dtype\": \"number\",\n        \"std\": 0.0,\n        \"min\": 0.0,\n        \"max\": 0.0,\n        \"num_unique_values\": 1,\n        \"samples\": [\n          0.0\n        ],\n        \"semantic_type\": \"\",\n        \"description\": \"\"\n      }\n    },\n    {\n      \"column\": \"Profit_with_Hedging\",\n      \"properties\": {\n        \"dtype\": \"number\",\n        \"std\": 8.60144513942473e-05,\n        \"min\": -0.0001489814,\n        \"max\": 0.0,\n        \"num_unique_values\": 2,\n        \"samples\": [\n          -0.0001489814\n        ],\n        \"semantic_type\": \"\",\n        \"description\": \"\"\n      }\n    }\n  ]\n}"
            }
          },
          "metadata": {},
          "execution_count": 118
        }
      ],
      "source": [
        "#add new row\n",
        "row = [date, maturity, S, K, new_amount, r, y, vol, bsm_price, call_price, new_delta, portfolio, profit_without_hedge, profit]\n",
        "\n",
        "df.loc[len(df.index)] = row\n",
        "df.head()"
      ]
    },
    {
      "cell_type": "code",
      "execution_count": null,
      "metadata": {
        "colab": {
          "base_uri": "https://localhost:8080/",
          "height": 17
        },
        "id": "iWgFzbJ4CW7o",
        "outputId": "20bdb06e-2b9f-46fc-c453-93fa03989768"
      },
      "outputs": [
        {
          "data": {
            "application/javascript": [
              "\n",
              "    async function download(id, filename, size) {\n",
              "      if (!google.colab.kernel.accessAllowed) {\n",
              "        return;\n",
              "      }\n",
              "      const div = document.createElement('div');\n",
              "      const label = document.createElement('label');\n",
              "      label.textContent = `Downloading \"${filename}\": `;\n",
              "      div.appendChild(label);\n",
              "      const progress = document.createElement('progress');\n",
              "      progress.max = size;\n",
              "      div.appendChild(progress);\n",
              "      document.body.appendChild(div);\n",
              "\n",
              "      const buffers = [];\n",
              "      let downloaded = 0;\n",
              "\n",
              "      const channel = await google.colab.kernel.comms.open(id);\n",
              "      // Send a message to notify the kernel that we're ready.\n",
              "      channel.send({})\n",
              "\n",
              "      for await (const message of channel.messages) {\n",
              "        // Send a message to notify the kernel that we're ready.\n",
              "        channel.send({})\n",
              "        if (message.buffers) {\n",
              "          for (const buffer of message.buffers) {\n",
              "            buffers.push(buffer);\n",
              "            downloaded += buffer.byteLength;\n",
              "            progress.value = downloaded;\n",
              "          }\n",
              "        }\n",
              "      }\n",
              "      const blob = new Blob(buffers, {type: 'application/binary'});\n",
              "      const a = document.createElement('a');\n",
              "      a.href = window.URL.createObjectURL(blob);\n",
              "      a.download = filename;\n",
              "      div.appendChild(a);\n",
              "      a.click();\n",
              "      div.remove();\n",
              "    }\n",
              "  "
            ],
            "text/plain": [
              "<IPython.core.display.Javascript object>"
            ]
          },
          "metadata": {},
          "output_type": "display_data"
        },
        {
          "data": {
            "application/javascript": [
              "download(\"download_cfebe390-78c9-4db9-bb22-cf6216a23577\", \"NVDA.csv\", 524)"
            ],
            "text/plain": [
              "<IPython.core.display.Javascript object>"
            ]
          },
          "metadata": {},
          "output_type": "display_data"
        }
      ],
      "source": [
        "from google.colab import files\n",
        "df.to_csv('NVDA.csv', date_format='%Y-%m-%d %H:%M:%S', index = False)\n",
        "files.download(\"NVDA.csv\")\n",
        "\n",
        "#delete last row\n",
        "# df = df[:-1]\n",
        "# df.head()"
      ]
    },
    {
      "cell_type": "markdown",
      "metadata": {
        "id": "4pB9pNnZDhcz"
      },
      "source": [
        "# **Scripting**"
      ]
    },
    {
      "cell_type": "code",
      "execution_count": null,
      "metadata": {
        "id": "6QW87m2SFGvP"
      },
      "outputs": [],
      "source": [
        "#connect to Azure SQL server using pyodbc\n",
        "server = '*****.database.windows.net'\n",
        "database = '*****'\n",
        "username = '*****'\n",
        "password = '*****'\n",
        "cnxn = pyodbc.connect('DRIVER={ODBC Driver 17 for SQL Server};SERVER='+server+';DATABASE='+database+';UID='+username+';PWD='+ password)\n",
        "cursor = cnxn.cursor()\n",
        "\n",
        "#delete data in table\n",
        "cursor.execute('''TRUNCATE TABLE dbo.NVDA''')\n",
        "\n",
        "#execute command\n",
        "cnxn.commit()"
      ]
    },
    {
      "cell_type": "code",
      "execution_count": null,
      "metadata": {
        "id": "TW43BOhSFGlC"
      },
      "outputs": [],
      "source": [
        "#export csv file\n",
        "df.to_csv(r'/home/briansim74/Desktop/NVDA.csv', index = False)"
      ]
    },
    {
      "cell_type": "code",
      "execution_count": null,
      "metadata": {
        "id": "3pRXL9sVu9kU"
      },
      "outputs": [],
      "source": [
        "#BCP utility bulk insert updated CSV file into SQL server\n",
        "os.system('/opt/mssql-tools18/bin/bcp dbo.NVDA in \"/home/briansim74/Desktop/NVDA.csv\" -S *****.database.windows.net -d ***** -U ***** -P ***** -c -F 2 -t \",\" -r \"0x0a\"')"
      ]
    },
    {
      "cell_type": "code",
      "execution_count": null,
      "metadata": {
        "id": "mCzG_ytwPK6l"
      },
      "outputs": [],
      "source": [
        "#close cursor\n",
        "cursor.close()"
      ]
    },
    {
      "cell_type": "code",
      "execution_count": null,
      "metadata": {
        "id": "We3wIM5ju--4"
      },
      "outputs": [],
      "source": [
        "#quit driver\n",
        "driver.quit()"
      ]
    }
  ],
  "metadata": {
    "colab": {
      "provenance": []
    },
    "kernelspec": {
      "display_name": "Python 3",
      "name": "python3"
    },
    "language_info": {
      "name": "python"
    }
  },
  "nbformat": 4,
  "nbformat_minor": 0
}
